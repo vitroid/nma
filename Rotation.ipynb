{
 "cells": [
  {
   "cell_type": "code",
   "execution_count": 59,
   "metadata": {},
   "outputs": [],
   "source": [
    "from sympy import *\n",
    "\n",
    "a, c, b=symbols('a c b')"
   ]
  },
  {
   "cell_type": "code",
   "execution_count": 60,
   "metadata": {},
   "outputs": [],
   "source": [
    "B = Matrix([[ cos(c),sin(c),0],\n",
    "            [-sin(c),cos(c),0],\n",
    "            [0,0,1]])\n",
    "C = Matrix([[1,0,0],\n",
    "            [0, cos(a),sin(a)],\n",
    "            [0,-sin(a),cos(a)]])\n",
    "D = Matrix([[ cos(b),sin(b),0],\n",
    "            [-sin(b),cos(b),0],\n",
    "            [0,0,1]])"
   ]
  },
  {
   "cell_type": "code",
   "execution_count": 61,
   "metadata": {},
   "outputs": [],
   "source": [
    "A=B*C*D\n",
    "AI=A.T"
   ]
  },
  {
   "cell_type": "code",
   "execution_count": 62,
   "metadata": {},
   "outputs": [
    {
     "data": {
      "text/plain": [
       "Matrix([\n",
       "[-sin(b)*sin(c)*cos(a) + cos(b)*cos(c), -sin(b)*cos(a)*cos(c) - sin(c)*cos(b),  sin(a)*sin(b)],\n",
       "[ sin(b)*cos(c) + sin(c)*cos(a)*cos(b), -sin(b)*sin(c) + cos(a)*cos(b)*cos(c), -sin(a)*cos(b)],\n",
       "[                        sin(a)*sin(c),                         sin(a)*cos(c),         cos(a)]])"
      ]
     },
     "execution_count": 62,
     "metadata": {},
     "output_type": "execute_result"
    }
   ],
   "source": [
    "AI"
   ]
  },
  {
   "cell_type": "code",
   "execution_count": 63,
   "metadata": {},
   "outputs": [
    {
     "data": {
      "text/plain": [
       "Matrix([\n",
       "[ sin(a)*sin(b)*sin(c),  sin(a)*sin(b)*cos(c),  sin(b)*cos(a)],\n",
       "[-sin(a)*sin(c)*cos(b), -sin(a)*cos(b)*cos(c), -cos(a)*cos(b)],\n",
       "[        sin(c)*cos(a),         cos(a)*cos(c),        -sin(a)]])"
      ]
     },
     "execution_count": 63,
     "metadata": {},
     "output_type": "execute_result"
    }
   ],
   "source": [
    "diff(AI,a)"
   ]
  },
  {
   "cell_type": "code",
   "execution_count": 64,
   "metadata": {},
   "outputs": [
    {
     "data": {
      "text/plain": [
       "Matrix([\n",
       "[-sin(b)*cos(a)*cos(c) - sin(c)*cos(b),  sin(b)*sin(c)*cos(a) - cos(b)*cos(c), 0],\n",
       "[-sin(b)*sin(c) + cos(a)*cos(b)*cos(c), -sin(b)*cos(c) - sin(c)*cos(a)*cos(b), 0],\n",
       "[                        sin(a)*cos(c),                        -sin(a)*sin(c), 0]])"
      ]
     },
     "execution_count": 64,
     "metadata": {},
     "output_type": "execute_result"
    }
   ],
   "source": [
    "diff(AI,c)"
   ]
  },
  {
   "cell_type": "code",
   "execution_count": 65,
   "metadata": {},
   "outputs": [
    {
     "data": {
      "text/plain": [
       "Matrix([\n",
       "[-sin(b)*cos(c) - sin(c)*cos(a)*cos(b),  sin(b)*sin(c) - cos(a)*cos(b)*cos(c), sin(a)*cos(b)],\n",
       "[-sin(b)*sin(c)*cos(a) + cos(b)*cos(c), -sin(b)*cos(a)*cos(c) - sin(c)*cos(b), sin(a)*sin(b)],\n",
       "[                                    0,                                     0,             0]])"
      ]
     },
     "execution_count": 65,
     "metadata": {},
     "output_type": "execute_result"
    }
   ],
   "source": [
    "diff(AI,b)"
   ]
  },
  {
   "cell_type": "code",
   "execution_count": 66,
   "metadata": {},
   "outputs": [
    {
     "data": {
      "text/plain": [
       "Matrix([\n",
       "[ sin(b)*sin(c)*cos(a),  sin(b)*cos(a)*cos(c), -sin(a)*sin(b)],\n",
       "[-sin(c)*cos(a)*cos(b), -cos(a)*cos(b)*cos(c),  sin(a)*cos(b)],\n",
       "[       -sin(a)*sin(c),        -sin(a)*cos(c),        -cos(a)]])"
      ]
     },
     "execution_count": 66,
     "metadata": {},
     "output_type": "execute_result"
    }
   ],
   "source": [
    "diff(AI,(a,2))"
   ]
  },
  {
   "cell_type": "code",
   "execution_count": 67,
   "metadata": {},
   "outputs": [
    {
     "data": {
      "text/plain": [
       "Matrix([\n",
       "[   sin(b)*sin(c)*cos(a) - cos(b)*cos(c), sin(b)*cos(a)*cos(c) + sin(c)*cos(b), 0],\n",
       "[-(sin(b)*cos(c) + sin(c)*cos(a)*cos(b)), sin(b)*sin(c) - cos(a)*cos(b)*cos(c), 0],\n",
       "[                         -sin(a)*sin(c),                       -sin(a)*cos(c), 0]])"
      ]
     },
     "execution_count": 67,
     "metadata": {},
     "output_type": "execute_result"
    }
   ],
   "source": [
    "diff(AI,(c,2))"
   ]
  },
  {
   "cell_type": "code",
   "execution_count": 68,
   "metadata": {},
   "outputs": [
    {
     "data": {
      "text/plain": [
       "Matrix([\n",
       "[   sin(b)*sin(c)*cos(a) - cos(b)*cos(c), sin(b)*cos(a)*cos(c) + sin(c)*cos(b), -sin(a)*sin(b)],\n",
       "[-(sin(b)*cos(c) + sin(c)*cos(a)*cos(b)), sin(b)*sin(c) - cos(a)*cos(b)*cos(c),  sin(a)*cos(b)],\n",
       "[                                      0,                                    0,              0]])"
      ]
     },
     "execution_count": 68,
     "metadata": {},
     "output_type": "execute_result"
    }
   ],
   "source": [
    "diff(AI,(b,2))"
   ]
  },
  {
   "cell_type": "code",
   "execution_count": 69,
   "metadata": {},
   "outputs": [
    {
     "data": {
      "text/plain": [
       "Matrix([\n",
       "[sin(a)*sin(c)*cos(b), sin(a)*cos(b)*cos(c), cos(a)*cos(b)],\n",
       "[sin(a)*sin(b)*sin(c), sin(a)*sin(b)*cos(c), sin(b)*cos(a)],\n",
       "[                   0,                    0,             0]])"
      ]
     },
     "execution_count": 69,
     "metadata": {},
     "output_type": "execute_result"
    }
   ],
   "source": [
    "diff(AI,b,a)"
   ]
  },
  {
   "cell_type": "code",
   "execution_count": 70,
   "metadata": {},
   "outputs": [
    {
     "data": {
      "text/plain": [
       "Matrix([\n",
       "[ sin(a)*sin(b)*cos(c), -sin(a)*sin(b)*sin(c), 0],\n",
       "[-sin(a)*cos(b)*cos(c),  sin(a)*sin(c)*cos(b), 0],\n",
       "[        cos(a)*cos(c),        -sin(c)*cos(a), 0]])"
      ]
     },
     "execution_count": 70,
     "metadata": {},
     "output_type": "execute_result"
    }
   ],
   "source": [
    "diff(AI,c,a)"
   ]
  },
  {
   "cell_type": "code",
   "execution_count": 71,
   "metadata": {},
   "outputs": [
    {
     "data": {
      "text/plain": [
       "Matrix([\n",
       "[   sin(b)*sin(c) - cos(a)*cos(b)*cos(c), sin(b)*cos(c) + sin(c)*cos(a)*cos(b), 0],\n",
       "[-(sin(b)*cos(a)*cos(c) + sin(c)*cos(b)), sin(b)*sin(c)*cos(a) - cos(b)*cos(c), 0],\n",
       "[                                      0,                                    0, 0]])"
      ]
     },
     "execution_count": 71,
     "metadata": {},
     "output_type": "execute_result"
    }
   ],
   "source": [
    "diff(AI,c,b)"
   ]
  },
  {
   "cell_type": "code",
   "execution_count": 78,
   "metadata": {},
   "outputs": [
    {
     "name": "stdout",
     "output_type": "stream",
     "text": [
      "!******************************************************************************\n",
      "!*                       Code generated with sympy 1.3                        *\n",
      "!*                                                                            *\n",
      "!*              See http://www.sympy.org/ for more information.               *\n",
      "!*                                                                            *\n",
      "!*                       This file is part of 'project'                       *\n",
      "!******************************************************************************\n",
      "\n",
      "subroutine Ainv(a, b, c, out_1881939183514857061)\n",
      "implicit none\n",
      "REAL*8, intent(in) :: a\n",
      "REAL*8, intent(in) :: b\n",
      "REAL*8, intent(in) :: c\n",
      "REAL*8, intent(out), dimension(1:3, 1:3) :: out_1881939183514857061\n",
      "\n",
      "out_1881939183514857061(1, 1) = -sin(b)*sin(c)*cos(a) + cos(b)*cos(c)\n",
      "out_1881939183514857061(2, 1) = sin(b)*cos(c) + sin(c)*cos(a)*cos(b)\n",
      "out_1881939183514857061(3, 1) = sin(a)*sin(c)\n",
      "out_1881939183514857061(1, 2) = -sin(b)*cos(a)*cos(c) - sin(c)*cos(b)\n",
      "out_1881939183514857061(2, 2) = -sin(b)*sin(c) + cos(a)*cos(b)*cos(c)\n",
      "out_1881939183514857061(3, 2) = sin(a)*cos(c)\n",
      "out_1881939183514857061(1, 3) = sin(a)*sin(b)\n",
      "out_1881939183514857061(2, 3) = -sin(a)*cos(b)\n",
      "out_1881939183514857061(3, 3) = cos(a)\n",
      "\n",
      "end subroutine\n",
      "\n"
     ]
    }
   ],
   "source": [
    "from sympy.utilities.codegen import codegen\n",
    "result = codegen(('Ainv', AI), 'f95')\n",
    "print(result[0][1])"
   ]
  },
  {
   "cell_type": "markdown",
   "metadata": {},
   "source": [
    "意外にも、codegenはPython出力には対応していない。"
   ]
  },
  {
   "cell_type": "code",
   "execution_count": 77,
   "metadata": {},
   "outputs": [
    {
     "ename": "ValueError",
     "evalue": "Language 'Python' is not supported.",
     "output_type": "error",
     "traceback": [
      "\u001b[0;31m---------------------------------------------------------------------------\u001b[0m",
      "\u001b[0;31mValueError\u001b[0m                                Traceback (most recent call last)",
      "\u001b[0;32m<ipython-input-77-5dba6bccd9fb>\u001b[0m in \u001b[0;36m<module>\u001b[0;34m\u001b[0m\n\u001b[1;32m      1\u001b[0m \u001b[0;32mfrom\u001b[0m \u001b[0msympy\u001b[0m\u001b[0;34m.\u001b[0m\u001b[0mutilities\u001b[0m\u001b[0;34m.\u001b[0m\u001b[0mcodegen\u001b[0m \u001b[0;32mimport\u001b[0m \u001b[0mcodegen\u001b[0m\u001b[0;34m\u001b[0m\u001b[0m\n\u001b[0;32m----> 2\u001b[0;31m \u001b[0mresult\u001b[0m \u001b[0;34m=\u001b[0m \u001b[0mcodegen\u001b[0m\u001b[0;34m(\u001b[0m\u001b[0;34m(\u001b[0m\u001b[0;34m'Ainv'\u001b[0m\u001b[0;34m,\u001b[0m \u001b[0mAI\u001b[0m\u001b[0;34m)\u001b[0m\u001b[0;34m,\u001b[0m \u001b[0;34m'Python'\u001b[0m\u001b[0;34m)\u001b[0m\u001b[0;34m\u001b[0m\u001b[0m\n\u001b[0m\u001b[1;32m      3\u001b[0m \u001b[0mprint\u001b[0m\u001b[0;34m(\u001b[0m\u001b[0mresult\u001b[0m\u001b[0;34m[\u001b[0m\u001b[0;36m0\u001b[0m\u001b[0;34m]\u001b[0m\u001b[0;34m[\u001b[0m\u001b[0;36m1\u001b[0m\u001b[0;34m]\u001b[0m\u001b[0;34m)\u001b[0m\u001b[0;34m\u001b[0m\u001b[0m\n",
      "\u001b[0;32m~/anaconda3/lib/python3.6/site-packages/sympy/utilities/codegen.py\u001b[0m in \u001b[0;36mcodegen\u001b[0;34m(name_expr, language, prefix, project, to_files, header, empty, argument_sequence, global_vars, standard, code_gen, printer)\u001b[0m\n\u001b[1;32m   2104\u001b[0m         \u001b[0;32mif\u001b[0m \u001b[0mcode_gen\u001b[0m \u001b[0;32mis\u001b[0m \u001b[0;32mnot\u001b[0m \u001b[0;32mNone\u001b[0m\u001b[0;34m:\u001b[0m\u001b[0;34m\u001b[0m\u001b[0m\n\u001b[1;32m   2105\u001b[0m             \u001b[0;32mraise\u001b[0m \u001b[0mValueError\u001b[0m\u001b[0;34m(\u001b[0m\u001b[0;34m\"You cannot specify both language and code_gen.\"\u001b[0m\u001b[0;34m)\u001b[0m\u001b[0;34m\u001b[0m\u001b[0m\n\u001b[0;32m-> 2106\u001b[0;31m         \u001b[0mcode_gen\u001b[0m \u001b[0;34m=\u001b[0m \u001b[0mget_code_generator\u001b[0m\u001b[0;34m(\u001b[0m\u001b[0mlanguage\u001b[0m\u001b[0;34m,\u001b[0m \u001b[0mproject\u001b[0m\u001b[0;34m,\u001b[0m \u001b[0mstandard\u001b[0m\u001b[0;34m,\u001b[0m \u001b[0mprinter\u001b[0m\u001b[0;34m)\u001b[0m\u001b[0;34m\u001b[0m\u001b[0m\n\u001b[0m\u001b[1;32m   2107\u001b[0m \u001b[0;34m\u001b[0m\u001b[0m\n\u001b[1;32m   2108\u001b[0m     \u001b[0;32mif\u001b[0m \u001b[0misinstance\u001b[0m\u001b[0;34m(\u001b[0m\u001b[0mname_expr\u001b[0m\u001b[0;34m[\u001b[0m\u001b[0;36m0\u001b[0m\u001b[0;34m]\u001b[0m\u001b[0;34m,\u001b[0m \u001b[0mstring_types\u001b[0m\u001b[0;34m)\u001b[0m\u001b[0;34m:\u001b[0m\u001b[0;34m\u001b[0m\u001b[0m\n",
      "\u001b[0;32m~/anaconda3/lib/python3.6/site-packages/sympy/utilities/codegen.py\u001b[0m in \u001b[0;36mget_code_generator\u001b[0;34m(language, project, standard, printer)\u001b[0m\n\u001b[1;32m   1959\u001b[0m                     \"RUST\": RustCodeGen}.get(language.upper())\n\u001b[1;32m   1960\u001b[0m     \u001b[0;32mif\u001b[0m \u001b[0mCodeGenClass\u001b[0m \u001b[0;32mis\u001b[0m \u001b[0;32mNone\u001b[0m\u001b[0;34m:\u001b[0m\u001b[0;34m\u001b[0m\u001b[0m\n\u001b[0;32m-> 1961\u001b[0;31m         \u001b[0;32mraise\u001b[0m \u001b[0mValueError\u001b[0m\u001b[0;34m(\u001b[0m\u001b[0;34m\"Language '%s' is not supported.\"\u001b[0m \u001b[0;34m%\u001b[0m \u001b[0mlanguage\u001b[0m\u001b[0;34m)\u001b[0m\u001b[0;34m\u001b[0m\u001b[0m\n\u001b[0m\u001b[1;32m   1962\u001b[0m     \u001b[0;32mreturn\u001b[0m \u001b[0mCodeGenClass\u001b[0m\u001b[0;34m(\u001b[0m\u001b[0mproject\u001b[0m\u001b[0;34m,\u001b[0m \u001b[0mprinter\u001b[0m\u001b[0;34m)\u001b[0m\u001b[0;34m\u001b[0m\u001b[0m\n\u001b[1;32m   1963\u001b[0m \u001b[0;34m\u001b[0m\u001b[0m\n",
      "\u001b[0;31mValueError\u001b[0m: Language 'Python' is not supported."
     ]
    }
   ],
   "source": [
    "from sympy.utilities.codegen import codegen\n",
    "result = codegen(('Ainv', AI), 'Python')\n",
    "print(result[0][1])"
   ]
  },
  {
   "cell_type": "code",
   "execution_count": 74,
   "metadata": {},
   "outputs": [
    {
     "data": {
      "text/plain": [
       "False"
      ]
     },
     "execution_count": 74,
     "metadata": {},
     "output_type": "execute_result"
    }
   ],
   "source": [
    "R"
   ]
  },
  {
   "cell_type": "code",
   "execution_count": null,
   "metadata": {},
   "outputs": [],
   "source": []
  }
 ],
 "metadata": {
  "kernelspec": {
   "display_name": "Python 3",
   "language": "python",
   "name": "python3"
  },
  "language_info": {
   "codemirror_mode": {
    "name": "ipython",
    "version": 3
   },
   "file_extension": ".py",
   "mimetype": "text/x-python",
   "name": "python",
   "nbconvert_exporter": "python",
   "pygments_lexer": "ipython3",
   "version": "3.6.5"
  }
 },
 "nbformat": 4,
 "nbformat_minor": 2
}
