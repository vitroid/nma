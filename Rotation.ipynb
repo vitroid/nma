{
 "cells": [
  {
   "cell_type": "code",
   "execution_count": 59,
   "metadata": {},
   "outputs": [],
   "source": [
    "from sympy import *\n",
    "\n",
    "a, c, b=symbols('a c b')"
   ]
  },
  {
   "cell_type": "code",
   "execution_count": 60,
   "metadata": {},
   "outputs": [],
   "source": [
    "B = Matrix([[ cos(c),sin(c),0],\n",
    "            [-sin(c),cos(c),0],\n",
    "            [0,0,1]])\n",
    "C = Matrix([[1,0,0],\n",
    "            [0, cos(a),sin(a)],\n",
    "            [0,-sin(a),cos(a)]])\n",
    "D = Matrix([[ cos(b),sin(b),0],\n",
    "            [-sin(b),cos(b),0],\n",
    "            [0,0,1]])"
   ]
  },
  {
   "cell_type": "code",
   "execution_count": 61,
   "metadata": {},
   "outputs": [],
   "source": [
    "A=B*C*D\n",
    "AI=A.T"
   ]
  },
  {
   "cell_type": "code",
   "execution_count": 62,
   "metadata": {},
   "outputs": [
    {
     "data": {
      "text/plain": [
       "Matrix([\n",
       "[-sin(b)*sin(c)*cos(a) + cos(b)*cos(c), -sin(b)*cos(a)*cos(c) - sin(c)*cos(b),  sin(a)*sin(b)],\n",
       "[ sin(b)*cos(c) + sin(c)*cos(a)*cos(b), -sin(b)*sin(c) + cos(a)*cos(b)*cos(c), -sin(a)*cos(b)],\n",
       "[                        sin(a)*sin(c),                         sin(a)*cos(c),         cos(a)]])"
      ]
     },
     "execution_count": 62,
     "metadata": {},
     "output_type": "execute_result"
    }
   ],
   "source": [
    "AI"
   ]
  },
  {
   "cell_type": "code",
   "execution_count": 63,
   "metadata": {},
   "outputs": [
    {
     "data": {
      "text/plain": [
       "Matrix([\n",
       "[ sin(a)*sin(b)*sin(c),  sin(a)*sin(b)*cos(c),  sin(b)*cos(a)],\n",
       "[-sin(a)*sin(c)*cos(b), -sin(a)*cos(b)*cos(c), -cos(a)*cos(b)],\n",
       "[        sin(c)*cos(a),         cos(a)*cos(c),        -sin(a)]])"
      ]
     },
     "execution_count": 63,
     "metadata": {},
     "output_type": "execute_result"
    }
   ],
   "source": [
    "diff(AI,a)"
   ]
  },
  {
   "cell_type": "code",
   "execution_count": 64,
   "metadata": {},
   "outputs": [
    {
     "data": {
      "text/plain": [
       "Matrix([\n",
       "[-sin(b)*cos(a)*cos(c) - sin(c)*cos(b),  sin(b)*sin(c)*cos(a) - cos(b)*cos(c), 0],\n",
       "[-sin(b)*sin(c) + cos(a)*cos(b)*cos(c), -sin(b)*cos(c) - sin(c)*cos(a)*cos(b), 0],\n",
       "[                        sin(a)*cos(c),                        -sin(a)*sin(c), 0]])"
      ]
     },
     "execution_count": 64,
     "metadata": {},
     "output_type": "execute_result"
    }
   ],
   "source": [
    "diff(AI,c)"
   ]
  },
  {
   "cell_type": "code",
   "execution_count": 65,
   "metadata": {},
   "outputs": [
    {
     "data": {
      "text/plain": [
       "Matrix([\n",
       "[-sin(b)*cos(c) - sin(c)*cos(a)*cos(b),  sin(b)*sin(c) - cos(a)*cos(b)*cos(c), sin(a)*cos(b)],\n",
       "[-sin(b)*sin(c)*cos(a) + cos(b)*cos(c), -sin(b)*cos(a)*cos(c) - sin(c)*cos(b), sin(a)*sin(b)],\n",
       "[                                    0,                                     0,             0]])"
      ]
     },
     "execution_count": 65,
     "metadata": {},
     "output_type": "execute_result"
    }
   ],
   "source": [
    "diff(AI,b)"
   ]
  },
  {
   "cell_type": "code",
   "execution_count": 66,
   "metadata": {},
   "outputs": [
    {
     "data": {
      "text/plain": [
       "Matrix([\n",
       "[ sin(b)*sin(c)*cos(a),  sin(b)*cos(a)*cos(c), -sin(a)*sin(b)],\n",
       "[-sin(c)*cos(a)*cos(b), -cos(a)*cos(b)*cos(c),  sin(a)*cos(b)],\n",
       "[       -sin(a)*sin(c),        -sin(a)*cos(c),        -cos(a)]])"
      ]
     },
     "execution_count": 66,
     "metadata": {},
     "output_type": "execute_result"
    }
   ],
   "source": [
    "diff(AI,(a,2))"
   ]
  },
  {
   "cell_type": "code",
   "execution_count": 67,
   "metadata": {},
   "outputs": [
    {
     "data": {
      "text/plain": [
       "Matrix([\n",
       "[   sin(b)*sin(c)*cos(a) - cos(b)*cos(c), sin(b)*cos(a)*cos(c) + sin(c)*cos(b), 0],\n",
       "[-(sin(b)*cos(c) + sin(c)*cos(a)*cos(b)), sin(b)*sin(c) - cos(a)*cos(b)*cos(c), 0],\n",
       "[                         -sin(a)*sin(c),                       -sin(a)*cos(c), 0]])"
      ]
     },
     "execution_count": 67,
     "metadata": {},
     "output_type": "execute_result"
    }
   ],
   "source": [
    "diff(AI,(c,2))"
   ]
  },
  {
   "cell_type": "code",
   "execution_count": 68,
   "metadata": {},
   "outputs": [
    {
     "data": {
      "text/plain": [
       "Matrix([\n",
       "[   sin(b)*sin(c)*cos(a) - cos(b)*cos(c), sin(b)*cos(a)*cos(c) + sin(c)*cos(b), -sin(a)*sin(b)],\n",
       "[-(sin(b)*cos(c) + sin(c)*cos(a)*cos(b)), sin(b)*sin(c) - cos(a)*cos(b)*cos(c),  sin(a)*cos(b)],\n",
       "[                                      0,                                    0,              0]])"
      ]
     },
     "execution_count": 68,
     "metadata": {},
     "output_type": "execute_result"
    }
   ],
   "source": [
    "diff(AI,(b,2))"
   ]
  },
  {
   "cell_type": "code",
   "execution_count": 69,
   "metadata": {},
   "outputs": [
    {
     "data": {
      "text/plain": [
       "Matrix([\n",
       "[sin(a)*sin(c)*cos(b), sin(a)*cos(b)*cos(c), cos(a)*cos(b)],\n",
       "[sin(a)*sin(b)*sin(c), sin(a)*sin(b)*cos(c), sin(b)*cos(a)],\n",
       "[                   0,                    0,             0]])"
      ]
     },
     "execution_count": 69,
     "metadata": {},
     "output_type": "execute_result"
    }
   ],
   "source": [
    "diff(AI,b,a)"
   ]
  },
  {
   "cell_type": "code",
   "execution_count": 70,
   "metadata": {},
   "outputs": [
    {
     "data": {
      "text/plain": [
       "Matrix([\n",
       "[ sin(a)*sin(b)*cos(c), -sin(a)*sin(b)*sin(c), 0],\n",
       "[-sin(a)*cos(b)*cos(c),  sin(a)*sin(c)*cos(b), 0],\n",
       "[        cos(a)*cos(c),        -sin(c)*cos(a), 0]])"
      ]
     },
     "execution_count": 70,
     "metadata": {},
     "output_type": "execute_result"
    }
   ],
   "source": [
    "diff(AI,c,a)"
   ]
  },
  {
   "cell_type": "code",
   "execution_count": 71,
   "metadata": {},
   "outputs": [
    {
     "data": {
      "text/plain": [
       "Matrix([\n",
       "[   sin(b)*sin(c) - cos(a)*cos(b)*cos(c), sin(b)*cos(c) + sin(c)*cos(a)*cos(b), 0],\n",
       "[-(sin(b)*cos(a)*cos(c) + sin(c)*cos(b)), sin(b)*sin(c)*cos(a) - cos(b)*cos(c), 0],\n",
       "[                                      0,                                    0, 0]])"
      ]
     },
     "execution_count": 71,
     "metadata": {},
     "output_type": "execute_result"
    }
   ],
   "source": [
    "diff(AI,c,b)"
   ]
  },
  {
   "cell_type": "code",
   "execution_count": 84,
   "metadata": {},
   "outputs": [],
   "source": []
  },
  {
   "cell_type": "markdown",
   "metadata": {},
   "source": [
    "意外にも、codegenはPython出力には対応していないが、sympyの出力はnumpyの書式にそっくりなので、コピペで対応してもしれている。"
   ]
  },
  {
   "cell_type": "code",
   "execution_count": 79,
   "metadata": {},
   "outputs": [
    {
     "data": {
      "text/plain": [
       "\u001b[0;31mSignature:\u001b[0m\n",
       "\u001b[0mcodegen\u001b[0m\u001b[0;34m(\u001b[0m\u001b[0;34m\u001b[0m\n",
       "\u001b[0;34m\u001b[0m    \u001b[0mname_expr\u001b[0m\u001b[0;34m,\u001b[0m\u001b[0;34m\u001b[0m\n",
       "\u001b[0;34m\u001b[0m    \u001b[0mlanguage\u001b[0m\u001b[0;34m=\u001b[0m\u001b[0;32mNone\u001b[0m\u001b[0;34m,\u001b[0m\u001b[0;34m\u001b[0m\n",
       "\u001b[0;34m\u001b[0m    \u001b[0mprefix\u001b[0m\u001b[0;34m=\u001b[0m\u001b[0;32mNone\u001b[0m\u001b[0;34m,\u001b[0m\u001b[0;34m\u001b[0m\n",
       "\u001b[0;34m\u001b[0m    \u001b[0mproject\u001b[0m\u001b[0;34m=\u001b[0m\u001b[0;34m'project'\u001b[0m\u001b[0;34m,\u001b[0m\u001b[0;34m\u001b[0m\n",
       "\u001b[0;34m\u001b[0m    \u001b[0mto_files\u001b[0m\u001b[0;34m=\u001b[0m\u001b[0;32mFalse\u001b[0m\u001b[0;34m,\u001b[0m\u001b[0;34m\u001b[0m\n",
       "\u001b[0;34m\u001b[0m    \u001b[0mheader\u001b[0m\u001b[0;34m=\u001b[0m\u001b[0;32mTrue\u001b[0m\u001b[0;34m,\u001b[0m\u001b[0;34m\u001b[0m\n",
       "\u001b[0;34m\u001b[0m    \u001b[0mempty\u001b[0m\u001b[0;34m=\u001b[0m\u001b[0;32mTrue\u001b[0m\u001b[0;34m,\u001b[0m\u001b[0;34m\u001b[0m\n",
       "\u001b[0;34m\u001b[0m    \u001b[0margument_sequence\u001b[0m\u001b[0;34m=\u001b[0m\u001b[0;32mNone\u001b[0m\u001b[0;34m,\u001b[0m\u001b[0;34m\u001b[0m\n",
       "\u001b[0;34m\u001b[0m    \u001b[0mglobal_vars\u001b[0m\u001b[0;34m=\u001b[0m\u001b[0;32mNone\u001b[0m\u001b[0;34m,\u001b[0m\u001b[0;34m\u001b[0m\n",
       "\u001b[0;34m\u001b[0m    \u001b[0mstandard\u001b[0m\u001b[0;34m=\u001b[0m\u001b[0;32mNone\u001b[0m\u001b[0;34m,\u001b[0m\u001b[0;34m\u001b[0m\n",
       "\u001b[0;34m\u001b[0m    \u001b[0mcode_gen\u001b[0m\u001b[0;34m=\u001b[0m\u001b[0;32mNone\u001b[0m\u001b[0;34m,\u001b[0m\u001b[0;34m\u001b[0m\n",
       "\u001b[0;34m\u001b[0m    \u001b[0mprinter\u001b[0m\u001b[0;34m=\u001b[0m\u001b[0;32mNone\u001b[0m\u001b[0;34m,\u001b[0m\u001b[0;34m\u001b[0m\n",
       "\u001b[0;34m\u001b[0m\u001b[0;34m)\u001b[0m\u001b[0;34m\u001b[0m\u001b[0m\n",
       "\u001b[0;31mDocstring:\u001b[0m\n",
       "Generate source code for expressions in a given language.\n",
       "\n",
       "Parameters\n",
       "==========\n",
       "\n",
       "name_expr : tuple, or list of tuples\n",
       "    A single (name, expression) tuple or a list of (name, expression)\n",
       "    tuples.  Each tuple corresponds to a routine.  If the expression is\n",
       "    an equality (an instance of class Equality) the left hand side is\n",
       "    considered an output argument.  If expression is an iterable, then\n",
       "    the routine will have multiple outputs.\n",
       "\n",
       "language : string,\n",
       "    A string that indicates the source code language.  This is case\n",
       "    insensitive.  Currently, 'C', 'F95' and 'Octave' are supported.\n",
       "    'Octave' generates code compatible with both Octave and Matlab.\n",
       "\n",
       "prefix : string, optional\n",
       "    A prefix for the names of the files that contain the source code.\n",
       "    Language-dependent suffixes will be appended.  If omitted, the name\n",
       "    of the first name_expr tuple is used.\n",
       "\n",
       "project : string, optional\n",
       "    A project name, used for making unique preprocessor instructions.\n",
       "    [default: \"project\"]\n",
       "\n",
       "to_files : bool, optional\n",
       "    When True, the code will be written to one or more files with the\n",
       "    given prefix, otherwise strings with the names and contents of\n",
       "    these files are returned. [default: False]\n",
       "\n",
       "header : bool, optional\n",
       "    When True, a header is written on top of each source file.\n",
       "    [default: True]\n",
       "\n",
       "empty : bool, optional\n",
       "    When True, empty lines are used to structure the code.\n",
       "    [default: True]\n",
       "\n",
       "argument_sequence : iterable, optional\n",
       "    Sequence of arguments for the routine in a preferred order.  A\n",
       "    CodeGenError is raised if required arguments are missing.\n",
       "    Redundant arguments are used without warning.  If omitted,\n",
       "    arguments will be ordered alphabetically, but with all input\n",
       "    arguments first, and then output or in-out arguments.\n",
       "\n",
       "global_vars : iterable, optional\n",
       "    Sequence of global variables used by the routine.  Variables\n",
       "    listed here will not show up as function arguments.\n",
       "\n",
       "standard : string\n",
       "\n",
       "code_gen : CodeGen instance\n",
       "    An instance of a CodeGen subclass. Overrides ``language``.\n",
       "\n",
       "Examples\n",
       "========\n",
       "\n",
       ">>> from sympy.utilities.codegen import codegen\n",
       ">>> from sympy.abc import x, y, z\n",
       ">>> [(c_name, c_code), (h_name, c_header)] = codegen(\n",
       "...     (\"f\", x+y*z), \"C89\", \"test\", header=False, empty=False)\n",
       ">>> print(c_name)\n",
       "test.c\n",
       ">>> print(c_code)\n",
       "#include \"test.h\"\n",
       "#include <math.h>\n",
       "double f(double x, double y, double z) {\n",
       "   double f_result;\n",
       "   f_result = x + y*z;\n",
       "   return f_result;\n",
       "}\n",
       "<BLANKLINE>\n",
       ">>> print(h_name)\n",
       "test.h\n",
       ">>> print(c_header)\n",
       "#ifndef PROJECT__TEST__H\n",
       "#define PROJECT__TEST__H\n",
       "double f(double x, double y, double z);\n",
       "#endif\n",
       "<BLANKLINE>\n",
       "\n",
       "Another example using Equality objects to give named outputs.  Here the\n",
       "filename (prefix) is taken from the first (name, expr) pair.\n",
       "\n",
       ">>> from sympy.abc import f, g\n",
       ">>> from sympy import Eq\n",
       ">>> [(c_name, c_code), (h_name, c_header)] = codegen(\n",
       "...      [(\"myfcn\", x + y), (\"fcn2\", [Eq(f, 2*x), Eq(g, y)])],\n",
       "...      \"C99\", header=False, empty=False)\n",
       ">>> print(c_name)\n",
       "myfcn.c\n",
       ">>> print(c_code)\n",
       "#include \"myfcn.h\"\n",
       "#include <math.h>\n",
       "double myfcn(double x, double y) {\n",
       "   double myfcn_result;\n",
       "   myfcn_result = x + y;\n",
       "   return myfcn_result;\n",
       "}\n",
       "void fcn2(double x, double y, double *f, double *g) {\n",
       "   (*f) = 2*x;\n",
       "   (*g) = y;\n",
       "}\n",
       "<BLANKLINE>\n",
       "\n",
       "If the generated function(s) will be part of a larger project where various\n",
       "global variables have been defined, the 'global_vars' option can be used\n",
       "to remove the specified variables from the function signature\n",
       "\n",
       ">>> from sympy.utilities.codegen import codegen\n",
       ">>> from sympy.abc import x, y, z\n",
       ">>> [(f_name, f_code), header] = codegen(\n",
       "...     (\"f\", x+y*z), \"F95\", header=False, empty=False,\n",
       "...     argument_sequence=(x, y), global_vars=(z,))\n",
       ">>> print(f_code)\n",
       "REAL*8 function f(x, y)\n",
       "implicit none\n",
       "REAL*8, intent(in) :: x\n",
       "REAL*8, intent(in) :: y\n",
       "f = x + y*z\n",
       "end function\n",
       "<BLANKLINE>\n",
       "\u001b[0;31mFile:\u001b[0m      ~/anaconda3/lib/python3.6/site-packages/sympy/utilities/codegen.py\n",
       "\u001b[0;31mType:\u001b[0m      function\n"
      ]
     },
     "metadata": {},
     "output_type": "display_data"
    }
   ],
   "source": [
    "codegen?"
   ]
  },
  {
   "cell_type": "code",
   "execution_count": null,
   "metadata": {},
   "outputs": [],
   "source": []
  }
 ],
 "metadata": {
  "kernelspec": {
   "display_name": "Python 3",
   "language": "python",
   "name": "python3"
  },
  "language_info": {
   "codemirror_mode": {
    "name": "ipython",
    "version": 3
   },
   "file_extension": ".py",
   "mimetype": "text/x-python",
   "name": "python",
   "nbconvert_exporter": "python",
   "pygments_lexer": "ipython3",
   "version": "3.6.5"
  }
 },
 "nbformat": 4,
 "nbformat_minor": 2
}
