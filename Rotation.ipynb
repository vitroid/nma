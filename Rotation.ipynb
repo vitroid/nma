{
 "cells": [
  {
   "cell_type": "code",
   "execution_count": 21,
   "metadata": {},
   "outputs": [],
   "source": [
    "from sympy import *\n",
    "\n",
    "# おまじない\n",
    "init_printing()\n",
    "\n",
    "a, c, b=symbols('a c b')"
   ]
  },
  {
   "cell_type": "code",
   "execution_count": 22,
   "metadata": {},
   "outputs": [],
   "source": [
    "B = Matrix([[ cos(c),sin(c),0],\n",
    "            [-sin(c),cos(c),0],\n",
    "            [0,0,1]])\n",
    "C = Matrix([[1,0,0],\n",
    "            [0, cos(a),sin(a)],\n",
    "            [0,-sin(a),cos(a)]])\n",
    "D = Matrix([[ cos(b),sin(b),0],\n",
    "            [-sin(b),cos(b),0],\n",
    "            [0,0,1]])"
   ]
  },
  {
   "cell_type": "code",
   "execution_count": 23,
   "metadata": {},
   "outputs": [
    {
     "data": {
      "image/png": "[encoded data removed]",
      "text/latex": [
       "$$\\left[\\begin{matrix}- \\sin{\\left (b \\right )} \\sin{\\left (c \\right )} \\cos{\\left (a \\right )} + \\cos{\\left (b \\right )} \\cos{\\left (c \\right )} & - \\sin{\\left (b \\right )} \\cos{\\left (a \\right )} \\cos{\\left (c \\right )} - \\sin{\\left (c \\right )} \\cos{\\left (b \\right )} & \\sin{\\left (a \\right )} \\sin{\\left (b \\right )}\\\\\\sin{\\left (b \\right )} \\cos{\\left (c \\right )} + \\sin{\\left (c \\right )} \\cos{\\left (a \\right )} \\cos{\\left (b \\right )} & - \\sin{\\left (b \\right )} \\sin{\\left (c \\right )} + \\cos{\\left (a \\right )} \\cos{\\left (b \\right )} \\cos{\\left (c \\right )} & - \\sin{\\left (a \\right )} \\cos{\\left (b \\right )}\\\\\\sin{\\left (a \\right )} \\sin{\\left (c \\right )} & \\sin{\\left (a \\right )} \\cos{\\left (c \\right )} & \\cos{\\left (a \\right )}\\end{matrix}\\right]$$"
      ],
      "text/plain": [
       "⎡-sin(b)⋅sin(c)⋅cos(a) + cos(b)⋅cos(c)  -sin(b)⋅cos(a)⋅cos(c) - sin(c)⋅cos(b) \n",
       "⎢                                                                             \n",
       "⎢sin(b)⋅cos(c) + sin(c)⋅cos(a)⋅cos(b)   -sin(b)⋅sin(c) + cos(a)⋅cos(b)⋅cos(c) \n",
       "⎢                                                                             \n",
       "⎣            sin(a)⋅sin(c)                          sin(a)⋅cos(c)             \n",
       "\n",
       " sin(a)⋅sin(b) ⎤\n",
       "               ⎥\n",
       " -sin(a)⋅cos(b)⎥\n",
       "               ⎥\n",
       "     cos(a)    ⎦"
      ]
     },
     "execution_count": 23,
     "metadata": {},
     "output_type": "execute_result"
    }
   ],
   "source": [
    "A=B*C*D\n",
    "AI=A.T\n",
    "AI"
   ]
  },
  {
   "cell_type": "code",
   "execution_count": 5,
   "metadata": {},
   "outputs": [
    {
     "data": {
      "image/png": "[encoded data removed]",
      "text/latex": [
       "$$\\left[\\begin{matrix}\\sin{\\left (ap \\right )} \\sin{\\left (bp \\right )} & - \\sin{\\left (bp \\right )} \\sin{\\left (cp \\right )} \\cos{\\left (ap \\right )} + \\cos{\\left (bp \\right )} \\cos{\\left (cp \\right )} & - \\sin{\\left (bp \\right )} \\cos{\\left (ap \\right )} \\cos{\\left (cp \\right )} - \\sin{\\left (cp \\right )} \\cos{\\left (bp \\right )}\\\\- \\sin{\\left (ap \\right )} \\cos{\\left (bp \\right )} & \\sin{\\left (bp \\right )} \\cos{\\left (cp \\right )} + \\sin{\\left (cp \\right )} \\cos{\\left (ap \\right )} \\cos{\\left (bp \\right )} & - \\sin{\\left (bp \\right )} \\sin{\\left (cp \\right )} + \\cos{\\left (ap \\right )} \\cos{\\left (bp \\right )} \\cos{\\left (cp \\right )}\\\\\\cos{\\left (ap \\right )} & \\sin{\\left (ap \\right )} \\sin{\\left (cp \\right )} & \\sin{\\left (ap \\right )} \\cos{\\left (cp \\right )}\\end{matrix}\\right]$$"
      ],
      "text/plain": [
       "⎡sin(ap)⋅sin(bp)   -sin(bp)⋅sin(cp)⋅cos(ap) + cos(bp)⋅cos(cp)  -sin(bp)⋅cos(ap\n",
       "⎢                                                                             \n",
       "⎢-sin(ap)⋅cos(bp)  sin(bp)⋅cos(cp) + sin(cp)⋅cos(ap)⋅cos(bp)   -sin(bp)⋅sin(cp\n",
       "⎢                                                                             \n",
       "⎣    cos(ap)                    sin(ap)⋅sin(cp)                             si\n",
       "\n",
       ")⋅cos(cp) - sin(cp)⋅cos(bp)⎤\n",
       "                           ⎥\n",
       ") + cos(ap)⋅cos(bp)⋅cos(cp)⎥\n",
       "                           ⎥\n",
       "n(ap)⋅cos(cp)              ⎦"
      ]
     },
     "execution_count": 5,
     "metadata": {},
     "output_type": "execute_result"
    }
   ],
   "source": [
    "ap, cp, bp=symbols('ap cp bp')\n",
    "E = Matrix([[1,0,0],\n",
    "            [0, cos(cp),-sin(cp)],\n",
    "            [0, sin(cp),cos(cp)]])\n",
    "F = Matrix([[-sin(ap),0,cos(ap)],\n",
    "            [0, 1, 0],\n",
    "            [cos(ap), 0,sin(ap)]])\n",
    "G = Matrix([[-sin(bp),cos(bp),0],\n",
    "            [cos(bp),sin(bp),0],\n",
    "            [0,0,1]])\n",
    "\n",
    "\n",
    "G*F*E"
   ]
  },
  {
   "cell_type": "code",
   "execution_count": 187,
   "metadata": {},
   "outputs": [
    {
     "data": {
      "image/png": "[encoded data removed]",
      "text/latex": [
       "$$\\left[\\begin{matrix}- \\sin{\\left (b \\right )} \\sin{\\left (c \\right )} \\cos{\\left (a \\right )} + \\cos{\\left (b \\right )} \\cos{\\left (c \\right )} & - \\sin{\\left (b \\right )} \\cos{\\left (a \\right )} \\cos{\\left (c \\right )} - \\sin{\\left (c \\right )} \\cos{\\left (b \\right )} & \\sin{\\left (a \\right )} \\sin{\\left (b \\right )}\\\\\\sin{\\left (b \\right )} \\cos{\\left (c \\right )} + \\sin{\\left (c \\right )} \\cos{\\left (a \\right )} \\cos{\\left (b \\right )} & - \\sin{\\left (b \\right )} \\sin{\\left (c \\right )} + \\cos{\\left (a \\right )} \\cos{\\left (b \\right )} \\cos{\\left (c \\right )} & - \\sin{\\left (a \\right )} \\cos{\\left (b \\right )}\\\\\\sin{\\left (a \\right )} \\sin{\\left (c \\right )} & \\sin{\\left (a \\right )} \\cos{\\left (c \\right )} & \\cos{\\left (a \\right )}\\end{matrix}\\right]$$"
      ],
      "text/plain": [
       "⎡-sin(b)⋅sin(c)⋅cos(a) + cos(b)⋅cos(c)  -sin(b)⋅cos(a)⋅cos(c) - sin(c)⋅cos(b) \n",
       "⎢                                                                             \n",
       "⎢sin(b)⋅cos(c) + sin(c)⋅cos(a)⋅cos(b)   -sin(b)⋅sin(c) + cos(a)⋅cos(b)⋅cos(c) \n",
       "⎢                                                                             \n",
       "⎣            sin(a)⋅sin(c)                          sin(a)⋅cos(c)             \n",
       "\n",
       " sin(a)⋅sin(b) ⎤\n",
       "               ⎥\n",
       " -sin(a)⋅cos(b)⎥\n",
       "               ⎥\n",
       "     cos(a)    ⎦"
      ]
     },
     "execution_count": 187,
     "metadata": {},
     "output_type": "execute_result"
    }
   ],
   "source": [
    "AI"
   ]
  },
  {
   "cell_type": "code",
   "execution_count": 13,
   "metadata": {},
   "outputs": [
    {
     "data": {
      "text/plain": [
       "array([[ 1., -0.,  0.],\n",
       "       [ 0.,  1., -0.],\n",
       "       [ 0.,  0.,  1.]])"
      ]
     },
     "execution_count": 13,
     "metadata": {},
     "output_type": "execute_result"
    }
   ],
   "source": [
    "# make AI as a function\n",
    "import numpy as np\n",
    "A1 = lambdify([a,b,c], AI, 'numpy')\n",
    "A1(0,0,0)"
   ]
  },
  {
   "cell_type": "code",
   "execution_count": 15,
   "metadata": {},
   "outputs": [
    {
     "data": {
      "text/plain": [
       "array([[ 0.,  1., -0.],\n",
       "       [-0.,  0.,  1.],\n",
       "       [ 1.,  0.,  0.]])"
      ]
     },
     "execution_count": 15,
     "metadata": {},
     "output_type": "execute_result"
    }
   ],
   "source": [
    "A2 = lambdify([ap,bp,cp], G*F*E, 'numpy')\n",
    "A2(0,0,0)"
   ]
  },
  {
   "cell_type": "code",
   "execution_count": 7,
   "metadata": {},
   "outputs": [
    {
     "data": {
      "image/png": "[encoded data removed]",
      "text/latex": [
       "$$\\left[\\begin{matrix}\\sin{\\left (a \\right )} \\sin{\\left (b \\right )} \\sin{\\left (c \\right )} & \\sin{\\left (a \\right )} \\sin{\\left (b \\right )} \\cos{\\left (c \\right )} & \\sin{\\left (b \\right )} \\cos{\\left (a \\right )}\\\\- \\sin{\\left (a \\right )} \\sin{\\left (c \\right )} \\cos{\\left (b \\right )} & - \\sin{\\left (a \\right )} \\cos{\\left (b \\right )} \\cos{\\left (c \\right )} & - \\cos{\\left (a \\right )} \\cos{\\left (b \\right )}\\\\\\sin{\\left (c \\right )} \\cos{\\left (a \\right )} & \\cos{\\left (a \\right )} \\cos{\\left (c \\right )} & - \\sin{\\left (a \\right )}\\end{matrix}\\right]$$"
      ],
      "text/plain": [
       "⎡sin(a)⋅sin(b)⋅sin(c)   sin(a)⋅sin(b)⋅cos(c)   sin(b)⋅cos(a) ⎤\n",
       "⎢                                                            ⎥\n",
       "⎢-sin(a)⋅sin(c)⋅cos(b)  -sin(a)⋅cos(b)⋅cos(c)  -cos(a)⋅cos(b)⎥\n",
       "⎢                                                            ⎥\n",
       "⎣    sin(c)⋅cos(a)          cos(a)⋅cos(c)         -sin(a)    ⎦"
      ]
     },
     "execution_count": 7,
     "metadata": {},
     "output_type": "execute_result"
    }
   ],
   "source": [
    "diff(AI,a)"
   ]
  },
  {
   "cell_type": "code",
   "execution_count": 11,
   "metadata": {},
   "outputs": [
    {
     "data": {
      "text/latex": [
       "$$\\left[\\begin{matrix}- \\sin{\\left (b \\right )} \\cos{\\left (a \\right )} \\cos{\\left (c \\right )} - \\sin{\\left (c \\right )} \\cos{\\left (b \\right )} & \\sin{\\left (b \\right )} \\sin{\\left (c \\right )} \\cos{\\left (a \\right )} - \\cos{\\left (b \\right )} \\cos{\\left (c \\right )} & 0\\\\- \\sin{\\left (b \\right )} \\sin{\\left (c \\right )} + \\cos{\\left (a \\right )} \\cos{\\left (b \\right )} \\cos{\\left (c \\right )} & - \\sin{\\left (b \\right )} \\cos{\\left (c \\right )} - \\sin{\\left (c \\right )} \\cos{\\left (a \\right )} \\cos{\\left (b \\right )} & 0\\\\\\sin{\\left (a \\right )} \\cos{\\left (c \\right )} & - \\sin{\\left (a \\right )} \\sin{\\left (c \\right )} & 0\\end{matrix}\\right]$$"
      ],
      "text/plain": [
       "⎡-sin(b)⋅cos(a)⋅cos(c) - sin(c)⋅cos(b)  sin(b)⋅sin(c)⋅cos(a) - cos(b)⋅cos(c)  \n",
       "⎢                                                                             \n",
       "⎢-sin(b)⋅sin(c) + cos(a)⋅cos(b)⋅cos(c)  -sin(b)⋅cos(c) - sin(c)⋅cos(a)⋅cos(b) \n",
       "⎢                                                                             \n",
       "⎣            sin(a)⋅cos(c)                         -sin(a)⋅sin(c)             \n",
       "\n",
       " 0⎤\n",
       "  ⎥\n",
       " 0⎥\n",
       "  ⎥\n",
       " 0⎦"
      ]
     },
     "execution_count": 11,
     "metadata": {},
     "output_type": "execute_result"
    }
   ],
   "source": [
    "diff(AI,c)"
   ]
  },
  {
   "cell_type": "code",
   "execution_count": 12,
   "metadata": {},
   "outputs": [
    {
     "data": {
      "text/latex": [
       "$$\\left[\\begin{matrix}- \\sin{\\left (b \\right )} \\cos{\\left (c \\right )} - \\sin{\\left (c \\right )} \\cos{\\left (a \\right )} \\cos{\\left (b \\right )} & \\sin{\\left (b \\right )} \\sin{\\left (c \\right )} - \\cos{\\left (a \\right )} \\cos{\\left (b \\right )} \\cos{\\left (c \\right )} & \\sin{\\left (a \\right )} \\cos{\\left (b \\right )}\\\\- \\sin{\\left (b \\right )} \\sin{\\left (c \\right )} \\cos{\\left (a \\right )} + \\cos{\\left (b \\right )} \\cos{\\left (c \\right )} & - \\sin{\\left (b \\right )} \\cos{\\left (a \\right )} \\cos{\\left (c \\right )} - \\sin{\\left (c \\right )} \\cos{\\left (b \\right )} & \\sin{\\left (a \\right )} \\sin{\\left (b \\right )}\\\\0 & 0 & 0\\end{matrix}\\right]$$"
      ],
      "text/plain": [
       "⎡-sin(b)⋅cos(c) - sin(c)⋅cos(a)⋅cos(b)  sin(b)⋅sin(c) - cos(a)⋅cos(b)⋅cos(c)  \n",
       "⎢                                                                             \n",
       "⎢-sin(b)⋅sin(c)⋅cos(a) + cos(b)⋅cos(c)  -sin(b)⋅cos(a)⋅cos(c) - sin(c)⋅cos(b) \n",
       "⎢                                                                             \n",
       "⎣                  0                                      0                   \n",
       "\n",
       " sin(a)⋅cos(b)⎤\n",
       "              ⎥\n",
       " sin(a)⋅sin(b)⎥\n",
       "              ⎥\n",
       "       0      ⎦"
      ]
     },
     "execution_count": 12,
     "metadata": {},
     "output_type": "execute_result"
    }
   ],
   "source": [
    "diff(AI,b)"
   ]
  },
  {
   "cell_type": "code",
   "execution_count": 13,
   "metadata": {},
   "outputs": [
    {
     "data": {
      "text/latex": [
       "$$\\left[\\begin{matrix}\\sin{\\left (b \\right )} \\sin{\\left (c \\right )} \\cos{\\left (a \\right )} & \\sin{\\left (b \\right )} \\cos{\\left (a \\right )} \\cos{\\left (c \\right )} & - \\sin{\\left (a \\right )} \\sin{\\left (b \\right )}\\\\- \\sin{\\left (c \\right )} \\cos{\\left (a \\right )} \\cos{\\left (b \\right )} & - \\cos{\\left (a \\right )} \\cos{\\left (b \\right )} \\cos{\\left (c \\right )} & \\sin{\\left (a \\right )} \\cos{\\left (b \\right )}\\\\- \\sin{\\left (a \\right )} \\sin{\\left (c \\right )} & - \\sin{\\left (a \\right )} \\cos{\\left (c \\right )} & - \\cos{\\left (a \\right )}\\end{matrix}\\right]$$"
      ],
      "text/plain": [
       "⎡sin(b)⋅sin(c)⋅cos(a)   sin(b)⋅cos(a)⋅cos(c)   -sin(a)⋅sin(b)⎤\n",
       "⎢                                                            ⎥\n",
       "⎢-sin(c)⋅cos(a)⋅cos(b)  -cos(a)⋅cos(b)⋅cos(c)  sin(a)⋅cos(b) ⎥\n",
       "⎢                                                            ⎥\n",
       "⎣   -sin(a)⋅sin(c)         -sin(a)⋅cos(c)         -cos(a)    ⎦"
      ]
     },
     "execution_count": 13,
     "metadata": {},
     "output_type": "execute_result"
    }
   ],
   "source": [
    "diff(AI,(a,2))"
   ]
  },
  {
   "cell_type": "code",
   "execution_count": 14,
   "metadata": {},
   "outputs": [
    {
     "data": {
      "text/latex": [
       "$$\\left[\\begin{matrix}\\sin{\\left (b \\right )} \\sin{\\left (c \\right )} \\cos{\\left (a \\right )} - \\cos{\\left (b \\right )} \\cos{\\left (c \\right )} & \\sin{\\left (b \\right )} \\cos{\\left (a \\right )} \\cos{\\left (c \\right )} + \\sin{\\left (c \\right )} \\cos{\\left (b \\right )} & 0\\\\- (\\sin{\\left (b \\right )} \\cos{\\left (c \\right )} + \\sin{\\left (c \\right )} \\cos{\\left (a \\right )} \\cos{\\left (b \\right )}) & \\sin{\\left (b \\right )} \\sin{\\left (c \\right )} - \\cos{\\left (a \\right )} \\cos{\\left (b \\right )} \\cos{\\left (c \\right )} & 0\\\\- \\sin{\\left (a \\right )} \\sin{\\left (c \\right )} & - \\sin{\\left (a \\right )} \\cos{\\left (c \\right )} & 0\\end{matrix}\\right]$$"
      ],
      "text/plain": [
       "⎡ sin(b)⋅sin(c)⋅cos(a) - cos(b)⋅cos(c)    sin(b)⋅cos(a)⋅cos(c) + sin(c)⋅cos(b)\n",
       "⎢                                                                             \n",
       "⎢-(sin(b)⋅cos(c) + sin(c)⋅cos(a)⋅cos(b))  sin(b)⋅sin(c) - cos(a)⋅cos(b)⋅cos(c)\n",
       "⎢                                                                             \n",
       "⎣            -sin(a)⋅sin(c)                          -sin(a)⋅cos(c)           \n",
       "\n",
       "  0⎤\n",
       "   ⎥\n",
       "  0⎥\n",
       "   ⎥\n",
       "  0⎦"
      ]
     },
     "execution_count": 14,
     "metadata": {},
     "output_type": "execute_result"
    }
   ],
   "source": [
    "diff(AI,(c,2))"
   ]
  },
  {
   "cell_type": "code",
   "execution_count": 15,
   "metadata": {},
   "outputs": [
    {
     "data": {
      "text/latex": [
       "$$\\left[\\begin{matrix}\\sin{\\left (b \\right )} \\sin{\\left (c \\right )} \\cos{\\left (a \\right )} - \\cos{\\left (b \\right )} \\cos{\\left (c \\right )} & \\sin{\\left (b \\right )} \\cos{\\left (a \\right )} \\cos{\\left (c \\right )} + \\sin{\\left (c \\right )} \\cos{\\left (b \\right )} & - \\sin{\\left (a \\right )} \\sin{\\left (b \\right )}\\\\- (\\sin{\\left (b \\right )} \\cos{\\left (c \\right )} + \\sin{\\left (c \\right )} \\cos{\\left (a \\right )} \\cos{\\left (b \\right )}) & \\sin{\\left (b \\right )} \\sin{\\left (c \\right )} - \\cos{\\left (a \\right )} \\cos{\\left (b \\right )} \\cos{\\left (c \\right )} & \\sin{\\left (a \\right )} \\cos{\\left (b \\right )}\\\\0 & 0 & 0\\end{matrix}\\right]$$"
      ],
      "text/plain": [
       "⎡ sin(b)⋅sin(c)⋅cos(a) - cos(b)⋅cos(c)    sin(b)⋅cos(a)⋅cos(c) + sin(c)⋅cos(b)\n",
       "⎢                                                                             \n",
       "⎢-(sin(b)⋅cos(c) + sin(c)⋅cos(a)⋅cos(b))  sin(b)⋅sin(c) - cos(a)⋅cos(b)⋅cos(c)\n",
       "⎢                                                                             \n",
       "⎣                   0                                      0                  \n",
       "\n",
       "  -sin(a)⋅sin(b)⎤\n",
       "                ⎥\n",
       "  sin(a)⋅cos(b) ⎥\n",
       "                ⎥\n",
       "        0       ⎦"
      ]
     },
     "execution_count": 15,
     "metadata": {},
     "output_type": "execute_result"
    }
   ],
   "source": [
    "diff(AI,(b,2))"
   ]
  },
  {
   "cell_type": "code",
   "execution_count": 16,
   "metadata": {},
   "outputs": [
    {
     "data": {
      "text/latex": [
       "$$\\left[\\begin{matrix}\\sin{\\left (a \\right )} \\sin{\\left (c \\right )} \\cos{\\left (b \\right )} & \\sin{\\left (a \\right )} \\cos{\\left (b \\right )} \\cos{\\left (c \\right )} & \\cos{\\left (a \\right )} \\cos{\\left (b \\right )}\\\\\\sin{\\left (a \\right )} \\sin{\\left (b \\right )} \\sin{\\left (c \\right )} & \\sin{\\left (a \\right )} \\sin{\\left (b \\right )} \\cos{\\left (c \\right )} & \\sin{\\left (b \\right )} \\cos{\\left (a \\right )}\\\\0 & 0 & 0\\end{matrix}\\right]$$"
      ],
      "text/plain": [
       "⎡sin(a)⋅sin(c)⋅cos(b)  sin(a)⋅cos(b)⋅cos(c)  cos(a)⋅cos(b)⎤\n",
       "⎢                                                         ⎥\n",
       "⎢sin(a)⋅sin(b)⋅sin(c)  sin(a)⋅sin(b)⋅cos(c)  sin(b)⋅cos(a)⎥\n",
       "⎢                                                         ⎥\n",
       "⎣         0                     0                  0      ⎦"
      ]
     },
     "execution_count": 16,
     "metadata": {},
     "output_type": "execute_result"
    }
   ],
   "source": [
    "diff(AI,b,a)"
   ]
  },
  {
   "cell_type": "code",
   "execution_count": 17,
   "metadata": {},
   "outputs": [
    {
     "data": {
      "text/latex": [
       "$$\\left[\\begin{matrix}\\sin{\\left (a \\right )} \\sin{\\left (b \\right )} \\cos{\\left (c \\right )} & - \\sin{\\left (a \\right )} \\sin{\\left (b \\right )} \\sin{\\left (c \\right )} & 0\\\\- \\sin{\\left (a \\right )} \\cos{\\left (b \\right )} \\cos{\\left (c \\right )} & \\sin{\\left (a \\right )} \\sin{\\left (c \\right )} \\cos{\\left (b \\right )} & 0\\\\\\cos{\\left (a \\right )} \\cos{\\left (c \\right )} & - \\sin{\\left (c \\right )} \\cos{\\left (a \\right )} & 0\\end{matrix}\\right]$$"
      ],
      "text/plain": [
       "⎡sin(a)⋅sin(b)⋅cos(c)   -sin(a)⋅sin(b)⋅sin(c)  0⎤\n",
       "⎢                                               ⎥\n",
       "⎢-sin(a)⋅cos(b)⋅cos(c)  sin(a)⋅sin(c)⋅cos(b)   0⎥\n",
       "⎢                                               ⎥\n",
       "⎣    cos(a)⋅cos(c)         -sin(c)⋅cos(a)      0⎦"
      ]
     },
     "execution_count": 17,
     "metadata": {},
     "output_type": "execute_result"
    }
   ],
   "source": [
    "diff(AI,c,a)"
   ]
  },
  {
   "cell_type": "code",
   "execution_count": 18,
   "metadata": {},
   "outputs": [
    {
     "data": {
      "text/latex": [
       "$$\\left[\\begin{matrix}\\sin{\\left (b \\right )} \\sin{\\left (c \\right )} - \\cos{\\left (a \\right )} \\cos{\\left (b \\right )} \\cos{\\left (c \\right )} & \\sin{\\left (b \\right )} \\cos{\\left (c \\right )} + \\sin{\\left (c \\right )} \\cos{\\left (a \\right )} \\cos{\\left (b \\right )} & 0\\\\- (\\sin{\\left (b \\right )} \\cos{\\left (a \\right )} \\cos{\\left (c \\right )} + \\sin{\\left (c \\right )} \\cos{\\left (b \\right )}) & \\sin{\\left (b \\right )} \\sin{\\left (c \\right )} \\cos{\\left (a \\right )} - \\cos{\\left (b \\right )} \\cos{\\left (c \\right )} & 0\\\\0 & 0 & 0\\end{matrix}\\right]$$"
      ],
      "text/plain": [
       "⎡ sin(b)⋅sin(c) - cos(a)⋅cos(b)⋅cos(c)    sin(b)⋅cos(c) + sin(c)⋅cos(a)⋅cos(b)\n",
       "⎢                                                                             \n",
       "⎢-(sin(b)⋅cos(a)⋅cos(c) + sin(c)⋅cos(b))  sin(b)⋅sin(c)⋅cos(a) - cos(b)⋅cos(c)\n",
       "⎢                                                                             \n",
       "⎣                   0                                      0                  \n",
       "\n",
       "  0⎤\n",
       "   ⎥\n",
       "  0⎥\n",
       "   ⎥\n",
       "  0⎦"
      ]
     },
     "execution_count": 18,
     "metadata": {},
     "output_type": "execute_result"
    }
   ],
   "source": [
    "diff(AI,c,b)"
   ]
  },
  {
   "cell_type": "code",
   "execution_count": 84,
   "metadata": {},
   "outputs": [],
   "source": []
  },
  {
   "cell_type": "code",
   "execution_count": 266,
   "metadata": {},
   "outputs": [
    {
     "name": "stdout",
     "output_type": "stream",
     "text": [
      "distance 0-1\n",
      "2.7633262900540823\n",
      "***2 0 0.0293342728495134\n",
      "***3 0 0.32918696399831726\n"
     ]
    }
   ],
   "source": [
    "import numpy as np\n",
    "import math\n",
    "# TIP4Pの座標系\n",
    "angle,holen,colen = 104.52,0.9572,0.15\n",
    "wh = 1.0\n",
    "wo = 16.0\n",
    "wm = wh + wh + wo\n",
    "rangle = angle*math.pi/360\n",
    "ohz=holen*math.cos(rangle)\n",
    "hyl=holen*math.sin(rangle)\n",
    "hzl=wo*ohz/wm\n",
    "ol=-ohz+hzl\n",
    "cl=colen+ol\n",
    "# 分子内の原子位置\n",
    "intra = np.array([[0,hyl,hzl],\n",
    "                  [0,-hyl,hzl],\n",
    "                  [0,0,ol],\n",
    "                  [0,0,cl]]).T\n",
    "\n",
    "# 2分子の座標を読みこむ。\n",
    "file = open(\"test.nx3a\")\n",
    "while True:\n",
    "    line = file.readline()\n",
    "    if \"@NX3A\" in line:\n",
    "        line = file.readline()\n",
    "        nmol = int(line)\n",
    "        pos = []\n",
    "        for i in range(nmol):\n",
    "            line = file.readline()\n",
    "            pos.append([float(x) for x in line.split()])\n",
    "        pos = np.array(pos)\n",
    "        break\n",
    "\n",
    "lc = [0 for i in range(nmol)]\n",
    "        \n",
    "from sympy import *\n",
    "\n",
    "# おまじない\n",
    "init_printing()\n",
    "\n",
    "a,b,c=symbols('a b c')\n",
    "\n",
    "B = Matrix([[ cos(c),sin(c),0],\n",
    "            [-sin(c),cos(c),0],\n",
    "            [0,0,1]])\n",
    "C = Matrix([[1,0,0],\n",
    "            [0, cos(a),sin(a)],\n",
    "            [0,-sin(a),cos(a)]])\n",
    "D = Matrix([[ cos(b),sin(b),0],\n",
    "            [-sin(b),cos(b),0],\n",
    "            [0,0,1]])\n",
    "AI = (B*C*D).T\n",
    "\n",
    "# 解析的に回転行列を角度で微分し、それをpythonの関数とする。\n",
    "A1 = lambdify([a,b,c],AI)\n",
    "A1a = lambdify([a,b,c],diff(AI,a))\n",
    "A1b = lambdify([a,b,c],diff(AI,b))\n",
    "A1c = lambdify([a,b,c],diff(AI,c))\n",
    "A1aa = lambdify([a,b,c],diff(AI,a,a))\n",
    "A1bb = lambdify([a,b,c],diff(AI,b,b))\n",
    "A1cc = lambdify([a,b,c],diff(AI,c,c))\n",
    "A1ab = lambdify([a,b,c],diff(AI,a,b))\n",
    "A1bc = lambdify([a,b,c],diff(AI,b,c))\n",
    "A1ca = lambdify([a,b,c],diff(AI,c,a))\n",
    "\n",
    "# 第二回転規準\n",
    "E = Matrix([[1,0,0],\n",
    "            [0, cos(c),-sin(c)],\n",
    "            [0, sin(c),cos(c)]])\n",
    "F = Matrix([[-sin(a),0,cos(a)],\n",
    "            [0, 1, 0],\n",
    "            [cos(a), 0,sin(a)]])\n",
    "G = Matrix([[-sin(b),cos(b),0],\n",
    "            [cos(b),sin(b),0],\n",
    "            [0,0,1]])\n",
    "\n",
    "B = G*F*E\n",
    "A2 = lambdify([a,b,c],B)\n",
    "A2a = lambdify([a,b,c],diff(B,a))\n",
    "A2b = lambdify([a,b,c],diff(B,b))\n",
    "A2c = lambdify([a,b,c],diff(B,c))\n",
    "A2aa = lambdify([a,b,c],diff(B,a,a))\n",
    "A2bb = lambdify([a,b,c],diff(B,b,b))\n",
    "A2cc = lambdify([a,b,c],diff(B,c,c))\n",
    "A2ab = lambdify([a,b,c],diff(B,a,b))\n",
    "A2bc = lambdify([a,b,c],diff(B,b,c))\n",
    "A2ca = lambdify([a,b,c],diff(B,c,a))\n",
    "\n",
    "\n",
    "\n",
    "def conv_euler(ea,eb,ec):\n",
    "    sina=math.sin(ea)\n",
    "    sinb=math.sin(eb)\n",
    "    sinc=math.sin(ec)\n",
    "    cosa=math.cos(ea)\n",
    "    cosb=math.cos(eb)\n",
    "    cosc=math.cos(ec)\n",
    "\n",
    "    cosap=sina*sinc\n",
    "    ap=math.acos(cosap)\n",
    "    sinap=math.sin(ap)\n",
    "    coscp=cosa/sinap\n",
    "    cp=math.acos(coscp)\n",
    "    sincp=sina*cosc/sinap\n",
    "    if sincp < 0.0:\n",
    "        cp = pid-cp\n",
    "    cosbp=-(cosc*sinb+cosa*cosb*sinc)/sinap\n",
    "    bp=math.acos(cosbp)\n",
    "    sinbp=(cosc*cosb-cosa*sinb*sinc)/sinap\n",
    "    if sinbp < 0.0:\n",
    "        bp = pid-bp\n",
    "    return ap,bp,cp\n",
    "\n",
    "\n",
    "print(\"distance 0-1\")\n",
    "print(np.linalg.norm(pos[0][0:3]-pos[1][0:3]))\n",
    "\n",
    "# 回転行列に分子内座標をかけたもの。原子の重心からの空間座標\n",
    "D0 = np.zeros([nmol,3,4])\n",
    "# 回転行列の、角度による一階微分に、分子内座標をかけたもの。\n",
    "# D1 == dR_i / da_i\n",
    "D1 = np.zeros([nmol,3,3,4]) # molecule, euler angle, vectors, sites\n",
    "# 回転行列の、角度による二階微分に、分子内座標をかけたもの。\n",
    "# D2 == d^2 R_i / da db\n",
    "D2 = np.zeros([nmol,3,3,3,4]) # molecule, euler angle1, angle2, vectors, sites\n",
    "\n",
    "for i in range(nmol):\n",
    "    ea,eb,ec = pos[i][3:6]\n",
    "    if abs(math.sin(ea)) > 0.7:\n",
    "        D0[i] = A1(ea,eb,ec) @ intra\n",
    "        D1[i,0] = A1a(ea,eb,ec) @ intra\n",
    "        D1[i,1] = A1b(ea,eb,ec) @ intra\n",
    "        D1[i,2] = A1c(ea,eb,ec) @ intra\n",
    "        D2[i,0,0] = A1aa(ea,eb,ec) @ intra\n",
    "        D2[i,1,1] = A1bb(ea,eb,ec) @ intra\n",
    "        D2[i,2,2] = A1cc(ea,eb,ec) @ intra\n",
    "        D2[i,0,1] = A1ab(ea,eb,ec) @ intra\n",
    "        D2[i,1,2] = A1bc(ea,eb,ec) @ intra\n",
    "        D2[i,2,0] = A1ca(ea,eb,ec) @ intra\n",
    "        D2[i,1,0] = D2[i,0,1]\n",
    "        D2[i,2,1] = D2[i,1,2]\n",
    "        D2[i,0,2] = D2[i,2,0]\n",
    "    else:\n",
    "        ea,eb,ec = conv_euler(ea,eb,ec)\n",
    "        pos[i][3:6] = ea,eb,ec\n",
    "        lc[i] = 1 # rotation order of second kind\n",
    "        D0[i] = A2(ea,eb,ec) @ intra\n",
    "        D1[i,0] = A2a(ea,eb,ec) @ intra\n",
    "        D1[i,1] = A2b(ea,eb,ec) @ intra\n",
    "        D1[i,2] = A2c(ea,eb,ec) @ intra\n",
    "        D2[i,0,0] = A2aa(ea,eb,ec) @ intra\n",
    "        D2[i,1,1] = A2bb(ea,eb,ec) @ intra\n",
    "        D2[i,2,2] = A2cc(ea,eb,ec) @ intra\n",
    "        D2[i,0,1] = A2ab(ea,eb,ec) @ intra\n",
    "        D2[i,1,2] = A2bc(ea,eb,ec) @ intra\n",
    "        D2[i,2,0] = A2ca(ea,eb,ec) @ intra\n",
    "        D2[i,1,0] = D2[i,0,1]\n",
    "        D2[i,2,1] = D2[i,1,2]\n",
    "        D2[i,0,2] = D2[i,2,0]\n",
    "        print(\"!!!\")\n",
    "\n",
    "# ***2\n",
    "ea,eb,ec = pos[0][3:6]\n",
    "print(\"***2\",0,A1(ea,eb,ec)[0,1])\n",
    "print(\"***3\",0,A1a(ea,eb,ec)[0,1])\n",
    "\n",
    "# Tanaka programでの配列要素(1,2)は、Pythonでは[0,1]になる。\n",
    "# 以後、縦横を精査。"
   ]
  },
  {
   "cell_type": "code",
   "execution_count": 157,
   "metadata": {},
   "outputs": [],
   "source": [
    "# 相互作用関数\n",
    "def phic(r):\n",
    "    return 1/r\n",
    "\n",
    "# 距離による一階微分\n",
    "def phic_r(r):\n",
    "    return -1/r**2\n",
    "\n",
    "# 距離による二階微分\n",
    "def phic_rr(r):\n",
    "    return 2/r**3\n",
    "\n",
    "# このあたりの関数も、できればsympyに生成させたい。\n",
    "def dxixi(r):\n",
    "    # r is a vector\n",
    "    rL2 = r@r\n",
    "    rL = rL2**0.5\n",
    "    return phic_r(rL)*(1 - r**2 / rL2) / rL + phic_rr(rL)*r**2 / rL2\n",
    "\n",
    "def dxiyi(r):\n",
    "    # r is a vector\n",
    "    rL2 = r@r\n",
    "    rL = rL2**0.5\n",
    "    xy = -phic_r(rL)*r[0]*r[1]/(rL2*rL) + phic_rr(rL)*r[0]*r[1]/rL2\n",
    "    yz = -phic_r(rL)*r[1]*r[2]/(rL2*rL) + phic_rr(rL)*r[1]*r[2]/rL2\n",
    "    zx = -phic_r(rL)*r[2]*r[0]/(rL2*rL) + phic_rr(rL)*r[2]*r[0]/rL2\n",
    "    return xy,yz,zx"
   ]
  },
  {
   "cell_type": "code",
   "execution_count": 240,
   "metadata": {},
   "outputs": [
    {
     "name": "stdout",
     "output_type": "stream",
     "text": [
      "[[ 0.0914 -0.0021  0.0541 -0.0914  0.0021 -0.0541 -0.0473 -0.0167  0.1034\n",
      "  -0.0336 -0.0012  0.0118]\n",
      " [-0.0021  0.0952  0.073   0.0021 -0.0952 -0.073   0.1111  0.0256  0.0405\n",
      "  -0.0165  0.0272  0.0377]\n",
      " [ 0.0541  0.073  -0.1866 -0.0541 -0.073   0.1866  0.0236  0.0012  0.02\n",
      "  -0.0038  0.0145  0.0183]\n",
      " [-0.0914  0.0021 -0.0541  0.0914 -0.0021  0.0541  0.0473  0.0167 -0.1034\n",
      "   0.0336  0.0012 -0.0118]\n",
      " [ 0.0021 -0.0952 -0.073  -0.0021  0.0952  0.073  -0.1111 -0.0256 -0.0405\n",
      "   0.0165 -0.0272 -0.0377]\n",
      " [-0.0541 -0.073   0.1866  0.0541  0.073  -0.1866 -0.0236 -0.0012 -0.02\n",
      "   0.0038 -0.0145 -0.0183]\n",
      " [-0.0473  0.1111  0.0236  0.0473 -0.1111 -0.0236  0.2807  0.0537 -0.0359\n",
      "   0.0007  0.0405  0.0319]\n",
      " [-0.0167  0.0256  0.0012  0.0167 -0.0256 -0.0012  0.0537  0.0124 -0.0402\n",
      "  -0.0054  0.0124  0.0064]\n",
      " [ 0.1034  0.0405  0.02   -0.1034 -0.0405 -0.02   -0.0359 -0.0402  0.2125\n",
      "  -0.0428  0.0091  0.033 ]\n",
      " [-0.0336 -0.0165 -0.0038  0.0336  0.0165  0.0038  0.0007 -0.0054 -0.0428\n",
      "   0.0329  0.0135 -0.0057]\n",
      " [-0.0012  0.0272  0.0145  0.0012 -0.0272 -0.0145  0.0405  0.0124  0.0091\n",
      "   0.0135  0.0051  0.0105]\n",
      " [ 0.0118  0.0377  0.0183 -0.0118 -0.0377 -0.0183  0.0319  0.0064  0.033\n",
      "  -0.0057  0.0105  0.0513]]\n"
     ]
    }
   ],
   "source": [
    "# とりあえずCoulomb力のHessianだけ求める。しかもTruncationなし。\n",
    "\n",
    "# 当面、田中プログラムとの照合のために、エネルギーの単位は、水素2原子が1 Aにいる時のCoulomb力を1とする。\n",
    "# 最終的にはもっと汎用の書き方にする。\n",
    "\n",
    "Hessian = np.zeros([12,12])\n",
    "H = np.zeros([3,3])\n",
    "for i in (0,1,3):\n",
    "    if i == 3:\n",
    "        ci = -2\n",
    "    else:\n",
    "        ci = 1\n",
    "    for j in (0,1,3):\n",
    "        if j == 3:\n",
    "            cj = -2\n",
    "        else:\n",
    "            cj = 1\n",
    "        cc = ci*cj\n",
    "        r = D0[0,:,i]+pos[0][:3] - (D0[1,:,j]+pos[1][:3]) #verified\n",
    "        rL = np.linalg.norm(r)\n",
    "\n",
    "        H += cc * np.diag(dxixi(r))\n",
    "        vxy,vyz,vzx = dxiyi(r)\n",
    "        H[0,1] += cc*vxy\n",
    "        H[1,2] += cc*vyz\n",
    "        H[0,2] += cc*vzx\n",
    "        H[1,0] += cc*vxy\n",
    "        H[2,1] += cc*vyz\n",
    "        H[2,0] += cc*vzx\n",
    "        # もっと簡潔にできそうだが、今はこれ以上さわらない。\n",
    "\n",
    "Hessian[0:3,0:3] += H\n",
    "Hessian[3:6,3:6] += H\n",
    "Hessian[0:3,3:6] -= H\n",
    "Hessian[3:6,0:3] -= H\n",
    "\n",
    "# 次は回転・回転\n",
    "\n",
    "for i in (0,1,3):\n",
    "    if i == 3:\n",
    "        ci = -2\n",
    "    else:\n",
    "        ci = 1\n",
    "    for j in (0,1,3):\n",
    "        if j == 3:\n",
    "            cj = -2\n",
    "        else:\n",
    "            cj = 1\n",
    "        cc = ci*cj\n",
    "        r = D0[0,:,i]+pos[0][:3] - (D0[1,:,j]+pos[1][:3]) #verified\n",
    "        rL = np.linalg.norm(r)\n",
    "        # 式の導出はDerivative.ipynbを参照\n",
    "        # **2 同じ分子の同じ角度変数の組みあわせ\n",
    "        Hessian[6,6] += cc*(phic_r(rL)/rL**3*(rL**2 * (r @ D2[0,0,0,:,i] + D1[0,0,:,i] @ D1[0,0,:,i]) -\n",
    "                                              (r @ D1[0,0,:,i])**2) +\n",
    "                            phic_rr(rL)/rL**2*(r @ D1[0,0,:,i])**2)\n",
    "        Hessian[7,7] += cc*(phic_r(rL)/rL**3*(rL**2 * (r @ D2[0,1,1,:,i] + D1[0,1,:,i] @ D1[0,1,:,i]) -\n",
    "                                              (r @ D1[0,1,:,i])**2) +\n",
    "                            phic_rr(rL)/rL**2*(r @ D1[0,1,:,i])**2)\n",
    "        Hessian[8,8] += cc*(phic_r(rL)/rL**3*(rL**2 * (r @ D2[0,2,2,:,i] + D1[0,2,:,i] @ D1[0,2,:,i]) -\n",
    "                                              (r @ D1[0,2,:,i])**2) +\n",
    "                            phic_rr(rL)/rL**2*(r @ D1[0,2,:,i])**2)\n",
    "        Hessian[9,9] += cc*(phic_r(rL)/rL**3*(rL**2 * (-r @ D2[1,0,0,:,j] + D1[1,0,:,j] @ D1[1,0,:,j]) -\n",
    "                                              (-r @ D1[1,0,:,j])**2) +\n",
    "                            phic_rr(rL)/rL**2*(-r @ D1[1,0,:,j])**2)\n",
    "        Hessian[10,10] += cc*(phic_r(rL)/rL**3*(rL**2 * (-r @ D2[1,1,1,:,j] + D1[1,1,:,j] @ D1[1,1,:,j]) -\n",
    "                                              (-r @ D1[1,1,:,j])**2) +\n",
    "                              phic_rr(rL)/rL**2*(-r @ D1[1,1,:,j])**2)\n",
    "        Hessian[11,11] += cc*(phic_r(rL)/rL**3*(rL**2 * (-r @ D2[1,2,2,:,j] + D1[1,2,:,j] @ D1[1,2,:,j]) -\n",
    "                                              (-r @ D1[1,2,:,j])**2) +\n",
    "                              phic_rr(rL)/rL**2*(-r @ D1[1,2,:,j])**2)\n",
    "        # **3 同じ分子の異なる角度変数の組みあわせ\n",
    "        Hessian[6,7] += cc*(phic_r(rL)/rL**3*(rL**2 * (r @ D2[0,0,1,:,i] + D1[0,0,:,i] @ D1[0,1,:,i]) -\n",
    "                                              (r @ D1[0,0,:,i])*(r @ D1[0,1,:,i])) +\n",
    "                            phic_rr(rL)/rL**2*(r @ D1[0,0,:,i])*(r @ D1[0,1,:,i]))\n",
    "        Hessian[6,8] += cc*(phic_r(rL)/rL**3*(rL**2 * (r @ D2[0,0,2,:,i] + D1[0,0,:,i] @ D1[0,2,:,i]) -\n",
    "                                              (r @ D1[0,0,:,i])*(r @ D1[0,2,:,i])) +\n",
    "                            phic_rr(rL)/rL**2*(r @ D1[0,0,:,i])*(r @ D1[0,2,:,i]))\n",
    "        Hessian[7,8] += cc*(phic_r(rL)/rL**3*(rL**2 * (r @ D2[0,1,2,:,i] + D1[0,1,:,i] @ D1[0,2,:,i]) -\n",
    "                                              (r @ D1[0,1,:,i])*(r @ D1[0,2,:,i])) +\n",
    "                            phic_rr(rL)/rL**2*(r @ D1[0,1,:,i])*(r @ D1[0,2,:,i]))\n",
    "        Hessian[9,10] += cc*(phic_r(rL)/rL**3*(rL**2 * (-r @ D2[1,0,1,:,j] + D1[1,0,:,j] @ D1[1,1,:,j]) -\n",
    "                                              (-r @ D1[1,0,:,j])*(-r @ D1[1,1,:,j])) +\n",
    "                             phic_rr(rL)/rL**2*(-r @ D1[1,0,:,j])*(-r @ D1[1,1,:,j]))\n",
    "        Hessian[9,11] += cc*(phic_r(rL)/rL**3*(rL**2 * (-r @ D2[1,0,2,:,j] + D1[1,0,:,j] @ D1[1,2,:,j]) -\n",
    "                                              (-r @ D1[1,0,:,j])*(-r @ D1[1,2,:,j])) +\n",
    "                             phic_rr(rL)/rL**2*(-r @ D1[1,0,:,j])*(-r @ D1[1,2,:,j]))\n",
    "        Hessian[10,11] += cc*(phic_r(rL)/rL**3*(rL**2 * (-r @ D2[1,1,2,:,j] + D1[1,1,:,j] @ D1[1,2,:,j]) -\n",
    "                                              (-r @ D1[1,1,:,j])*(-r @ D1[1,2,:,j])) +\n",
    "                              phic_rr(rL)/rL**2*(-r @ D1[1,1,:,j])*(-r @ D1[1,2,:,j]))\n",
    "        # **4 異なる分子の角度変数の組みあわせ\n",
    "        for id in range(3):\n",
    "            for jd in range(3):\n",
    "                Hessian[6+id,9+jd] += -cc*(phic_r(rL)/rL**3*(rL**2 * (D1[0,id,:,i] @ D1[1,jd,:,j]) -\n",
    "                                                             (r @ D1[0,id,:,i])*(r @ D1[1,jd,:,j])) +\n",
    "                                           phic_rr(rL)/rL**2*(r @ D1[0,id,:,i])*(r @ D1[1,jd,:,j]))\n",
    "        # 下半分はあとでコピーすればいい。\n",
    "\n",
    "# 最後に並進・回転\n",
    "\n",
    "for i in (0,1,3):\n",
    "    if i == 3:\n",
    "        ci = -2\n",
    "    else:\n",
    "        ci = 1\n",
    "    for j in (0,1,3):\n",
    "        if j == 3:\n",
    "            cj = -2\n",
    "        else:\n",
    "            cj = 1\n",
    "        cc = ci*cj\n",
    "        r = D0[0,:,i]+pos[0][:3] - (D0[1,:,j]+pos[1][:3]) #verified\n",
    "        rL = np.linalg.norm(r)\n",
    "        # **5 同じ分子\n",
    "        for it in range(3):\n",
    "            for jr in range(3):\n",
    "                Hessian[0+it,6+jr] += cc*(phic_r(rL)/rL**3 * (rL**2*D1[0,jr,it,i] - r[it]*(r @ D1[0,jr,:,i])) +\n",
    "                                          phic_rr(rL)/rL**2 * r[it]*(r @ D1[0,jr,:,i]))\n",
    "        for it in range(3):\n",
    "            for jr in range(3):\n",
    "                Hessian[3+it,9+jr] += cc*(phic_r(rL)/rL**3 * (rL**2*D1[1,jr,it,j] + r[it]*(-r @ D1[1,jr,:,j])) +\n",
    "                                          phic_rr(rL)/rL**2 * -r[it]*(-r @ D1[1,jr,:,j]))\n",
    "\n",
    "        # **6 異なる分子\n",
    "        for it in range(3):\n",
    "            for jr in range(3):\n",
    "                Hessian[0+it,9+jr] +=-cc*(phic_r(rL)/rL**3 * (rL**2*D1[1,jr,it,j] - r[it]*(r @ D1[1,jr,:,j])) +\n",
    "                                          phic_rr(rL)/rL**2 * r[it]*(r @ D1[1,jr,:,j]))\n",
    "        for it in range(3):\n",
    "            for jr in range(3):\n",
    "                Hessian[3+it,6+jr] +=-cc*(phic_r(rL)/rL**3 * (rL**2*D1[0,jr,it,i] + r[it]*(-r @ D1[0,jr,:,i])) +\n",
    "                                          phic_rr(rL)/rL**2 * -r[it]*(-r @ D1[0,jr,:,i]))\n",
    "\n",
    "        # 下半分はあとでコピーすればいい。\n",
    "\n",
    "for id in range(12):\n",
    "    for jd in range(id):\n",
    "        Hessian[id,jd] = Hessian[jd,id]\n",
    "\n",
    "np.set_printoptions(4)\n",
    "print(Hessian)"
   ]
  },
  {
   "cell_type": "code",
   "execution_count": 281,
   "metadata": {},
   "outputs": [
    {
     "name": "stdout",
     "output_type": "stream",
     "text": [
      "energy (kJ/mol)= -13803.366959613006\n",
      "energy (kJ/mol)= -13808.09796671263\n"
     ]
    }
   ],
   "source": [
    "ep = 0\n",
    "for i in (0,1,3):\n",
    "    if i == 3:\n",
    "        ci = -2\n",
    "    else:\n",
    "        ci = 1\n",
    "    for j in (0,1,3):\n",
    "        if j == 3:\n",
    "            cj = -2\n",
    "        else:\n",
    "            cj = 1\n",
    "        cc = ci*cj\n",
    "        r = D0[0,:,i]+pos[0][:3] - (D0[1,:,j]+pos[1][:3]) #verified\n",
    "        rL = np.linalg.norm(r)\n",
    "        ep += cc*phic(rL)\n",
    "\n",
    "\n",
    "# SI unit 2019\n",
    "Na=6.02214076e23\n",
    "ee=1.60217662e-19\n",
    "E0=8.8541878128e-12\n",
    "qe0 = ee**2/(4*math.pi*E0)*Na/4.184*1e7\n",
    "qeT = 332.17752e0\n",
    "sw = ((0.52**2)*qeT*4.184e3*1e3/18.0)**0.5/(6.0*math.pi)\n",
    "# Tanaka's Units\n",
    "TanakaScale = 332.17752e0 / qe0\n",
    "np.set_printoptions(None)\n",
    "print(\"energy (kJ/mol)=\",ep*(0.52*ee)**2/(4*math.pi*E0*1e-10)*Na/nmol)\n",
    "print(\"energy (kJ/mol)=\",ep*(0.52*ee)**2/(4*math.pi*E0*1e-10)*Na/nmol*TanakaScale)"
   ]
  },
  {
   "cell_type": "code",
   "execution_count": 242,
   "metadata": {},
   "outputs": [],
   "source": [
    "# 質点の質量\n",
    "mass = np.array([wh,wh,wo,0.0])\n"
   ]
  },
  {
   "cell_type": "code",
   "execution_count": 279,
   "metadata": {},
   "outputs": [
    {
     "name": "stdout",
     "output_type": "stream",
     "text": [
      "***6\n",
      "[[ 0.0918  0.0136  0.    ]\n",
      " [ 0.0136  0.0504 -0.0426]\n",
      " [ 0.     -0.0426  0.0637]]\n",
      "eival\n",
      "[3.0697 3.3867 8.9228]\n",
      "eivec\n",
      "[[-0.5561  0.8208  0.1309]\n",
      " [-0.5866 -0.276  -0.7614]\n",
      " [ 0.5888  0.5001 -0.635 ]]\n",
      "***6\n",
      "[[ 0.0409 -0.0186  0.    ]\n",
      " [-0.0186  0.0871 -0.0228]\n",
      " [ 0.     -0.0228  0.0637]]\n",
      "eival\n",
      "[3.0855 4.2766 5.5916]\n",
      "eivec\n",
      "[[-0.2465 -0.4448 -0.8611]\n",
      " [ 0.8492  0.329  -0.413 ]\n",
      " [-0.467   0.833  -0.2966]]\n",
      "***4 0 0\n",
      "[[ 0.2807  0.0537 -0.0359]\n",
      " [ 0.0537  0.0124 -0.0402]\n",
      " [-0.0359 -0.0402  0.2125]]\n",
      "***5 0 0\n",
      "[[ 2.3657 -0.7297 -2.4137]\n",
      " [-0.7297  2.2999 -1.3783]\n",
      " [-2.4137 -1.3783  4.3075]]\n",
      "\n",
      "***4 0 1\n",
      "[[ 0.0007 -0.0054 -0.0428]\n",
      " [ 0.0405  0.0124  0.0091]\n",
      " [ 0.0319  0.0064  0.033 ]]\n",
      "***5 0 1\n",
      "[[-0.1346  0.1548 -0.1667]\n",
      " [ 0.0026  0.7822 -1.3462]\n",
      " [ 0.5157 -0.1832 -0.8246]]\n",
      "\n",
      "***4 1 0\n",
      "[[ 0.0007  0.0405  0.0319]\n",
      " [-0.0054  0.0124  0.0064]\n",
      " [-0.0428  0.0091  0.033 ]]\n",
      "***5 1 0\n",
      "[[-0.1346  0.0026  0.5157]\n",
      " [ 0.1548  0.7822 -0.1832]\n",
      " [-0.1667 -1.3462 -0.8246]]\n",
      "\n",
      "***4 1 1\n",
      "[[ 0.0329  0.0135 -0.0057]\n",
      " [ 0.0135  0.0051  0.0105]\n",
      " [-0.0057  0.0105  0.0513]]\n",
      "***5 1 1\n",
      "[[ 0.0153 -0.2023  0.0089]\n",
      " [-0.2023  0.8903 -0.0812]\n",
      " [ 0.0089 -0.0812  1.2197]]\n",
      "\n",
      "***7\n",
      "[[-0.0473  0.1111  0.0236]\n",
      " [-0.0167  0.0256  0.0012]\n",
      " [ 0.1034  0.0405  0.02  ]]\n",
      "***8\n",
      "[[ 0.2976 -0.1624 -0.0063]\n",
      " [ 0.0593  0.3535  0.0983]\n",
      " [-0.5278 -0.2735 -0.0939]]\n",
      "\n",
      "***7\n",
      "[[-0.0336 -0.0165 -0.0038]\n",
      " [-0.0012  0.0272  0.0145]\n",
      " [ 0.0118  0.0377  0.0183]]\n",
      "***8\n",
      "[[ 0.0053  0.0295  0.0144]\n",
      " [ 0.104   0.204   0.0927]\n",
      " [ 0.1451 -0.0461 -0.0457]]\n",
      "\n",
      "***7\n",
      "[[ 0.0473 -0.1111 -0.0236]\n",
      " [ 0.0167 -0.0256 -0.0012]\n",
      " [-0.1034 -0.0405 -0.02  ]]\n",
      "***8\n",
      "[[-0.2976  0.1624  0.0063]\n",
      " [-0.0593 -0.3535 -0.0983]\n",
      " [ 0.5278  0.2735  0.0939]]\n",
      "\n",
      "***7\n",
      "[[ 0.0336  0.0165  0.0038]\n",
      " [ 0.0012 -0.0272 -0.0145]\n",
      " [-0.0118 -0.0377 -0.0183]]\n",
      "***8\n",
      "[[-0.0053 -0.0295 -0.0144]\n",
      " [-0.104  -0.204  -0.0927]\n",
      " [-0.1451  0.0461  0.0457]]\n",
      "\n",
      "[ 0.0914 -0.0021  0.0541 -0.0914  0.0021 -0.0541  0.2976  0.0593 -0.5278\n",
      "  0.0053  0.104   0.1451]\n"
     ]
    }
   ],
   "source": [
    "# 分子内座標での慣性テンソル\n",
    "I = np.zeros(3)\n",
    "I[0] = mass @ np.sum(intra[1:3]**2, axis=0)\n",
    "I[1] = mass @ np.sum(intra[0:3:2]**2, axis=0)\n",
    "I[2] = mass @ np.sum(intra[0:2]**2, axis=0)\n",
    "I /= wm\n",
    "# wmで割ることで、並進には質量を掛ける必要がなくなる。\n",
    "# verified rix, riy,riz\n",
    "\n",
    "# ***1 謎のテンソルの計算\n",
    "eival = np.zeros([nmol,3])\n",
    "eivec = np.zeros([nmol,3,3])\n",
    "\n",
    "for i in range(nmol):\n",
    "    ea,eb,ec = pos[i][3:6]\n",
    "    sina = math.sin(ea)\n",
    "    cosa = math.cos(ea)\n",
    "    sinb = math.sin(eb)\n",
    "    cosb = math.cos(eb)\n",
    "    sinc = math.sin(ec)\n",
    "    cosc = math.cos(ec)\n",
    "    # 第一回転規準\n",
    "    ev = np.array([[I[0]*cosc**2 + I[1]*sinc**2, (I[0]-I[1])*sina*sinc*cosc, 0.0],\n",
    "                   [(I[0]-I[1])*sina*sinc*cosc,  (I[0]*sinc**2+I[1]*cosc**2)*sina**2+I[2]*cosa**2, I[2]*cosa],\n",
    "                   [0.0,  I[2]*cosa, I[2]]])\n",
    "    print(\"***6\")\n",
    "    print(ev)\n",
    "    # ev verified\n",
    "    ival, ivec = np.linalg.eig(ev)\n",
    "    idx = np.argsort(-ival)\n",
    "    ival = ival[idx]\n",
    "    ivec = ivec[:,idx]\n",
    "    eival[i] = 1/ival**0.5\n",
    "    eivec[i] = ivec\n",
    "    # eig verified\n",
    "    print(\"eival\")\n",
    "    print(eival[i])\n",
    "    print(\"eivec\")\n",
    "    print(eivec[i])\n",
    "\n",
    "newHessian = np.zeros_like(Hessian)\n",
    "# rot-rot\n",
    "for i in range(nmol):\n",
    "    for j in range(nmol):\n",
    "        # elements of rot-rot\n",
    "        t = Hessian[(nmol+j)*3:(nmol+j)*3+3, (nmol+i)*3:(nmol+i)*3+3]\n",
    "        print(\"***4\",i,j)\n",
    "        print(t)\n",
    "        t = eivec[j].T @ t @ eivec[i]\n",
    "        sd = t * np.outer(eival[j],eival[i])\n",
    "        newHessian[(nmol+j)*3:(nmol+j)*3+3, (nmol+i)*3:(nmol+i)*3+3] = sd\n",
    "        print(\"***5\",i,j)\n",
    "        print(sd)\n",
    "        print()\n",
    "\n",
    "# rot-trans\n",
    "for i in range(nmol):\n",
    "    for j in range(nmol):\n",
    "        # elements of rot-rot\n",
    "        t = Hessian[(nmol+j)*3:(nmol+j)*3+3, i*3:i*3+3]\n",
    "        print(\"***7\")\n",
    "        print(t)\n",
    "        t = eivec[j].T @ t\n",
    "        sd = (t.T * eival[j]).T\n",
    "        newHessian[(nmol+j)*3:(nmol+j)*3+3, i*3:i*3+3] = sd\n",
    "        print(\"***8\")\n",
    "        print(sd)\n",
    "        print()\n",
    "\n",
    "# trans-trans\n",
    "newHessian[:nmol*3, :nmol*3] = Hessian[:nmol*3, :nmol*3]\n",
    "for i in range(6*nmol):\n",
    "    for j in range(i):\n",
    "        newHessian[j,i] = newHessian[i,j]\n",
    "print(newHessian[:,0])\n"
   ]
  },
  {
   "cell_type": "code",
   "execution_count": 285,
   "metadata": {},
   "outputs": [
    {
     "name": "stdout",
     "output_type": "stream",
     "text": [
      "-164.48535492976967\n",
      "-148.49718890824246\n",
      "-33.04919190553081\n",
      "-6.5157618700403996e-06\n",
      "-5.603521607738403e-06\n",
      "2.04516347439223e-06\n",
      "69.5118005275748\n",
      "85.90363683226006\n",
      "182.3116689639198\n",
      "249.60312704891615\n",
      "448.5741154101845\n",
      "627.2127783695234\n"
     ]
    }
   ],
   "source": [
    "ival, ivec = np.linalg.eigh(newHessian)\n",
    "\n",
    "for iv in sorted(ival):\n",
    "    if iv > 0:\n",
    "        iv = iv**0.5 * sw\n",
    "    else:\n",
    "        iv = -(-iv)**0.5 * sw\n",
    "    print(iv)\n"
   ]
  },
  {
   "cell_type": "code",
   "execution_count": 234,
   "metadata": {},
   "outputs": [],
   "source": [
    "# 未完\n",
    "# * LJ\n",
    "# * Truncation\n",
    "# * 第二回転規準\n",
    "# * 多分子\n",
    "# * Hessianの式の自動生成\n"
   ]
  },
  {
   "cell_type": "code",
   "execution_count": 163,
   "metadata": {},
   "outputs": [
    {
     "data": {
      "text/plain": [
       "array([[ 0.    ,  0.    ,  0.    ,  0.    ],\n",
       "       [ 0.757 , -0.757 ,  0.    ,  0.    ],\n",
       "       [ 0.5208,  0.5208, -0.0651,  0.0849]])"
      ]
     },
     "execution_count": 163,
     "metadata": {},
     "output_type": "execute_result"
    }
   ],
   "source": [
    "intra"
   ]
  },
  {
   "cell_type": "code",
   "execution_count": 166,
   "metadata": {},
   "outputs": [
    {
     "data": {
      "text/plain": [
       "array([[0.573 , 0.573 , 0.    , 0.    ],\n",
       "       [0.2712, 0.2712, 0.0042, 0.0072]])"
      ]
     },
     "execution_count": 166,
     "metadata": {},
     "output_type": "execute_result"
    }
   ],
   "source": [
    "intra[1:3] * intra[1:3]"
   ]
  },
  {
   "cell_type": "code",
   "execution_count": 171,
   "metadata": {},
   "outputs": [
    {
     "data": {
      "image/png": "[encoded data removed]",
      "text/latex": [
       "$$1.756184115098792$$"
      ],
      "text/plain": [
       "1.756184115098792"
      ]
     },
     "execution_count": 171,
     "metadata": {},
     "output_type": "execute_result"
    }
   ],
   "source": [
    "np.sum(intra[1:3]**2, axis=0) @ mass"
   ]
  },
  {
   "cell_type": "code",
   "execution_count": 76,
   "metadata": {},
   "outputs": [
    {
     "data": {
      "text/plain": [
       "array([[1, 2, 3],\n",
       "       [2, 4, 6],\n",
       "       [3, 6, 9]])"
      ]
     },
     "execution_count": 76,
     "metadata": {},
     "output_type": "execute_result"
    }
   ],
   "source": [
    "np.outer(np.array([1,2,3]),np.array([1,2,3]))"
   ]
  },
  {
   "cell_type": "code",
   "execution_count": 86,
   "metadata": {},
   "outputs": [
    {
     "data": {
      "text/plain": [
       "array([[1, 0, 0],\n",
       "       [0, 1, 0],\n",
       "       [0, 0, 1]])"
      ]
     },
     "execution_count": 86,
     "metadata": {},
     "output_type": "execute_result"
    }
   ],
   "source": [
    "np.diag(np.array([1,1,1]))"
   ]
  },
  {
   "cell_type": "code",
   "execution_count": null,
   "metadata": {},
   "outputs": [],
   "source": []
  }
 ],
 "metadata": {
  "kernelspec": {
   "display_name": "Python 3",
   "language": "python",
   "name": "python3"
  },
  "language_info": {
   "codemirror_mode": {
    "name": "ipython",
    "version": 3
   },
   "file_extension": ".py",
   "mimetype": "text/x-python",
   "name": "python",
   "nbconvert_exporter": "python",
   "pygments_lexer": "ipython3",
   "version": "3.6.5"
  }
 },
 "nbformat": 4,
 "nbformat_minor": 2
}
