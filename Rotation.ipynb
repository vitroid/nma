{
 "cells": [
  {
   "cell_type": "markdown",
   "metadata": {},
   "source": [
    "回転行列を変更せず、分子内座標を2種類準備して角度だけをつけかえるとどうなるか。"
   ]
  },
  {
   "cell_type": "code",
   "execution_count": 21,
   "metadata": {},
   "outputs": [],
   "source": [
    "from sympy import *\n",
    "\n",
    "# おまじない\n",
    "init_printing()\n",
    "\n",
    "a, c, b=symbols('a c b')"
   ]
  },
  {
   "cell_type": "code",
   "execution_count": 22,
   "metadata": {},
   "outputs": [],
   "source": [
    "B = Matrix([[ cos(c),sin(c),0],\n",
    "            [-sin(c),cos(c),0],\n",
    "            [0,0,1]])\n",
    "C = Matrix([[1,0,0],\n",
    "            [0, cos(a),sin(a)],\n",
    "            [0,-sin(a),cos(a)]])\n",
    "D = Matrix([[ cos(b),sin(b),0],\n",
    "            [-sin(b),cos(b),0],\n",
    "            [0,0,1]])"
   ]
  },
  {
   "cell_type": "code",
   "execution_count": 23,
   "metadata": {},
   "outputs": [
    {
     "data": {
      "image/png": "[encoded data removed]",
      "text/latex": [
       "$$\\left[\\begin{matrix}- \\sin{\\left (b \\right )} \\sin{\\left (c \\right )} \\cos{\\left (a \\right )} + \\cos{\\left (b \\right )} \\cos{\\left (c \\right )} & - \\sin{\\left (b \\right )} \\cos{\\left (a \\right )} \\cos{\\left (c \\right )} - \\sin{\\left (c \\right )} \\cos{\\left (b \\right )} & \\sin{\\left (a \\right )} \\sin{\\left (b \\right )}\\\\\\sin{\\left (b \\right )} \\cos{\\left (c \\right )} + \\sin{\\left (c \\right )} \\cos{\\left (a \\right )} \\cos{\\left (b \\right )} & - \\sin{\\left (b \\right )} \\sin{\\left (c \\right )} + \\cos{\\left (a \\right )} \\cos{\\left (b \\right )} \\cos{\\left (c \\right )} & - \\sin{\\left (a \\right )} \\cos{\\left (b \\right )}\\\\\\sin{\\left (a \\right )} \\sin{\\left (c \\right )} & \\sin{\\left (a \\right )} \\cos{\\left (c \\right )} & \\cos{\\left (a \\right )}\\end{matrix}\\right]$$"
      ],
      "text/plain": [
       "⎡-sin(b)⋅sin(c)⋅cos(a) + cos(b)⋅cos(c)  -sin(b)⋅cos(a)⋅cos(c) - sin(c)⋅cos(b) \n",
       "⎢                                                                             \n",
       "⎢sin(b)⋅cos(c) + sin(c)⋅cos(a)⋅cos(b)   -sin(b)⋅sin(c) + cos(a)⋅cos(b)⋅cos(c) \n",
       "⎢                                                                             \n",
       "⎣            sin(a)⋅sin(c)                          sin(a)⋅cos(c)             \n",
       "\n",
       " sin(a)⋅sin(b) ⎤\n",
       "               ⎥\n",
       " -sin(a)⋅cos(b)⎥\n",
       "               ⎥\n",
       "     cos(a)    ⎦"
      ]
     },
     "execution_count": 23,
     "metadata": {},
     "output_type": "execute_result"
    }
   ],
   "source": [
    "A=B*C*D\n",
    "AI=A.T\n",
    "AI\n",
    "この定義は、やめる。"
   ]
  },
  {
   "cell_type": "code",
   "execution_count": 5,
   "metadata": {},
   "outputs": [
    {
     "data": {
      "image/png": "[encoded data removed]",
      "text/latex": [
       "$$\\left[\\begin{matrix}\\sin{\\left (ap \\right )} \\sin{\\left (bp \\right )} & - \\sin{\\left (bp \\right )} \\sin{\\left (cp \\right )} \\cos{\\left (ap \\right )} + \\cos{\\left (bp \\right )} \\cos{\\left (cp \\right )} & - \\sin{\\left (bp \\right )} \\cos{\\left (ap \\right )} \\cos{\\left (cp \\right )} - \\sin{\\left (cp \\right )} \\cos{\\left (bp \\right )}\\\\- \\sin{\\left (ap \\right )} \\cos{\\left (bp \\right )} & \\sin{\\left (bp \\right )} \\cos{\\left (cp \\right )} + \\sin{\\left (cp \\right )} \\cos{\\left (ap \\right )} \\cos{\\left (bp \\right )} & - \\sin{\\left (bp \\right )} \\sin{\\left (cp \\right )} + \\cos{\\left (ap \\right )} \\cos{\\left (bp \\right )} \\cos{\\left (cp \\right )}\\\\\\cos{\\left (ap \\right )} & \\sin{\\left (ap \\right )} \\sin{\\left (cp \\right )} & \\sin{\\left (ap \\right )} \\cos{\\left (cp \\right )}\\end{matrix}\\right]$$"
      ],
      "text/plain": [
       "⎡sin(ap)⋅sin(bp)   -sin(bp)⋅sin(cp)⋅cos(ap) + cos(bp)⋅cos(cp)  -sin(bp)⋅cos(ap\n",
       "⎢                                                                             \n",
       "⎢-sin(ap)⋅cos(bp)  sin(bp)⋅cos(cp) + sin(cp)⋅cos(ap)⋅cos(bp)   -sin(bp)⋅sin(cp\n",
       "⎢                                                                             \n",
       "⎣    cos(ap)                    sin(ap)⋅sin(cp)                             si\n",
       "\n",
       ")⋅cos(cp) - sin(cp)⋅cos(bp)⎤\n",
       "                           ⎥\n",
       ") + cos(ap)⋅cos(bp)⋅cos(cp)⎥\n",
       "                           ⎥\n",
       "n(ap)⋅cos(cp)              ⎦"
      ]
     },
     "execution_count": 5,
     "metadata": {},
     "output_type": "execute_result"
    }
   ],
   "source": [
    "# xyz\n",
    "ap, cp, bp=symbols('ap cp bp')\n",
    "E = Matrix([[1,0,0],\n",
    "            [0, cos(cp),-sin(cp)],\n",
    "            [0, sin(cp),cos(cp)]])\n",
    "F = Matrix([[-sin(ap),0,cos(ap)],\n",
    "            [0, 1, 0],\n",
    "            [cos(ap), 0,sin(ap)]])\n",
    "G = Matrix([[-sin(bp),cos(bp),0],\n",
    "            [cos(bp),sin(bp),0],\n",
    "            [0,0,1]])\n",
    "\n",
    "# 第二回転規準の行列。第一から第二への変換が正常なので、これ自体は正しいはず。\n",
    "# しかし、G,F,Eの分解がどうも気持ち悪いし、あとのtensorの式ともあってないかもしれない。\n",
    "G*F*E"
   ]
  },
  {
   "cell_type": "code",
   "execution_count": 309,
   "metadata": {},
   "outputs": [
    {
     "data": {
      "image/png": "[encoded data removed]",
      "text/latex": [
       "$$\\left[\\begin{matrix}- \\sin{\\left (bp \\right )} & \\sin{\\left (ap \\right )} \\cos{\\left (bp \\right )} & \\cos{\\left (ap \\right )} \\cos{\\left (bp \\right )}\\\\- \\sin{\\left (cp \\right )} \\cos{\\left (bp \\right )} & - \\sin{\\left (ap \\right )} \\sin{\\left (bp \\right )} \\sin{\\left (cp \\right )} + \\cos{\\left (ap \\right )} \\cos{\\left (cp \\right )} & - \\sin{\\left (ap \\right )} \\cos{\\left (cp \\right )} - \\sin{\\left (bp \\right )} \\sin{\\left (cp \\right )} \\cos{\\left (ap \\right )}\\\\\\cos{\\left (bp \\right )} \\cos{\\left (cp \\right )} & \\sin{\\left (ap \\right )} \\sin{\\left (bp \\right )} \\cos{\\left (cp \\right )} + \\sin{\\left (cp \\right )} \\cos{\\left (ap \\right )} & - \\sin{\\left (ap \\right )} \\sin{\\left (cp \\right )} + \\sin{\\left (bp \\right )} \\cos{\\left (ap \\right )} \\cos{\\left (cp \\right )}\\end{matrix}\\right]$$"
      ],
      "text/plain": [
       "⎡    -sin(bp)                   sin(ap)⋅cos(bp)                             co\n",
       "⎢                                                                             \n",
       "⎢-sin(cp)⋅cos(bp)  -sin(ap)⋅sin(bp)⋅sin(cp) + cos(ap)⋅cos(cp)  -sin(ap)⋅cos(cp\n",
       "⎢                                                                             \n",
       "⎣cos(bp)⋅cos(cp)   sin(ap)⋅sin(bp)⋅cos(cp) + sin(cp)⋅cos(ap)   -sin(ap)⋅sin(cp\n",
       "\n",
       "s(ap)⋅cos(bp)              ⎤\n",
       "                           ⎥\n",
       ") - sin(bp)⋅sin(cp)⋅cos(ap)⎥\n",
       "                           ⎥\n",
       ") + sin(bp)⋅cos(ap)⋅cos(cp)⎦"
      ]
     },
     "execution_count": 309,
     "metadata": {},
     "output_type": "execute_result"
    }
   ],
   "source": [
    "# x-y-xで回してみる。\n",
    "ap, cp, bp=symbols('ap cp bp')\n",
    "AA = Matrix([[1,0,0],\n",
    "            [0, cos(ap),-sin(ap)],\n",
    "            [0, sin(ap),cos(ap)]])\n",
    "BB = Matrix([[-sin(bp),0,cos(bp)],\n",
    "            [0, 1, 0],\n",
    "            [cos(bp), 0,sin(bp)]])\n",
    "CC = Matrix([[1,0,0],\n",
    "            [0, cos(cp),-sin(cp)],\n",
    "            [0, sin(cp),cos(cp)]])\n",
    "\n",
    "\n",
    "CC*BB*AA"
   ]
  },
  {
   "cell_type": "code",
   "execution_count": 316,
   "metadata": {},
   "outputs": [
    {
     "data": {
      "image/png": "[encoded data removed]",
      "text/latex": [
       "$$\\left[\\begin{matrix}\\sin{\\left (bp \\right )} \\sin{\\left (cp \\right )} \\cos{\\left (ap \\right )} + \\cos{\\left (bp \\right )} \\cos{\\left (cp \\right )} & \\sin{\\left (ap \\right )} \\sin{\\left (cp \\right )} & \\sin{\\left (bp \\right )} \\cos{\\left (cp \\right )} - \\sin{\\left (cp \\right )} \\cos{\\left (ap \\right )} \\cos{\\left (bp \\right )}\\\\- \\sin{\\left (ap \\right )} \\sin{\\left (bp \\right )} & \\cos{\\left (ap \\right )} & \\sin{\\left (ap \\right )} \\cos{\\left (bp \\right )}\\\\- \\sin{\\left (bp \\right )} \\cos{\\left (ap \\right )} \\cos{\\left (cp \\right )} + \\sin{\\left (cp \\right )} \\cos{\\left (bp \\right )} & - \\sin{\\left (ap \\right )} \\cos{\\left (cp \\right )} & \\sin{\\left (bp \\right )} \\sin{\\left (cp \\right )} + \\cos{\\left (ap \\right )} \\cos{\\left (bp \\right )} \\cos{\\left (cp \\right )}\\end{matrix}\\right]$$"
      ],
      "text/plain": [
       "⎡sin(bp)⋅sin(cp)⋅cos(ap) + cos(bp)⋅cos(cp)   sin(ap)⋅sin(cp)   sin(bp)⋅cos(cp)\n",
       "⎢                                                                             \n",
       "⎢             -sin(ap)⋅sin(bp)                   cos(ap)                    si\n",
       "⎢                                                                             \n",
       "⎣-sin(bp)⋅cos(ap)⋅cos(cp) + sin(cp)⋅cos(bp)  -sin(ap)⋅cos(cp)  sin(bp)⋅sin(cp)\n",
       "\n",
       " - sin(cp)⋅cos(ap)⋅cos(bp)⎤\n",
       "                          ⎥\n",
       "n(ap)⋅cos(bp)             ⎥\n",
       "                          ⎥\n",
       " + cos(ap)⋅cos(bp)⋅cos(cp)⎦"
      ]
     },
     "execution_count": 316,
     "metadata": {},
     "output_type": "execute_result"
    }
   ],
   "source": [
    "# y-z-yなら?\n",
    "# x-y-xで回してみる。\n",
    "AAAA = Matrix([[-sin(bp),0,cos(bp)],\n",
    "            [0, 1, 0],\n",
    "            [cos(bp), 0,sin(bp)]])\n",
    "BBBB = Matrix([[ cos(ap),-sin(ap),0],\n",
    "            [ sin(ap),cos(ap),0],\n",
    "            [0,0,1]])\n",
    "CCCC = Matrix([[-sin(cp),0,cos(cp)],\n",
    "            [0, 1, 0],\n",
    "            [cos(cp), 0,sin(cp)]])\n",
    "\n",
    "\n",
    "CCCC*BBBB*AAAA"
   ]
  },
  {
   "cell_type": "code",
   "execution_count": 315,
   "metadata": {},
   "outputs": [
    {
     "data": {
      "image/png": "[encoded data removed]",
      "text/latex": [
       "$$\\left[\\begin{matrix}- \\sin{\\left (b \\right )} \\sin{\\left (c \\right )} \\cos{\\left (a \\right )} + \\cos{\\left (b \\right )} \\cos{\\left (c \\right )} & - \\sin{\\left (b \\right )} \\cos{\\left (a \\right )} \\cos{\\left (c \\right )} - \\sin{\\left (c \\right )} \\cos{\\left (b \\right )} & \\sin{\\left (a \\right )} \\sin{\\left (b \\right )}\\\\\\sin{\\left (b \\right )} \\cos{\\left (c \\right )} + \\sin{\\left (c \\right )} \\cos{\\left (a \\right )} \\cos{\\left (b \\right )} & - \\sin{\\left (b \\right )} \\sin{\\left (c \\right )} + \\cos{\\left (a \\right )} \\cos{\\left (b \\right )} \\cos{\\left (c \\right )} & - \\sin{\\left (a \\right )} \\cos{\\left (b \\right )}\\\\\\sin{\\left (a \\right )} \\sin{\\left (c \\right )} & \\sin{\\left (a \\right )} \\cos{\\left (c \\right )} & \\cos{\\left (a \\right )}\\end{matrix}\\right]$$"
      ],
      "text/plain": [
       "⎡-sin(b)⋅sin(c)⋅cos(a) + cos(b)⋅cos(c)  -sin(b)⋅cos(a)⋅cos(c) - sin(c)⋅cos(b) \n",
       "⎢                                                                             \n",
       "⎢sin(b)⋅cos(c) + sin(c)⋅cos(a)⋅cos(b)   -sin(b)⋅sin(c) + cos(a)⋅cos(b)⋅cos(c) \n",
       "⎢                                                                             \n",
       "⎣            sin(a)⋅sin(c)                          sin(a)⋅cos(c)             \n",
       "\n",
       " sin(a)⋅sin(b) ⎤\n",
       "               ⎥\n",
       " -sin(a)⋅cos(b)⎥\n",
       "               ⎥\n",
       "     cos(a)    ⎦"
      ]
     },
     "execution_count": 315,
     "metadata": {},
     "output_type": "execute_result"
    }
   ],
   "source": [
    "# 第一回転規準: z-x-z\n",
    "AAA = Matrix([[ cos(c),-sin(c),0],\n",
    "            [sin(c),cos(c),0],\n",
    "            [0,0,1]])\n",
    "BBB = Matrix([[1,0,0],\n",
    "            [0, cos(a),-sin(a)],\n",
    "            [0, sin(a),cos(a)]])\n",
    "CCC = Matrix([[ cos(b),-sin(b),0],\n",
    "            [ sin(b),cos(b),0],\n",
    "            [0,0,1]])\n",
    "AI = CCC*BBB*AAA\n",
    "AI"
   ]
  },
  {
   "cell_type": "code",
   "execution_count": 187,
   "metadata": {},
   "outputs": [
    {
     "data": {
      "image/png": "[encoded data removed]",
      "text/latex": [
       "$$\\left[\\begin{matrix}- \\sin{\\left (b \\right )} \\sin{\\left (c \\right )} \\cos{\\left (a \\right )} + \\cos{\\left (b \\right )} \\cos{\\left (c \\right )} & - \\sin{\\left (b \\right )} \\cos{\\left (a \\right )} \\cos{\\left (c \\right )} - \\sin{\\left (c \\right )} \\cos{\\left (b \\right )} & \\sin{\\left (a \\right )} \\sin{\\left (b \\right )}\\\\\\sin{\\left (b \\right )} \\cos{\\left (c \\right )} + \\sin{\\left (c \\right )} \\cos{\\left (a \\right )} \\cos{\\left (b \\right )} & - \\sin{\\left (b \\right )} \\sin{\\left (c \\right )} + \\cos{\\left (a \\right )} \\cos{\\left (b \\right )} \\cos{\\left (c \\right )} & - \\sin{\\left (a \\right )} \\cos{\\left (b \\right )}\\\\\\sin{\\left (a \\right )} \\sin{\\left (c \\right )} & \\sin{\\left (a \\right )} \\cos{\\left (c \\right )} & \\cos{\\left (a \\right )}\\end{matrix}\\right]$$"
      ],
      "text/plain": [
       "⎡-sin(b)⋅sin(c)⋅cos(a) + cos(b)⋅cos(c)  -sin(b)⋅cos(a)⋅cos(c) - sin(c)⋅cos(b) \n",
       "⎢                                                                             \n",
       "⎢sin(b)⋅cos(c) + sin(c)⋅cos(a)⋅cos(b)   -sin(b)⋅sin(c) + cos(a)⋅cos(b)⋅cos(c) \n",
       "⎢                                                                             \n",
       "⎣            sin(a)⋅sin(c)                          sin(a)⋅cos(c)             \n",
       "\n",
       " sin(a)⋅sin(b) ⎤\n",
       "               ⎥\n",
       " -sin(a)⋅cos(b)⎥\n",
       "               ⎥\n",
       "     cos(a)    ⎦"
      ]
     },
     "execution_count": 187,
     "metadata": {},
     "output_type": "execute_result"
    }
   ],
   "source": [
    "AI"
   ]
  },
  {
   "cell_type": "code",
   "execution_count": 13,
   "metadata": {},
   "outputs": [
    {
     "data": {
      "text/plain": [
       "array([[ 1., -0.,  0.],\n",
       "       [ 0.,  1., -0.],\n",
       "       [ 0.,  0.,  1.]])"
      ]
     },
     "execution_count": 13,
     "metadata": {},
     "output_type": "execute_result"
    }
   ],
   "source": [
    "# make AI as a function\n",
    "import numpy as np\n",
    "A1 = lambdify([a,b,c], AI, 'numpy')\n",
    "A1(0,0,0)"
   ]
  },
  {
   "cell_type": "code",
   "execution_count": 15,
   "metadata": {},
   "outputs": [
    {
     "data": {
      "text/plain": [
       "array([[ 0.,  1., -0.],\n",
       "       [-0.,  0.,  1.],\n",
       "       [ 1.,  0.,  0.]])"
      ]
     },
     "execution_count": 15,
     "metadata": {},
     "output_type": "execute_result"
    }
   ],
   "source": [
    "A2 = lambdify([ap,bp,cp], G*F*E, 'numpy')\n",
    "A2(0,0,0)"
   ]
  },
  {
   "cell_type": "code",
   "execution_count": 7,
   "metadata": {},
   "outputs": [
    {
     "data": {
      "image/png": "[encoded data removed]",
      "text/latex": [
       "$$\\left[\\begin{matrix}\\sin{\\left (a \\right )} \\sin{\\left (b \\right )} \\sin{\\left (c \\right )} & \\sin{\\left (a \\right )} \\sin{\\left (b \\right )} \\cos{\\left (c \\right )} & \\sin{\\left (b \\right )} \\cos{\\left (a \\right )}\\\\- \\sin{\\left (a \\right )} \\sin{\\left (c \\right )} \\cos{\\left (b \\right )} & - \\sin{\\left (a \\right )} \\cos{\\left (b \\right )} \\cos{\\left (c \\right )} & - \\cos{\\left (a \\right )} \\cos{\\left (b \\right )}\\\\\\sin{\\left (c \\right )} \\cos{\\left (a \\right )} & \\cos{\\left (a \\right )} \\cos{\\left (c \\right )} & - \\sin{\\left (a \\right )}\\end{matrix}\\right]$$"
      ],
      "text/plain": [
       "⎡sin(a)⋅sin(b)⋅sin(c)   sin(a)⋅sin(b)⋅cos(c)   sin(b)⋅cos(a) ⎤\n",
       "⎢                                                            ⎥\n",
       "⎢-sin(a)⋅sin(c)⋅cos(b)  -sin(a)⋅cos(b)⋅cos(c)  -cos(a)⋅cos(b)⎥\n",
       "⎢                                                            ⎥\n",
       "⎣    sin(c)⋅cos(a)          cos(a)⋅cos(c)         -sin(a)    ⎦"
      ]
     },
     "execution_count": 7,
     "metadata": {},
     "output_type": "execute_result"
    }
   ],
   "source": [
    "diff(AI,a)"
   ]
  },
  {
   "cell_type": "code",
   "execution_count": 11,
   "metadata": {},
   "outputs": [
    {
     "data": {
      "text/latex": [
       "$$\\left[\\begin{matrix}- \\sin{\\left (b \\right )} \\cos{\\left (a \\right )} \\cos{\\left (c \\right )} - \\sin{\\left (c \\right )} \\cos{\\left (b \\right )} & \\sin{\\left (b \\right )} \\sin{\\left (c \\right )} \\cos{\\left (a \\right )} - \\cos{\\left (b \\right )} \\cos{\\left (c \\right )} & 0\\\\- \\sin{\\left (b \\right )} \\sin{\\left (c \\right )} + \\cos{\\left (a \\right )} \\cos{\\left (b \\right )} \\cos{\\left (c \\right )} & - \\sin{\\left (b \\right )} \\cos{\\left (c \\right )} - \\sin{\\left (c \\right )} \\cos{\\left (a \\right )} \\cos{\\left (b \\right )} & 0\\\\\\sin{\\left (a \\right )} \\cos{\\left (c \\right )} & - \\sin{\\left (a \\right )} \\sin{\\left (c \\right )} & 0\\end{matrix}\\right]$$"
      ],
      "text/plain": [
       "⎡-sin(b)⋅cos(a)⋅cos(c) - sin(c)⋅cos(b)  sin(b)⋅sin(c)⋅cos(a) - cos(b)⋅cos(c)  \n",
       "⎢                                                                             \n",
       "⎢-sin(b)⋅sin(c) + cos(a)⋅cos(b)⋅cos(c)  -sin(b)⋅cos(c) - sin(c)⋅cos(a)⋅cos(b) \n",
       "⎢                                                                             \n",
       "⎣            sin(a)⋅cos(c)                         -sin(a)⋅sin(c)             \n",
       "\n",
       " 0⎤\n",
       "  ⎥\n",
       " 0⎥\n",
       "  ⎥\n",
       " 0⎦"
      ]
     },
     "execution_count": 11,
     "metadata": {},
     "output_type": "execute_result"
    }
   ],
   "source": [
    "diff(AI,c)"
   ]
  },
  {
   "cell_type": "code",
   "execution_count": 12,
   "metadata": {},
   "outputs": [
    {
     "data": {
      "text/latex": [
       "$$\\left[\\begin{matrix}- \\sin{\\left (b \\right )} \\cos{\\left (c \\right )} - \\sin{\\left (c \\right )} \\cos{\\left (a \\right )} \\cos{\\left (b \\right )} & \\sin{\\left (b \\right )} \\sin{\\left (c \\right )} - \\cos{\\left (a \\right )} \\cos{\\left (b \\right )} \\cos{\\left (c \\right )} & \\sin{\\left (a \\right )} \\cos{\\left (b \\right )}\\\\- \\sin{\\left (b \\right )} \\sin{\\left (c \\right )} \\cos{\\left (a \\right )} + \\cos{\\left (b \\right )} \\cos{\\left (c \\right )} & - \\sin{\\left (b \\right )} \\cos{\\left (a \\right )} \\cos{\\left (c \\right )} - \\sin{\\left (c \\right )} \\cos{\\left (b \\right )} & \\sin{\\left (a \\right )} \\sin{\\left (b \\right )}\\\\0 & 0 & 0\\end{matrix}\\right]$$"
      ],
      "text/plain": [
       "⎡-sin(b)⋅cos(c) - sin(c)⋅cos(a)⋅cos(b)  sin(b)⋅sin(c) - cos(a)⋅cos(b)⋅cos(c)  \n",
       "⎢                                                                             \n",
       "⎢-sin(b)⋅sin(c)⋅cos(a) + cos(b)⋅cos(c)  -sin(b)⋅cos(a)⋅cos(c) - sin(c)⋅cos(b) \n",
       "⎢                                                                             \n",
       "⎣                  0                                      0                   \n",
       "\n",
       " sin(a)⋅cos(b)⎤\n",
       "              ⎥\n",
       " sin(a)⋅sin(b)⎥\n",
       "              ⎥\n",
       "       0      ⎦"
      ]
     },
     "execution_count": 12,
     "metadata": {},
     "output_type": "execute_result"
    }
   ],
   "source": [
    "diff(AI,b)"
   ]
  },
  {
   "cell_type": "code",
   "execution_count": 13,
   "metadata": {},
   "outputs": [
    {
     "data": {
      "text/latex": [
       "$$\\left[\\begin{matrix}\\sin{\\left (b \\right )} \\sin{\\left (c \\right )} \\cos{\\left (a \\right )} & \\sin{\\left (b \\right )} \\cos{\\left (a \\right )} \\cos{\\left (c \\right )} & - \\sin{\\left (a \\right )} \\sin{\\left (b \\right )}\\\\- \\sin{\\left (c \\right )} \\cos{\\left (a \\right )} \\cos{\\left (b \\right )} & - \\cos{\\left (a \\right )} \\cos{\\left (b \\right )} \\cos{\\left (c \\right )} & \\sin{\\left (a \\right )} \\cos{\\left (b \\right )}\\\\- \\sin{\\left (a \\right )} \\sin{\\left (c \\right )} & - \\sin{\\left (a \\right )} \\cos{\\left (c \\right )} & - \\cos{\\left (a \\right )}\\end{matrix}\\right]$$"
      ],
      "text/plain": [
       "⎡sin(b)⋅sin(c)⋅cos(a)   sin(b)⋅cos(a)⋅cos(c)   -sin(a)⋅sin(b)⎤\n",
       "⎢                                                            ⎥\n",
       "⎢-sin(c)⋅cos(a)⋅cos(b)  -cos(a)⋅cos(b)⋅cos(c)  sin(a)⋅cos(b) ⎥\n",
       "⎢                                                            ⎥\n",
       "⎣   -sin(a)⋅sin(c)         -sin(a)⋅cos(c)         -cos(a)    ⎦"
      ]
     },
     "execution_count": 13,
     "metadata": {},
     "output_type": "execute_result"
    }
   ],
   "source": [
    "diff(AI,(a,2))"
   ]
  },
  {
   "cell_type": "code",
   "execution_count": 14,
   "metadata": {},
   "outputs": [
    {
     "data": {
      "text/latex": [
       "$$\\left[\\begin{matrix}\\sin{\\left (b \\right )} \\sin{\\left (c \\right )} \\cos{\\left (a \\right )} - \\cos{\\left (b \\right )} \\cos{\\left (c \\right )} & \\sin{\\left (b \\right )} \\cos{\\left (a \\right )} \\cos{\\left (c \\right )} + \\sin{\\left (c \\right )} \\cos{\\left (b \\right )} & 0\\\\- (\\sin{\\left (b \\right )} \\cos{\\left (c \\right )} + \\sin{\\left (c \\right )} \\cos{\\left (a \\right )} \\cos{\\left (b \\right )}) & \\sin{\\left (b \\right )} \\sin{\\left (c \\right )} - \\cos{\\left (a \\right )} \\cos{\\left (b \\right )} \\cos{\\left (c \\right )} & 0\\\\- \\sin{\\left (a \\right )} \\sin{\\left (c \\right )} & - \\sin{\\left (a \\right )} \\cos{\\left (c \\right )} & 0\\end{matrix}\\right]$$"
      ],
      "text/plain": [
       "⎡ sin(b)⋅sin(c)⋅cos(a) - cos(b)⋅cos(c)    sin(b)⋅cos(a)⋅cos(c) + sin(c)⋅cos(b)\n",
       "⎢                                                                             \n",
       "⎢-(sin(b)⋅cos(c) + sin(c)⋅cos(a)⋅cos(b))  sin(b)⋅sin(c) - cos(a)⋅cos(b)⋅cos(c)\n",
       "⎢                                                                             \n",
       "⎣            -sin(a)⋅sin(c)                          -sin(a)⋅cos(c)           \n",
       "\n",
       "  0⎤\n",
       "   ⎥\n",
       "  0⎥\n",
       "   ⎥\n",
       "  0⎦"
      ]
     },
     "execution_count": 14,
     "metadata": {},
     "output_type": "execute_result"
    }
   ],
   "source": [
    "diff(AI,(c,2))"
   ]
  },
  {
   "cell_type": "code",
   "execution_count": 15,
   "metadata": {},
   "outputs": [
    {
     "data": {
      "text/latex": [
       "$$\\left[\\begin{matrix}\\sin{\\left (b \\right )} \\sin{\\left (c \\right )} \\cos{\\left (a \\right )} - \\cos{\\left (b \\right )} \\cos{\\left (c \\right )} & \\sin{\\left (b \\right )} \\cos{\\left (a \\right )} \\cos{\\left (c \\right )} + \\sin{\\left (c \\right )} \\cos{\\left (b \\right )} & - \\sin{\\left (a \\right )} \\sin{\\left (b \\right )}\\\\- (\\sin{\\left (b \\right )} \\cos{\\left (c \\right )} + \\sin{\\left (c \\right )} \\cos{\\left (a \\right )} \\cos{\\left (b \\right )}) & \\sin{\\left (b \\right )} \\sin{\\left (c \\right )} - \\cos{\\left (a \\right )} \\cos{\\left (b \\right )} \\cos{\\left (c \\right )} & \\sin{\\left (a \\right )} \\cos{\\left (b \\right )}\\\\0 & 0 & 0\\end{matrix}\\right]$$"
      ],
      "text/plain": [
       "⎡ sin(b)⋅sin(c)⋅cos(a) - cos(b)⋅cos(c)    sin(b)⋅cos(a)⋅cos(c) + sin(c)⋅cos(b)\n",
       "⎢                                                                             \n",
       "⎢-(sin(b)⋅cos(c) + sin(c)⋅cos(a)⋅cos(b))  sin(b)⋅sin(c) - cos(a)⋅cos(b)⋅cos(c)\n",
       "⎢                                                                             \n",
       "⎣                   0                                      0                  \n",
       "\n",
       "  -sin(a)⋅sin(b)⎤\n",
       "                ⎥\n",
       "  sin(a)⋅cos(b) ⎥\n",
       "                ⎥\n",
       "        0       ⎦"
      ]
     },
     "execution_count": 15,
     "metadata": {},
     "output_type": "execute_result"
    }
   ],
   "source": [
    "diff(AI,(b,2))"
   ]
  },
  {
   "cell_type": "code",
   "execution_count": 16,
   "metadata": {},
   "outputs": [
    {
     "data": {
      "text/latex": [
       "$$\\left[\\begin{matrix}\\sin{\\left (a \\right )} \\sin{\\left (c \\right )} \\cos{\\left (b \\right )} & \\sin{\\left (a \\right )} \\cos{\\left (b \\right )} \\cos{\\left (c \\right )} & \\cos{\\left (a \\right )} \\cos{\\left (b \\right )}\\\\\\sin{\\left (a \\right )} \\sin{\\left (b \\right )} \\sin{\\left (c \\right )} & \\sin{\\left (a \\right )} \\sin{\\left (b \\right )} \\cos{\\left (c \\right )} & \\sin{\\left (b \\right )} \\cos{\\left (a \\right )}\\\\0 & 0 & 0\\end{matrix}\\right]$$"
      ],
      "text/plain": [
       "⎡sin(a)⋅sin(c)⋅cos(b)  sin(a)⋅cos(b)⋅cos(c)  cos(a)⋅cos(b)⎤\n",
       "⎢                                                         ⎥\n",
       "⎢sin(a)⋅sin(b)⋅sin(c)  sin(a)⋅sin(b)⋅cos(c)  sin(b)⋅cos(a)⎥\n",
       "⎢                                                         ⎥\n",
       "⎣         0                     0                  0      ⎦"
      ]
     },
     "execution_count": 16,
     "metadata": {},
     "output_type": "execute_result"
    }
   ],
   "source": [
    "diff(AI,b,a)"
   ]
  },
  {
   "cell_type": "code",
   "execution_count": 17,
   "metadata": {},
   "outputs": [
    {
     "data": {
      "text/latex": [
       "$$\\left[\\begin{matrix}\\sin{\\left (a \\right )} \\sin{\\left (b \\right )} \\cos{\\left (c \\right )} & - \\sin{\\left (a \\right )} \\sin{\\left (b \\right )} \\sin{\\left (c \\right )} & 0\\\\- \\sin{\\left (a \\right )} \\cos{\\left (b \\right )} \\cos{\\left (c \\right )} & \\sin{\\left (a \\right )} \\sin{\\left (c \\right )} \\cos{\\left (b \\right )} & 0\\\\\\cos{\\left (a \\right )} \\cos{\\left (c \\right )} & - \\sin{\\left (c \\right )} \\cos{\\left (a \\right )} & 0\\end{matrix}\\right]$$"
      ],
      "text/plain": [
       "⎡sin(a)⋅sin(b)⋅cos(c)   -sin(a)⋅sin(b)⋅sin(c)  0⎤\n",
       "⎢                                               ⎥\n",
       "⎢-sin(a)⋅cos(b)⋅cos(c)  sin(a)⋅sin(c)⋅cos(b)   0⎥\n",
       "⎢                                               ⎥\n",
       "⎣    cos(a)⋅cos(c)         -sin(c)⋅cos(a)      0⎦"
      ]
     },
     "execution_count": 17,
     "metadata": {},
     "output_type": "execute_result"
    }
   ],
   "source": [
    "diff(AI,c,a)"
   ]
  },
  {
   "cell_type": "code",
   "execution_count": 18,
   "metadata": {},
   "outputs": [
    {
     "data": {
      "text/latex": [
       "$$\\left[\\begin{matrix}\\sin{\\left (b \\right )} \\sin{\\left (c \\right )} - \\cos{\\left (a \\right )} \\cos{\\left (b \\right )} \\cos{\\left (c \\right )} & \\sin{\\left (b \\right )} \\cos{\\left (c \\right )} + \\sin{\\left (c \\right )} \\cos{\\left (a \\right )} \\cos{\\left (b \\right )} & 0\\\\- (\\sin{\\left (b \\right )} \\cos{\\left (a \\right )} \\cos{\\left (c \\right )} + \\sin{\\left (c \\right )} \\cos{\\left (b \\right )}) & \\sin{\\left (b \\right )} \\sin{\\left (c \\right )} \\cos{\\left (a \\right )} - \\cos{\\left (b \\right )} \\cos{\\left (c \\right )} & 0\\\\0 & 0 & 0\\end{matrix}\\right]$$"
      ],
      "text/plain": [
       "⎡ sin(b)⋅sin(c) - cos(a)⋅cos(b)⋅cos(c)    sin(b)⋅cos(c) + sin(c)⋅cos(a)⋅cos(b)\n",
       "⎢                                                                             \n",
       "⎢-(sin(b)⋅cos(a)⋅cos(c) + sin(c)⋅cos(b))  sin(b)⋅sin(c)⋅cos(a) - cos(b)⋅cos(c)\n",
       "⎢                                                                             \n",
       "⎣                   0                                      0                  \n",
       "\n",
       "  0⎤\n",
       "   ⎥\n",
       "  0⎥\n",
       "   ⎥\n",
       "  0⎦"
      ]
     },
     "execution_count": 18,
     "metadata": {},
     "output_type": "execute_result"
    }
   ],
   "source": [
    "diff(AI,c,b)"
   ]
  },
  {
   "cell_type": "code",
   "execution_count": 84,
   "metadata": {},
   "outputs": [],
   "source": []
  },
  {
   "cell_type": "code",
   "execution_count": 446,
   "metadata": {},
   "outputs": [
    {
     "data": {
      "image/png": "[encoded data removed]",
      "text/latex": [
       "$$\\left[\\begin{matrix}- \\sin{\\left (b \\right )} \\sin{\\left (c \\right )} \\cos{\\left (a \\right )} + \\cos{\\left (b \\right )} \\cos{\\left (c \\right )} & - \\sin{\\left (b \\right )} \\cos{\\left (a \\right )} \\cos{\\left (c \\right )} - \\sin{\\left (c \\right )} \\cos{\\left (b \\right )} & \\sin{\\left (a \\right )} \\sin{\\left (b \\right )}\\\\\\sin{\\left (b \\right )} \\cos{\\left (c \\right )} + \\sin{\\left (c \\right )} \\cos{\\left (a \\right )} \\cos{\\left (b \\right )} & - \\sin{\\left (b \\right )} \\sin{\\left (c \\right )} + \\cos{\\left (a \\right )} \\cos{\\left (b \\right )} \\cos{\\left (c \\right )} & - \\sin{\\left (a \\right )} \\cos{\\left (b \\right )}\\\\\\sin{\\left (a \\right )} \\sin{\\left (c \\right )} & \\sin{\\left (a \\right )} \\cos{\\left (c \\right )} & \\cos{\\left (a \\right )}\\end{matrix}\\right]$$"
      ],
      "text/plain": [
       "⎡-sin(b)⋅sin(c)⋅cos(a) + cos(b)⋅cos(c)  -sin(b)⋅cos(a)⋅cos(c) - sin(c)⋅cos(b) \n",
       "⎢                                                                             \n",
       "⎢sin(b)⋅cos(c) + sin(c)⋅cos(a)⋅cos(b)   -sin(b)⋅sin(c) + cos(a)⋅cos(b)⋅cos(c) \n",
       "⎢                                                                             \n",
       "⎣            sin(a)⋅sin(c)                          sin(a)⋅cos(c)             \n",
       "\n",
       " sin(a)⋅sin(b) ⎤\n",
       "               ⎥\n",
       " -sin(a)⋅cos(b)⎥\n",
       "               ⎥\n",
       "     cos(a)    ⎦"
      ]
     },
     "execution_count": 446,
     "metadata": {},
     "output_type": "execute_result"
    }
   ],
   "source": [
    "AI"
   ]
  },
  {
   "cell_type": "code",
   "execution_count": 447,
   "metadata": {},
   "outputs": [
    {
     "data": {
      "image/png": "[encoded data removed]",
      "text/latex": [
       "$$\\left[\\begin{matrix}- \\sin{\\left (b \\right )} \\cos{\\left (a \\right )} \\cos{\\left (c \\right )} - \\sin{\\left (c \\right )} \\cos{\\left (b \\right )} & \\sin{\\left (a \\right )} \\sin{\\left (b \\right )} & - \\sin{\\left (b \\right )} \\sin{\\left (c \\right )} \\cos{\\left (a \\right )} + \\cos{\\left (b \\right )} \\cos{\\left (c \\right )}\\\\- \\sin{\\left (b \\right )} \\sin{\\left (c \\right )} + \\cos{\\left (a \\right )} \\cos{\\left (b \\right )} \\cos{\\left (c \\right )} & - \\sin{\\left (a \\right )} \\cos{\\left (b \\right )} & \\sin{\\left (b \\right )} \\cos{\\left (c \\right )} + \\sin{\\left (c \\right )} \\cos{\\left (a \\right )} \\cos{\\left (b \\right )}\\\\\\sin{\\left (a \\right )} \\cos{\\left (c \\right )} & \\cos{\\left (a \\right )} & \\sin{\\left (a \\right )} \\sin{\\left (c \\right )}\\end{matrix}\\right]$$"
      ],
      "text/plain": [
       "⎡-sin(b)⋅cos(a)⋅cos(c) - sin(c)⋅cos(b)  sin(a)⋅sin(b)   -sin(b)⋅sin(c)⋅cos(a) \n",
       "⎢                                                                             \n",
       "⎢-sin(b)⋅sin(c) + cos(a)⋅cos(b)⋅cos(c)  -sin(a)⋅cos(b)  sin(b)⋅cos(c) + sin(c)\n",
       "⎢                                                                             \n",
       "⎣            sin(a)⋅cos(c)                  cos(a)                  sin(a)⋅sin\n",
       "\n",
       "+ cos(b)⋅cos(c)⎤\n",
       "               ⎥\n",
       "⋅cos(a)⋅cos(b) ⎥\n",
       "               ⎥\n",
       "(c)            ⎦"
      ]
     },
     "execution_count": 447,
     "metadata": {},
     "output_type": "execute_result"
    }
   ],
   "source": [
    "R = Matrix([[0,0,0],[0,0,0],[0,0,0]])\n",
    "R[:,0] = AI[:,1]\n",
    "R[:,1] = AI[:,2]\n",
    "R[:,2] = AI[:,0]\n",
    "R"
   ]
  },
  {
   "cell_type": "code",
   "execution_count": 448,
   "metadata": {},
   "outputs": [
    {
     "name": "stdout",
     "output_type": "stream",
     "text": [
      "[[ 0.6647 -0.7793  0.0072 -0.0093]\n",
      " [-0.0414 -0.369   0.0256 -0.0335]\n",
      " [ 0.633   0.3174 -0.0594  0.0775]]\n"
     ]
    }
   ],
   "source": [
    "# sin(a)*sin(c) = cos(ap)となるようなapを求めたい。\n",
    "sina = math.sin(ea)\n",
    "cosa = math.cos(ea)\n",
    "sinb = math.sin(eb)\n",
    "cosb = math.cos(eb)\n",
    "sinc = math.sin(ec)\n",
    "cosc = math.cos(ec)\n",
    "\n",
    "# atan2はsin、cosを引数として角度を返す。\n",
    "ap = math.acos(sina*sinc)\n",
    "cp = math.atan2(sina*cosc, cosa)\n",
    "bp = math.atan2(-sinb*sinc*cosa+cosb*cosc, -sinb*cosc-sinc*cosa*cosb)\n",
    "print(A1(ap,bp,cp)@intra2)\n"
   ]
  },
  {
   "cell_type": "code",
   "execution_count": 558,
   "metadata": {},
   "outputs": [
    {
     "name": "stdout",
     "output_type": "stream",
     "text": [
      "distance 1-0\n",
      "2.760115060875137\n",
      "distance 2-0\n",
      "4.53064719827699\n",
      "distance 2-1\n",
      "2.7633262900540823\n",
      "criteria 0.40908360695823176\n",
      "criteria 0.7428778984203892\n",
      "criteria 0.9339638536719581\n",
      "***2 0 -0.11003767953489299\n",
      "***3 0 0.2726125750233493\n",
      "***2 1 0.0293342728495134\n",
      "***3 1 0.32918696399831726\n",
      "***2 2 0.23097309246100167\n",
      "***3 2 0.30762544884810405\n"
     ]
    }
   ],
   "source": [
    "import numpy as np\n",
    "import math\n",
    "# TIP4Pの座標系\n",
    "angle,holen,colen = 104.52,0.9572,0.15\n",
    "wh = 1.0\n",
    "wo = 16.0\n",
    "wm = wh + wh + wo\n",
    "rangle = angle*math.pi/360\n",
    "ohz=holen*math.cos(rangle)\n",
    "hyl=holen*math.sin(rangle)\n",
    "hzl=wo*ohz/wm\n",
    "ol=-ohz+hzl\n",
    "cl=colen+ol\n",
    "# 分子内の原子位置\n",
    "intra = np.array([[0,hyl,hzl],\n",
    "                  [0,-hyl,hzl],\n",
    "                  [0,0,ol],\n",
    "                  [0,0,cl]]).T\n",
    "# 分子内座標の、軸を交換したもの\n",
    "intra2 = np.zeros_like(intra)\n",
    "intra2[0] = intra[1]\n",
    "intra2[1] = intra[2]\n",
    "intra2[2] = intra[0]\n",
    "\n",
    "# 2分子の座標を読みこむ。\n",
    "file = open(\"test.nx3a\")\n",
    "while True:\n",
    "    line = file.readline()\n",
    "    if \"@NX3A\" in line:\n",
    "        line = file.readline()\n",
    "        nmol = int(line)\n",
    "        pos = []\n",
    "        for i in range(nmol):\n",
    "            line = file.readline()\n",
    "            pos.append([float(x) for x in line.split()])\n",
    "        pos = np.array(pos)\n",
    "        break\n",
    "\n",
    "lc = [0 for i in range(nmol)]\n",
    "        \n",
    "from sympy import *\n",
    "\n",
    "# おまじない\n",
    "init_printing()\n",
    "\n",
    "a,b,c=symbols('a b c')\n",
    "\n",
    "B = Matrix([[ cos(c),-sin(c),0],\n",
    "            [ sin(c), cos(c),0],\n",
    "            [0,0,1]])\n",
    "C = Matrix([[1,0,0],\n",
    "            [0, cos(a),-sin(a)],\n",
    "            [0, sin(a), cos(a)]])\n",
    "D = Matrix([[ cos(b),-sin(b),0],\n",
    "            [ sin(b), cos(b),0],\n",
    "            [0,0,1]])\n",
    "AI = D*C*B\n",
    "\n",
    "\n",
    "# 解析的に回転行列を角度で微分し、それをpythonの関数とする。\n",
    "A1 = lambdify([a,b,c],AI)\n",
    "A1a = lambdify([a,b,c],diff(AI,a))\n",
    "A1b = lambdify([a,b,c],diff(AI,b))\n",
    "A1c = lambdify([a,b,c],diff(AI,c))\n",
    "A1aa = lambdify([a,b,c],diff(AI,a,a))\n",
    "A1bb = lambdify([a,b,c],diff(AI,b,b))\n",
    "A1cc = lambdify([a,b,c],diff(AI,c,c))\n",
    "A1ab = lambdify([a,b,c],diff(AI,a,b))\n",
    "A1bc = lambdify([a,b,c],diff(AI,b,c))\n",
    "A1ca = lambdify([a,b,c],diff(AI,c,a))\n",
    "\n",
    "\n",
    "\n",
    "def conv_euler(ea,eb,ec):\n",
    "    sina=math.sin(ea)\n",
    "    sinb=math.sin(eb)\n",
    "    sinc=math.sin(ec)\n",
    "    cosa=math.cos(ea)\n",
    "    cosb=math.cos(eb)\n",
    "    cosc=math.cos(ec)\n",
    "\n",
    "    ap = math.acos(sina*sinc)\n",
    "    cp = math.atan2(sina*cosc, cosa)\n",
    "    bp = math.atan2(-sinb*sinc*cosa+cosb*cosc, -sinb*cosc-sinc*cosa*cosb)\n",
    "    return ap,bp,cp\n",
    "\n",
    "\n",
    "for i in range(nmol):\n",
    "    for j in range(i):\n",
    "        print(\"distance {0}-{1}\".format(i,j))\n",
    "        print(np.linalg.norm(pos[i][0:3]-pos[j][0:3]))\n",
    "\n",
    "# 回転行列に分子内座標をかけたもの。原子の重心からの空間座標\n",
    "D0 = np.zeros([nmol,3,4])\n",
    "# 回転行列の、角度による一階微分に、分子内座標をかけたもの。\n",
    "# D1 == dR_i / da_i\n",
    "D1 = np.zeros([nmol,3,3,4]) # molecule, euler angle, vectors, sites\n",
    "# 回転行列の、角度による二階微分に、分子内座標をかけたもの。\n",
    "# D2 == d^2 R_i / da db\n",
    "D2 = np.zeros([nmol,3,3,3,4]) # molecule, euler angle1, angle2, vectors, sites\n",
    "\n",
    "for i in range(nmol):\n",
    "    ea,eb,ec = pos[i][3:6]\n",
    "    print(\"criteria\", abs(math.sin(ea)))\n",
    "    if abs(math.sin(ea)) > 0.7:\n",
    "        D0[i] = A1(ea,eb,ec) @ intra\n",
    "        D1[i,0] = A1a(ea,eb,ec) @ intra\n",
    "        D1[i,1] = A1b(ea,eb,ec) @ intra\n",
    "        D1[i,2] = A1c(ea,eb,ec) @ intra\n",
    "        D2[i,0,0] = A1aa(ea,eb,ec) @ intra\n",
    "        D2[i,1,1] = A1bb(ea,eb,ec) @ intra\n",
    "        D2[i,2,2] = A1cc(ea,eb,ec) @ intra\n",
    "        D2[i,0,1] = A1ab(ea,eb,ec) @ intra\n",
    "        D2[i,1,2] = A1bc(ea,eb,ec) @ intra\n",
    "        D2[i,2,0] = A1ca(ea,eb,ec) @ intra\n",
    "        D2[i,1,0] = D2[i,0,1]\n",
    "        D2[i,2,1] = D2[i,1,2]\n",
    "        D2[i,0,2] = D2[i,2,0]\n",
    "    else:\n",
    "        ea,eb,ec = conv_euler(ea,eb,ec)\n",
    "        pos[i][3:6] = ea,eb,ec\n",
    "        lc[i] = 1 # rotation order of second kind\n",
    "        D0[i] = A1(ea,eb,ec) @ intra2\n",
    "        D1[i,0] = A1a(ea,eb,ec) @ intra2\n",
    "        D1[i,1] = A1b(ea,eb,ec) @ intra2\n",
    "        D1[i,2] = A1c(ea,eb,ec) @ intra2\n",
    "        D2[i,0,0] = A1aa(ea,eb,ec) @ intra2\n",
    "        D2[i,1,1] = A1bb(ea,eb,ec) @ intra2\n",
    "        D2[i,2,2] = A1cc(ea,eb,ec) @ intra2\n",
    "        D2[i,0,1] = A1ab(ea,eb,ec) @ intra2\n",
    "        D2[i,1,2] = A1bc(ea,eb,ec) @ intra2\n",
    "        D2[i,2,0] = A1ca(ea,eb,ec) @ intra2\n",
    "        D2[i,1,0] = D2[i,0,1]\n",
    "        D2[i,2,1] = D2[i,1,2]\n",
    "        D2[i,0,2] = D2[i,2,0]\n",
    "\n",
    "# ***2\n",
    "for i in range(nmol):\n",
    "    ea,eb,ec = pos[i][3:6]\n",
    "    print(\"***2\",i,A1(ea,eb,ec)[0,1])\n",
    "    print(\"***3\",i,A1a(ea,eb,ec)[0,1])\n",
    "# Tanaka programでの配列要素(1,2)は、Pythonでは[0,1]になる。\n",
    "# 以後、縦横を精査。"
   ]
  },
  {
   "cell_type": "code",
   "execution_count": 559,
   "metadata": {},
   "outputs": [],
   "source": [
    "# 当面、田中プログラムとの照合のために、エネルギーの単位は、水素2原子が1 Aにいる時のCoulomb力を1とする。\n",
    "# 最終的にはもっと汎用の書き方にする。\n",
    "\n",
    "# 相互作用関数。定数はすべて省略してあるが、定数は微分しても不変なのであとで定数をかけるだけでいい。\n",
    "def phic(rL):\n",
    "    return 1/rL\n",
    "\n",
    "# 距離による一階微分\n",
    "def phic_r(rL):\n",
    "    return -1/rL**2\n",
    "\n",
    "# 距離による二階微分\n",
    "def phic_rr(rL):\n",
    "    return 2/rL**3\n",
    "\n",
    "# このあたりの関数も、できればsympyに生成させたい。\n",
    "def dxixi(r, phi_r, phi_rr):\n",
    "    # r is a vector\n",
    "    rL2 = r@r\n",
    "    rL = rL2**0.5\n",
    "    return phi_r*(1 - r**2 / rL2) / rL + phi_rr*r**2 / rL2\n",
    "\n",
    "def dxiyi(r, phi_r, phi_rr):\n",
    "    # r is a vector\n",
    "    rL2 = r@r\n",
    "    rL = rL2**0.5\n",
    "    xy = -phi_r*r[0]*r[1]/(rL2*rL) + phi_rr*r[0]*r[1]/rL2\n",
    "    yz = -phi_r*r[1]*r[2]/(rL2*rL) + phi_rr*r[1]*r[2]/rL2\n",
    "    zx = -phi_r*r[2]*r[0]/(rL2*rL) + phi_rr*r[2]*r[0]/rL2\n",
    "    return xy,yz,zx\n",
    "\n",
    "def phiLJ(r,a1,a2):\n",
    "    rL2 = r@r\n",
    "    return a1/rL2**6 - a2/rL2**3\n",
    "\n",
    "def phiLJ_r(r,a1,a2):\n",
    "    rL2 = r@r\n",
    "    rL = rL2**0.5\n",
    "    return -12*a1/rL**13 + 6*a2/rL**7\n",
    "\n",
    "def phiLJ_rr(r,a1,a2):\n",
    "    rL2 = r@r\n",
    "    return 12*13*a1/rL2**7 - 6*7*a2/rL2**4\n",
    "\n",
    "\n",
    "\n",
    "\n"
   ]
  },
  {
   "cell_type": "code",
   "execution_count": 560,
   "metadata": {},
   "outputs": [
    {
     "name": "stdout",
     "output_type": "stream",
     "text": [
      "energy (kJ/mol)= -15.200532987513938\n"
     ]
    }
   ],
   "source": [
    "# SI unit 2019\n",
    "Na=6.02214076e23\n",
    "ee=1.60217662e-19\n",
    "E0=8.8541878128e-12\n",
    "UJ = 4.184\n",
    "qe0 = ee**2/(4*math.pi*E0)*Na/UJ*1e7\n",
    "qeT = 332.17752e0\n",
    "sw = (qeT*UJ*1e6/18.0)**0.5/(6.0*math.pi)\n",
    "# Tanaka's Units\n",
    "TanakaScale = 332.17752e0 / qe0\n",
    "TokJmol = ee**2/(4*math.pi*E0*1e-7)*Na*TanakaScale\n",
    "\n",
    "charge = [0.52,0.52,0,-1.04]\n",
    "LJpairs = {(2, 2):(6.0e5*UJ, 6.10e2*UJ)}\n",
    "CCpairs = dict()\n",
    "for i,ci in enumerate(charge):\n",
    "    for j,cj in enumerate(charge):\n",
    "        cc = ci*cj\n",
    "        if cc:\n",
    "            CCpairs[i,j] = cc\n",
    "\n",
    "ep = 0\n",
    "for im in range(nmol):\n",
    "    for jm in range(im+1,nmol):\n",
    "        for (i,j),cc in CCpairs.items():\n",
    "            r = D0[im,:,i]+pos[im][:3] - (D0[jm,:,j]+pos[jm][:3]) #verified\n",
    "            rL = np.linalg.norm(r)\n",
    "            # ここでkJ/molにしてしまいたいところだが、田中プログラムと照合するのに不便なので内部単位系はいじらない。\n",
    "            # LJのほうは、kJ/molで計算しておいて、あとでTokJmolで割って内部単位にしてしまえばいい。\n",
    "            phi = CCpairs[i,j]*phic(rL)\n",
    "            ep += phi\n",
    "        for (i,j),(a1,a2) in LJpairs.items():\n",
    "            r = D0[im,:,i]+pos[im][:3] - (D0[jm,:,j]+pos[jm][:3]) #verified\n",
    "            rL = np.linalg.norm(r)\n",
    "            phi = phiLJ(r,a1,a2) / TokJmol\n",
    "            ep += phi\n",
    "\n",
    "\n",
    "        \n",
    "\n",
    "\n",
    "np.set_printoptions(None)\n",
    "\n",
    "print(\"energy (kJ/mol)=\",ep*TokJmol/nmol)\n"
   ]
  },
  {
   "cell_type": "code",
   "execution_count": 582,
   "metadata": {},
   "outputs": [
    {
     "name": "stdout",
     "output_type": "stream",
     "text": [
      "0 1 [[[[ 0.0259 -0.0161  0.0035]\n",
      "   [-0.0259  0.0161 -0.0035]\n",
      "   [ 0.      0.      0.    ]]\n",
      "\n",
      "  [[-0.0161  0.098  -0.0142]\n",
      "   [ 0.0161 -0.098   0.0142]\n",
      "   [ 0.      0.      0.    ]]\n",
      "\n",
      "  [[ 0.0035 -0.0142  0.018 ]\n",
      "   [-0.0035  0.0142 -0.018 ]\n",
      "   [ 0.      0.      0.    ]]]\n",
      "\n",
      "\n",
      " [[[-0.0259  0.0161 -0.0035]\n",
      "   [ 0.0259 -0.0161  0.0035]\n",
      "   [ 0.      0.      0.    ]]\n",
      "\n",
      "  [[ 0.0161 -0.098   0.0142]\n",
      "   [-0.0161  0.098  -0.0142]\n",
      "   [ 0.      0.      0.    ]]\n",
      "\n",
      "  [[-0.0035  0.0142 -0.018 ]\n",
      "   [ 0.0035 -0.0142  0.018 ]\n",
      "   [ 0.      0.      0.    ]]]\n",
      "\n",
      "\n",
      " [[[ 0.      0.      0.    ]\n",
      "   [ 0.      0.      0.    ]\n",
      "   [ 0.      0.      0.    ]]\n",
      "\n",
      "  [[ 0.      0.      0.    ]\n",
      "   [ 0.      0.      0.    ]\n",
      "   [ 0.      0.      0.    ]]\n",
      "\n",
      "  [[ 0.      0.      0.    ]\n",
      "   [ 0.      0.      0.    ]\n",
      "   [ 0.      0.      0.    ]]]]\n",
      "0 2 [[[[ 0.0256 -0.0167  0.0041]\n",
      "   [-0.0259  0.0161 -0.0035]\n",
      "   [ 0.0003  0.0006 -0.0006]]\n",
      "\n",
      "  [[-0.0167  0.0988 -0.0147]\n",
      "   [ 0.0161 -0.098   0.0142]\n",
      "   [ 0.0006 -0.0008  0.0005]]\n",
      "\n",
      "  [[ 0.0041 -0.0147  0.0173]\n",
      "   [-0.0035  0.0142 -0.018 ]\n",
      "   [-0.0006  0.0005  0.0007]]]\n",
      "\n",
      "\n",
      " [[[-0.0259  0.0161 -0.0035]\n",
      "   [ 0.0259 -0.0161  0.0035]\n",
      "   [ 0.      0.      0.    ]]\n",
      "\n",
      "  [[ 0.0161 -0.098   0.0142]\n",
      "   [-0.0161  0.098  -0.0142]\n",
      "   [ 0.      0.      0.    ]]\n",
      "\n",
      "  [[-0.0035  0.0142 -0.018 ]\n",
      "   [ 0.0035 -0.0142  0.018 ]\n",
      "   [ 0.      0.      0.    ]]]\n",
      "\n",
      "\n",
      " [[[ 0.0003  0.0006 -0.0006]\n",
      "   [ 0.      0.      0.    ]\n",
      "   [-0.0003 -0.0006  0.0006]]\n",
      "\n",
      "  [[ 0.0006 -0.0008  0.0005]\n",
      "   [ 0.      0.      0.    ]\n",
      "   [-0.0006  0.0008 -0.0005]]\n",
      "\n",
      "  [[-0.0006  0.0005  0.0007]\n",
      "   [ 0.      0.      0.    ]\n",
      "   [ 0.0006 -0.0005 -0.0007]]]]\n",
      "1 2 [[[[ 0.0256 -0.0167  0.0041]\n",
      "   [-0.0259  0.0161 -0.0035]\n",
      "   [ 0.0003  0.0006 -0.0006]]\n",
      "\n",
      "  [[-0.0167  0.0988 -0.0147]\n",
      "   [ 0.0161 -0.098   0.0142]\n",
      "   [ 0.0006 -0.0008  0.0005]]\n",
      "\n",
      "  [[ 0.0041 -0.0147  0.0173]\n",
      "   [-0.0035  0.0142 -0.018 ]\n",
      "   [-0.0006  0.0005  0.0007]]]\n",
      "\n",
      "\n",
      " [[[-0.0259  0.0161 -0.0035]\n",
      "   [ 0.0473 -0.0101 -0.0161]\n",
      "   [-0.0214 -0.006   0.0196]]\n",
      "\n",
      "  [[ 0.0161 -0.098   0.0142]\n",
      "   [-0.0101  0.1187 -0.0245]\n",
      "   [-0.006  -0.0207  0.0102]]\n",
      "\n",
      "  [[-0.0035  0.0142 -0.018 ]\n",
      "   [-0.0161 -0.0245  0.1139]\n",
      "   [ 0.0196  0.0102 -0.0959]]]\n",
      "\n",
      "\n",
      " [[[ 0.0003  0.0006 -0.0006]\n",
      "   [-0.0214 -0.006   0.0196]\n",
      "   [ 0.0211  0.0054 -0.019 ]]\n",
      "\n",
      "  [[ 0.0006 -0.0008  0.0005]\n",
      "   [-0.006  -0.0207  0.0102]\n",
      "   [ 0.0054  0.0215 -0.0107]]\n",
      "\n",
      "  [[-0.0006  0.0005  0.0007]\n",
      "   [ 0.0196  0.0102 -0.0959]\n",
      "   [-0.019  -0.0107  0.0952]]]]\n",
      "[[ 0.0073  0.0011  0.0014  0.0146 -0.0006  0.003   0.0009 -0.0003 -0.0004]\n",
      " [ 0.      0.0142 -0.0107  0.0009  0.0264 -0.0194 -0.0006  0.0002  0.0002]\n",
      " [ 0.      0.      0.0118  0.0044 -0.025   0.0179  0.0017 -0.0009 -0.0003]\n",
      " [ 0.      0.      0.      0.1499  0.0143  0.0034 -0.0002  0.0109  0.0086]\n",
      " [ 0.      0.      0.      0.      0.0925 -0.0787 -0.0016  0.0033  0.0017]\n",
      " [ 0.      0.      0.      0.      0.      0.1116 -0.0116  0.0025  0.0089]\n",
      " [ 0.      0.      0.      0.      0.      0.      0.0067  0.0013 -0.0023]\n",
      " [ 0.      0.      0.      0.      0.      0.      0.      0.0022  0.0023]\n",
      " [ 0.      0.      0.      0.      0.      0.      0.      0.      0.0114]]\n",
      "[[ 0.0073  0.0011  0.0014  0.0146 -0.0006  0.003   0.0009 -0.0003 -0.0004]\n",
      " [ 0.0011  0.0142 -0.0107  0.0009  0.0264 -0.0194 -0.0006  0.0002  0.0002]\n",
      " [ 0.0014 -0.0107  0.0118  0.0044 -0.025   0.0179  0.0017 -0.0009 -0.0003]\n",
      " [ 0.0146  0.0009  0.0044  0.1499  0.0143  0.0034 -0.0002  0.0109  0.0086]\n",
      " [-0.0006  0.0264 -0.025   0.0143  0.0925 -0.0787 -0.0016  0.0033  0.0017]\n",
      " [ 0.003  -0.0194  0.0179  0.0034 -0.0787  0.1116 -0.0116  0.0025  0.0089]\n",
      " [ 0.0009 -0.0006  0.0017 -0.0002 -0.0016 -0.0116  0.0067  0.0013 -0.0023]\n",
      " [-0.0003  0.0002 -0.0009  0.0109  0.0033  0.0025  0.0013  0.0022  0.0023]\n",
      " [-0.0004  0.0002 -0.0003  0.0086  0.0017  0.0089 -0.0023  0.0023  0.0114]]\n",
      "***6\n",
      "[[ 0.0354 -0.006   0.    ]\n",
      " [-0.006   0.0666 -0.0343]\n",
      " [ 0.     -0.0343  0.0976]]\n",
      "eival\n",
      "[2.8883 4.6298 5.5057]\n",
      "eivec\n",
      "[[ 0.039   0.4064 -0.9129]\n",
      " [-0.5443 -0.7575 -0.3605]\n",
      " [ 0.838  -0.5109 -0.1917]]\n",
      "***6\n",
      "[[ 0.0918  0.0136  0.    ]\n",
      " [ 0.0136  0.0504 -0.0426]\n",
      " [ 0.     -0.0426  0.0637]]\n",
      "eival\n",
      "[3.0697 3.3867 8.9228]\n",
      "eivec\n",
      "[[-0.5561  0.8208  0.1309]\n",
      " [-0.5866 -0.276  -0.7614]\n",
      " [ 0.5888  0.5001 -0.635 ]]\n",
      "***6\n",
      "[[ 0.0409 -0.0186  0.    ]\n",
      " [-0.0186  0.0871 -0.0228]\n",
      " [ 0.     -0.0228  0.0637]]\n",
      "eival\n",
      "[3.0855 4.2766 5.5916]\n",
      "eivec\n",
      "[[-0.2465 -0.4448 -0.8611]\n",
      " [ 0.8492  0.329  -0.413 ]\n",
      " [-0.467   0.833  -0.2966]]\n",
      "***4 0 0\n",
      "[[ 0.0073  0.0011  0.0014]\n",
      " [ 0.0011  0.0142 -0.0107]\n",
      " [ 0.0014 -0.0107  0.0118]]\n",
      "***5 0 0\n",
      "[[ 0.1859  0.0659  0.035 ]\n",
      " [ 0.0659  0.0621 -0.0019]\n",
      " [ 0.035  -0.0019  0.2431]]\n",
      "\n",
      "***4 0 1\n",
      "[[ 0.0146  0.0009  0.0044]\n",
      " [-0.0006  0.0264 -0.025 ]\n",
      " [ 0.003  -0.0194  0.0179]]\n",
      "***5 0 1\n",
      "[[ 0.2989  0.0948  0.1852]\n",
      " [ 0.2513  0.124  -0.1926]\n",
      " [ 0.2872  0.0732  0.0351]]\n",
      "\n",
      "***4 0 2\n",
      "[[ 0.0009 -0.0006  0.0017]\n",
      " [-0.0003  0.0002 -0.0009]\n",
      " [-0.0004  0.0002 -0.0003]]\n",
      "***5 0 2\n",
      "[[-0.0095  0.0032  0.0059]\n",
      " [-0.0173 -0.0015  0.0197]\n",
      " [-0.0174  0.0005  0.0158]]\n",
      "\n",
      "***4 1 0\n",
      "[[ 0.0146 -0.0006  0.003 ]\n",
      " [ 0.0009  0.0264 -0.0194]\n",
      " [ 0.0044 -0.025   0.0179]]\n",
      "***5 1 0\n",
      "[[ 0.2989  0.2513  0.2872]\n",
      " [ 0.0948  0.124   0.0732]\n",
      " [ 0.1852 -0.1926  0.0351]]\n",
      "\n",
      "***4 1 1\n",
      "[[ 0.1499  0.0143  0.0034]\n",
      " [ 0.0143  0.0925 -0.0787]\n",
      " [ 0.0034 -0.0787  0.1116]]\n",
      "***5 1 1\n",
      "[[1.6807 0.1172 0.0286]\n",
      " [0.1172 1.7657 0.1593]\n",
      " [0.0286 0.1593 1.7275]]\n",
      "\n",
      "***4 1 2\n",
      "[[-0.0002 -0.0016 -0.0116]\n",
      " [ 0.0109  0.0033  0.0025]\n",
      " [ 0.0086  0.0017  0.0089]]\n",
      "***5 1 2\n",
      "[[-0.0367  0.0421 -0.0454]\n",
      " [-0.0009  0.2132 -0.3648]\n",
      " [ 0.1345 -0.0441 -0.2248]]\n",
      "\n",
      "***4 2 0\n",
      "[[ 0.0009 -0.0003 -0.0004]\n",
      " [-0.0006  0.0002  0.0002]\n",
      " [ 0.0017 -0.0009 -0.0003]]\n",
      "***5 2 0\n",
      "[[-0.0095 -0.0173 -0.0174]\n",
      " [ 0.0032 -0.0015  0.0005]\n",
      " [ 0.0059  0.0197  0.0158]]\n",
      "\n",
      "***4 2 1\n",
      "[[-0.0002  0.0109  0.0086]\n",
      " [-0.0016  0.0033  0.0017]\n",
      " [-0.0116  0.0025  0.0089]]\n",
      "***5 2 1\n",
      "[[-0.0367 -0.0009  0.1345]\n",
      " [ 0.0421  0.2132 -0.0441]\n",
      " [-0.0454 -0.3648 -0.2248]]\n",
      "\n",
      "***4 2 2\n",
      "[[ 0.0067  0.0013 -0.0023]\n",
      " [ 0.0013  0.0022  0.0023]\n",
      " [-0.0023  0.0023  0.0114]]\n",
      "***5 2 2\n",
      "[[ 0.0152 -0.0313  0.0029]\n",
      " [-0.0313  0.2219 -0.0078]\n",
      " [ 0.0029 -0.0078  0.2085]]\n",
      "\n",
      "***7\n",
      "[[-2.6879e-03  1.0813e-02  5.3830e-03]\n",
      " [-1.4823e-02 -3.2205e-03 -6.3062e-05]\n",
      " [ 1.2936e-02  4.1405e-03  2.7392e-03]]\n",
      "***8\n",
      "[[ 0.0543  0.0163  0.0293]\n",
      " [ 0.0163  0.0218 -0.0523]\n",
      " [ 0.0073  0.0039 -0.0298]]\n",
      "\n",
      "***7\n",
      "[[-0.003   0.0114  0.0301]\n",
      " [-0.0401 -0.0166 -0.0001]\n",
      " [ 0.0297  0.0147  0.0055]]\n",
      "***8\n",
      "[[ 0.131   0.0795  0.1008]\n",
      " [ 0.037   0.0722  0.0427]\n",
      " [-0.0413  0.0932  0.0051]]\n",
      "\n",
      "***7\n",
      "[[ 9.2147e-04  1.3585e-03 -5.8370e-04]\n",
      " [-4.7410e-04  4.0390e-04 -1.2984e-03]\n",
      " [ 9.2033e-05  4.6726e-04 -1.5593e-03]]\n",
      "***8\n",
      "[[-0.0021 -0.0021 -0.0035]\n",
      " [-0.0006 -0.0004 -0.0082]\n",
      " [-0.0007 -0.0063  0.0084]]\n",
      "\n",
      "***7\n",
      "[[ 0.0025 -0.0105 -0.0061]\n",
      " [ 0.0153  0.0037 -0.0004]\n",
      " [-0.0134 -0.0049 -0.0023]]\n",
      "***8\n",
      "[[-0.0562 -0.0171 -0.0289]\n",
      " [-0.0187 -0.0211  0.0506]\n",
      " [-0.0057 -0.0047  0.0337]]\n",
      "\n",
      "***7\n",
      "[[-1.1779e-02  1.7495e-02 -1.6207e-02]\n",
      " [ 3.5601e-02  2.3354e-02  2.6092e-03]\n",
      " [-1.7339e-03 -3.7718e-03 -8.2049e-05]]\n",
      "***8\n",
      "[[-0.0471 -0.069  -0.2458]\n",
      " [-0.0787  0.0204 -0.1169]\n",
      " [ 0.0228 -0.0476 -0.0362]]\n",
      "\n",
      "***7\n",
      "[[-6.9049e-03 -2.7985e-03 -9.2067e-03]\n",
      " [ 3.1626e-05  7.1040e-03  1.8529e-03]\n",
      " [ 3.1797e-03  1.0199e-02  4.9512e-03]]\n",
      "***8\n",
      "[[ 0.0008  0.0245  0.0279]\n",
      " [ 0.006   0.0517 -0.0198]\n",
      " [ 0.0047  0.0378  0.0318]]\n",
      "\n",
      "***7\n",
      "[[ 0.0002 -0.0003  0.0007]\n",
      " [-0.0004 -0.0004  0.0004]\n",
      " [ 0.0005  0.0007 -0.0004]]\n",
      "***8\n",
      "[[ 0.0019  0.0007 -0.0004]\n",
      " [ 0.0024 -0.0008  0.0018]\n",
      " [-0.0017  0.0008 -0.0039]]\n",
      "\n",
      "***7\n",
      "[[ 0.0148 -0.0289 -0.0139]\n",
      " [ 0.0045 -0.0067 -0.0025]\n",
      " [-0.028  -0.011  -0.0054]]\n",
      "***8\n",
      "[[-0.0839 -0.0105  0.145 ]\n",
      " [ 0.0417 -0.0926  0.0741]\n",
      " [ 0.0184 -0.0455  0.0311]]\n",
      "\n",
      "***7\n",
      "[[ 0.006   0.0014  0.0098]\n",
      " [ 0.0004 -0.0075 -0.0006]\n",
      " [-0.0033 -0.0107 -0.0034]]\n",
      "***8\n",
      "[[ 0.0013 -0.0224 -0.0244]\n",
      " [-0.0054 -0.0513  0.0281]\n",
      " [-0.004  -0.0315 -0.0402]]\n",
      "\n",
      "[[ 0.0256 -0.0167  0.0041 -0.0259  0.0161 -0.0035  0.0003  0.0006 -0.0006]\n",
      " [-0.0167  0.0988 -0.0147  0.0161 -0.098   0.0142  0.0006 -0.0008  0.0005]\n",
      " [ 0.0041 -0.0147  0.0173 -0.0035  0.0142 -0.018  -0.0006  0.0005  0.0007]\n",
      " [-0.0259  0.0161 -0.0035  0.0473 -0.0101 -0.0161 -0.0214 -0.006   0.0196]\n",
      " [ 0.0161 -0.098   0.0142 -0.0101  0.1187 -0.0245 -0.006  -0.0207  0.0102]\n",
      " [-0.0035  0.0142 -0.018  -0.0161 -0.0245  0.1139  0.0196  0.0102 -0.0959]\n",
      " [ 0.0003  0.0006 -0.0006 -0.0214 -0.006   0.0196  0.0211  0.0054 -0.019 ]\n",
      " [ 0.0006 -0.0008  0.0005 -0.006  -0.0207  0.0102  0.0054  0.0215 -0.0107]\n",
      " [-0.0006  0.0005  0.0007  0.0196  0.0102 -0.0959 -0.019  -0.0107  0.0952]]\n",
      "[[ 1.8586e-01  6.5920e-02  3.5045e-02  2.9891e-01  2.5133e-01  2.8722e-01\n",
      "  -9.4657e-03 -1.7286e-02 -1.7390e-02]\n",
      " [ 6.5920e-02  6.2082e-02 -1.9406e-03  9.4754e-02  1.2396e-01  7.3180e-02\n",
      "   3.2431e-03 -1.4516e-03  5.1885e-04]\n",
      " [ 3.5045e-02 -1.9406e-03  2.4308e-01  1.8515e-01 -1.9258e-01  3.5058e-02\n",
      "   5.8874e-03  1.9680e-02  1.5822e-02]\n",
      " [ 2.9891e-01  9.4754e-02  1.8515e-01  1.6807e+00  1.1719e-01  2.8554e-02\n",
      "  -3.6706e-02 -8.8552e-04  1.3452e-01]\n",
      " [ 2.5133e-01  1.2396e-01 -1.9258e-01  1.1719e-01  1.7657e+00  1.5931e-01\n",
      "   4.2071e-02  2.1316e-01 -4.4063e-02]\n",
      " [ 2.8722e-01  7.3180e-02  3.5058e-02  2.8554e-02  1.5931e-01  1.7275e+00\n",
      "  -4.5443e-02 -3.6480e-01 -2.2484e-01]\n",
      " [-9.4657e-03  3.2431e-03  5.8874e-03 -3.6706e-02  4.2071e-02 -4.5443e-02\n",
      "   1.5171e-02 -3.1279e-02  2.8617e-03]\n",
      " [-1.7286e-02 -1.4516e-03  1.9680e-02 -8.8552e-04  2.1316e-01 -3.6480e-01\n",
      "  -3.1279e-02  2.2195e-01 -7.8376e-03]\n",
      " [-1.7390e-02  5.1885e-04  1.5822e-02  1.3452e-01 -4.4063e-02 -2.2484e-01\n",
      "   2.8617e-03 -7.8376e-03  2.0847e-01]]\n",
      "[[ 0.0543  0.0163  0.0293  0.131   0.0795  0.1008 -0.0021 -0.0021 -0.0035]\n",
      " [ 0.0163  0.0218 -0.0523  0.037   0.0722  0.0427 -0.0006 -0.0004 -0.0082]\n",
      " [ 0.0073  0.0039 -0.0298 -0.0413  0.0932  0.0051 -0.0007 -0.0063  0.0084]\n",
      " [-0.0562 -0.0171 -0.0289 -0.0471 -0.069  -0.2458  0.0008  0.0245  0.0279]\n",
      " [-0.0187 -0.0211  0.0506 -0.0787  0.0204 -0.1169  0.006   0.0517 -0.0198]\n",
      " [-0.0057 -0.0047  0.0337  0.0228 -0.0476 -0.0362  0.0047  0.0378  0.0318]\n",
      " [ 0.0019  0.0007 -0.0004 -0.0839 -0.0105  0.145   0.0013 -0.0224 -0.0244]\n",
      " [ 0.0024 -0.0008  0.0018  0.0417 -0.0926  0.0741 -0.0054 -0.0513  0.0281]\n",
      " [-0.0017  0.0008 -0.0039  0.0184 -0.0455  0.0311 -0.004  -0.0315 -0.0402]]\n",
      "[[ 2.5607e-02 -1.6670e-02  4.0913e-03 -2.5908e-02  1.6064e-02 -3.5342e-03\n",
      "   3.0029e-04  6.0566e-04 -5.5715e-04  5.4309e-02  1.6328e-02  2.9274e-02\n",
      "   1.3099e-01  7.9497e-02  1.0080e-01 -2.0756e-03 -2.0919e-03 -3.4945e-03]\n",
      " [-1.6670e-02  9.8838e-02 -1.4738e-02  1.6064e-02 -9.8008e-02  1.4241e-02\n",
      "   6.0566e-04 -8.3035e-04  4.9679e-04  1.6301e-02  2.1846e-02 -5.2326e-02\n",
      "   3.7030e-02  7.2217e-02  4.2723e-02 -6.4804e-04 -3.5101e-04 -8.2487e-03]\n",
      " [ 4.0913e-03 -1.4738e-02  1.7313e-02 -3.5342e-03  1.4241e-02 -1.8001e-02\n",
      "  -5.5715e-04  4.9679e-04  6.8845e-04  7.3347e-03  3.8701e-03 -2.9820e-02\n",
      "  -4.1251e-02  9.3162e-02  5.0582e-03 -7.1160e-04 -6.2717e-03  8.3950e-03]\n",
      " [-2.5908e-02  1.6064e-02 -3.5342e-03  4.7283e-02 -1.0105e-02 -1.6064e-02\n",
      "  -2.1376e-02 -5.9594e-03  1.9598e-02 -5.6170e-02 -1.7065e-02 -2.8894e-02\n",
      "  -4.7134e-02 -6.8961e-02 -2.4579e-01  7.5183e-04  2.4505e-02  2.7899e-02]\n",
      " [ 1.6064e-02 -9.8008e-02  1.4241e-02 -1.0105e-02  1.1866e-01 -2.4467e-02\n",
      "  -5.9594e-03 -2.0653e-02  1.0226e-02 -1.8713e-02 -2.1058e-02  5.0573e-02\n",
      "  -7.8734e-02  2.0409e-02 -1.1687e-01  6.0462e-03  5.1653e-02 -1.9846e-02]\n",
      " [-3.5342e-03  1.4241e-02 -1.8001e-02 -1.6064e-02 -2.4467e-02  1.1392e-01\n",
      "   1.9598e-02  1.0226e-02 -9.5917e-02 -5.6579e-03 -4.6944e-03  3.3671e-02\n",
      "   2.2817e-02 -4.7628e-02 -3.6184e-02  4.7217e-03  3.7757e-02  3.1838e-02]\n",
      " [ 3.0029e-04  6.0566e-04 -5.5715e-04 -2.1376e-02 -5.9594e-03  1.9598e-02\n",
      "   2.1075e-02  5.3538e-03 -1.9041e-02  1.8610e-03  7.3696e-04 -3.7987e-04\n",
      "  -8.3852e-02 -1.0536e-02  1.4499e-01  1.3238e-03 -2.2413e-02 -2.4405e-02]\n",
      " [ 6.0566e-04 -8.3035e-04  4.9679e-04 -5.9594e-03 -2.0653e-02  1.0226e-02\n",
      "   5.3538e-03  2.1483e-02 -1.0723e-02  2.4116e-03 -7.8766e-04  1.7534e-03\n",
      "   4.1704e-02 -9.2626e-02  7.4142e-02 -5.3982e-03 -5.1302e-02  2.8095e-02]\n",
      " [-5.5715e-04  4.9679e-04  6.8845e-04  1.9598e-02  1.0226e-02 -9.5917e-02\n",
      "  -1.9041e-02 -1.0723e-02  9.5229e-02 -1.6767e-03  8.2432e-04 -3.8510e-03\n",
      "   1.8434e-02 -4.5534e-02  3.1125e-02 -4.0101e-03 -3.1486e-02 -4.0233e-02]\n",
      " [ 5.4309e-02  1.6301e-02  7.3347e-03 -5.6170e-02 -1.8713e-02 -5.6579e-03\n",
      "   1.8610e-03  2.4116e-03 -1.6767e-03  1.8586e-01  6.5920e-02  3.5045e-02\n",
      "   2.9891e-01  2.5133e-01  2.8722e-01 -9.4657e-03 -1.7286e-02 -1.7390e-02]\n",
      " [ 1.6328e-02  2.1846e-02  3.8701e-03 -1.7065e-02 -2.1058e-02 -4.6944e-03\n",
      "   7.3696e-04 -7.8766e-04  8.2432e-04  6.5920e-02  6.2082e-02 -1.9406e-03\n",
      "   9.4754e-02  1.2396e-01  7.3180e-02  3.2431e-03 -1.4516e-03  5.1885e-04]\n",
      " [ 2.9274e-02 -5.2326e-02 -2.9820e-02 -2.8894e-02  5.0573e-02  3.3671e-02\n",
      "  -3.7987e-04  1.7534e-03 -3.8510e-03  3.5045e-02 -1.9406e-03  2.4308e-01\n",
      "   1.8515e-01 -1.9258e-01  3.5058e-02  5.8874e-03  1.9680e-02  1.5822e-02]\n",
      " [ 1.3099e-01  3.7030e-02 -4.1251e-02 -4.7134e-02 -7.8734e-02  2.2817e-02\n",
      "  -8.3852e-02  4.1704e-02  1.8434e-02  2.9891e-01  9.4754e-02  1.8515e-01\n",
      "   1.6807e+00  1.1719e-01  2.8554e-02 -3.6706e-02 -8.8552e-04  1.3452e-01]\n",
      " [ 7.9497e-02  7.2217e-02  9.3162e-02 -6.8961e-02  2.0409e-02 -4.7628e-02\n",
      "  -1.0536e-02 -9.2626e-02 -4.5534e-02  2.5133e-01  1.2396e-01 -1.9258e-01\n",
      "   1.1719e-01  1.7657e+00  1.5931e-01  4.2071e-02  2.1316e-01 -4.4063e-02]\n",
      " [ 1.0080e-01  4.2723e-02  5.0582e-03 -2.4579e-01 -1.1687e-01 -3.6184e-02\n",
      "   1.4499e-01  7.4142e-02  3.1125e-02  2.8722e-01  7.3180e-02  3.5058e-02\n",
      "   2.8554e-02  1.5931e-01  1.7275e+00 -4.5443e-02 -3.6480e-01 -2.2484e-01]\n",
      " [-2.0756e-03 -6.4804e-04 -7.1160e-04  7.5183e-04  6.0462e-03  4.7217e-03\n",
      "   1.3238e-03 -5.3982e-03 -4.0101e-03 -9.4657e-03  3.2431e-03  5.8874e-03\n",
      "  -3.6706e-02  4.2071e-02 -4.5443e-02  1.5171e-02 -3.1279e-02  2.8617e-03]\n",
      " [-2.0919e-03 -3.5101e-04 -6.2717e-03  2.4505e-02  5.1653e-02  3.7757e-02\n",
      "  -2.2413e-02 -5.1302e-02 -3.1486e-02 -1.7286e-02 -1.4516e-03  1.9680e-02\n",
      "  -8.8552e-04  2.1316e-01 -3.6480e-01 -3.1279e-02  2.2195e-01 -7.8376e-03]\n",
      " [-3.4945e-03 -8.2487e-03  8.3950e-03  2.7899e-02 -1.9846e-02  3.1838e-02\n",
      "  -2.4405e-02  2.8095e-02 -4.0233e-02 -1.7390e-02  5.1885e-04  1.5822e-02\n",
      "   1.3452e-01 -4.4063e-02 -2.2484e-01  2.8617e-03 -7.8376e-03  2.0847e-01]]\n"
     ]
    }
   ],
   "source": [
    "# とりあえずCoulomb力のHessianだけ求める。しかもTruncationなし。\n",
    "import itertools as itt\n",
    "\n",
    "Htt = np.zeros([nmol, 3, nmol, 3])\n",
    "Hrr = np.zeros([nmol, 3, nmol, 3])\n",
    "Htr = np.zeros([nmol, 3, nmol, 3])\n",
    "\n",
    "\n",
    "for im in range(nmol):\n",
    "    for jm in range(im+1,nmol):\n",
    "        H = np.zeros([3,3])\n",
    "\n",
    "        phis = dict()\n",
    "        for (i,j),cc in CCpairs.items():\n",
    "            if (i,j) not in phis:\n",
    "                phis[i,j] = [None,0.0,0.0]\n",
    "            r = D0[im,:,i]+pos[im][:3] - (D0[jm,:,j]+pos[jm][:3]) #verified\n",
    "            rL = np.linalg.norm(r)\n",
    "            phi_r = cc*phic_r(rL)\n",
    "            phi_rr = cc*phic_rr(rL)\n",
    "            phis[i,j][0] = r\n",
    "            phis[i,j][1] += phi_r\n",
    "            phis[i,j][2] += phi_rr\n",
    "        for (i,j),(a1,a2) in LJpairs.items():\n",
    "            if (i,j) not in phis:\n",
    "                phis[i,j] = [None,0.0,0.0]\n",
    "            r = D0[im,:,i]+pos[im][:3] - (D0[jm,:,j]+pos[jm][:3]) #verified\n",
    "            phi_r = phiLJ_r(r,a1,a2) / TokJmol\n",
    "            phi_rr = phiLJ_rr(r,a1,a2) / TokJmol\n",
    "            phis[i,j][0] = r\n",
    "            phis[i,j][1] += phi_r\n",
    "            phis[i,j][2] += phi_rr\n",
    "\n",
    "\n",
    "        # 並進・並進\n",
    "        for (i,j),(r, phi_r, phi_rr) in phis.items():\n",
    "            H += np.diag(dxixi(r, phi_r, phi_rr))\n",
    "            vxy,vyz,vzx = dxiyi(r, phi_r, phi_rr)\n",
    "            H[0,1] += vxy\n",
    "            H[1,2] += vyz\n",
    "            H[0,2] += vzx\n",
    "            H[1,0] += vxy\n",
    "            H[2,1] += vyz\n",
    "            H[2,0] += vzx\n",
    "            # もっと簡潔にできそうだが、今はこれ以上さわらない。\n",
    "        Htt[im, :, im, :] += H\n",
    "        Htt[jm, :, jm, :] += H\n",
    "        Htt[im, :, jm, :] -= H\n",
    "        Htt[jm, :, im, :] -= H\n",
    "        print(im,jm,Htt)\n",
    "\n",
    "        # 次は回転・回転\n",
    "\n",
    "        for (i,j),(r, phi_r, phi_rr) in phis.items():\n",
    "            rL = np.linalg.norm(r)\n",
    "\n",
    "            # 式の導出はDerivative.ipynbを参照\n",
    "            # **2 同じ分子の同じ角度変数の組みあわせ\n",
    "            for d in range(3):\n",
    "                Hrr[im,d,im,d] += (phi_r/rL**3*(rL**2 * (r @ D2[im,d,d,:,i] + D1[im,d,:,i] @ D1[im,d,:,i]) -\n",
    "                                                    (r @ D1[im,d,:,i])**2) +\n",
    "                                       phi_rr/rL**2*(r @ D1[im,d,:,i])**2)\n",
    "                Hrr[jm,d,jm,d] += (phi_r/rL**3*(rL**2 * (-r @ D2[jm,d,d,:,j] + D1[jm,d,:,j] @ D1[jm,d,:,j]) -\n",
    "                                                    (-r @ D1[jm,d,:,j])**2) +\n",
    "                                       phi_rr/rL**2*(-r @ D1[jm,d,:,j])**2)\n",
    "            # **3 同じ分子の異なる角度変数の組みあわせ\n",
    "            for d1,d2 in itt.combinations(range(3),2):\n",
    "                Hrr[im,d1,im,d2] += (phi_r/rL**3*(rL**2 * (r @ D2[im,d1,d2,:,i] + D1[im,d1,:,i] @ D1[im,d2,:,i]) -\n",
    "                                                      (r @ D1[im,d1,:,i])*(r @ D1[im,d2,:,i])) +\n",
    "                                         phi_rr/rL**2*(r @ D1[im,d1,:,i])*(r @ D1[im,d2,:,i]))\n",
    "                Hrr[jm,d1,jm,d2] += (phi_r/rL**3*(rL**2 * (-r @ D2[jm,d1,d2,:,j] + D1[jm,d1,:,j] @ D1[jm,d2,:,j]) -\n",
    "                                                      (-r @ D1[jm,d1,:,j])*(-r @ D1[jm,d2,:,j])) +\n",
    "                                         phi_rr/rL**2*(-r @ D1[jm,d1,:,j])*(-r @ D1[jm,d2,:,j]))\n",
    "            # **4 異なる分子の角度変数の組みあわせ\n",
    "            for id in range(3):\n",
    "                for jd in range(3):\n",
    "                    Hrr[im,id,jm,jd] += -(phi_r/rL**3*(rL**2 * (D1[im,id,:,i] @ D1[jm,jd,:,j]) -\n",
    "                                                           (r @ D1[im,id,:,i])*(r @ D1[jm,jd,:,j])) +\n",
    "                                              phi_rr/rL**2*(r @ D1[im,id,:,i])*(r @ D1[jm,jd,:,j]))\n",
    "            # 下半分はあとでコピーすればいい。\n",
    "\n",
    "        # 最後に並進・回転\n",
    "\n",
    "        for (i,j),(r, phi_r, phi_rr) in phis.items():\n",
    "            rL = np.linalg.norm(r)\n",
    "\n",
    "            # **5 同じ分子\n",
    "\n",
    "\n",
    "            for it in range(3):\n",
    "                for ir in range(3):\n",
    "                    Htr[im,it,im,ir] += (phi_r/rL**3 * (rL**2*D1[im,ir,it,i] - r[it]*(r @ D1[im,ir,:,i])) +\n",
    "                                              phi_rr/rL**2 * r[it]*(r @ D1[im,ir,:,i]))\n",
    "            for jt in range(3):\n",
    "                for jr in range(3):\n",
    "                    Htr[jm,jt,jm,jr] += (phi_r/rL**3 * (rL**2*D1[jm,jr,jt,j] + r[jt]*(-r @ D1[jm,jr,:,j])) +\n",
    "                                              phi_rr/rL**2 * -r[jt]*(-r @ D1[jm,jr,:,j]))\n",
    "\n",
    "            # **6 異なる分子\n",
    "            for it in range(3):\n",
    "                for jr in range(3):\n",
    "                    Htr[im,it,jm,jr] +=-(phi_r/rL**3 * (rL**2*D1[jm,jr,it,j] - r[it]*(r @ D1[jm,jr,:,j])) +\n",
    "                                              phi_rr/rL**2 * r[it]*(r @ D1[jm,jr,:,j]))\n",
    "            for jt in range(3):\n",
    "                for ir in range(3):\n",
    "                    Htr[jm,jt,im,ir] +=-(phi_r/rL**3 * (rL**2*D1[im,ir,jt,i] + r[jt]*(-r @ D1[im,ir,:,i])) +\n",
    "                                              phi_rr/rL**2 * -r[jt]*(-r @ D1[im,ir,:,i]))\n",
    "\n",
    "            # 下半分はあとでコピーすればいい。\n",
    "\n",
    "\n",
    "np.set_printoptions(4)\n",
    "# lHrrを一旦3nmol x 3nmolの\n",
    "print(Hrr.reshape(3*nmol,3*nmol))\n",
    "# upper half\n",
    "Hrr = Hrr.reshape(3*nmol,3*nmol)\n",
    "# symmetrize\n",
    "Hrr = Hrr + Hrr.T - np.diag(Hrr.diagonal())\n",
    "print(Hrr)\n",
    "Hrr = Hrr.reshape(nmol,3,nmol,3)\n",
    "\n",
    "\n",
    "            \n",
    "# 質点の質量\n",
    "mass = np.array([wh,wh,wo,0.0])\n",
    "\n",
    "\n",
    "# ***1 謎のテンソルの計算\n",
    "eival = np.zeros([nmol,3])\n",
    "eivec = np.zeros([nmol,3,3])\n",
    "\n",
    "for i in range(nmol):\n",
    "    # 分子内座標での慣性テンソル\n",
    "    I = np.zeros(3)\n",
    "    if lc[i] == 0:\n",
    "        I[0] = mass @ np.sum(intra[1:3]**2, axis=0)\n",
    "        I[1] = mass @ np.sum(intra[0:3:2]**2, axis=0)\n",
    "        I[2] = mass @ np.sum(intra[0:2]**2, axis=0)\n",
    "    else:\n",
    "        I[0] = mass @ np.sum(intra2[1:3]**2, axis=0)\n",
    "        I[1] = mass @ np.sum(intra2[0:3:2]**2, axis=0)\n",
    "        I[2] = mass @ np.sum(intra2[0:2]**2, axis=0)\n",
    "    I /= wm\n",
    "# wmで割ることで、並進には質量を掛ける必要がなくなる。\n",
    "# verified rix, riy,riz\n",
    "\n",
    "    ea,eb,ec = pos[i][3:6]\n",
    "    sina = math.sin(ea)\n",
    "    cosa = math.cos(ea)\n",
    "    sinb = math.sin(eb)\n",
    "    cosb = math.cos(eb)\n",
    "    sinc = math.sin(ec)\n",
    "    cosc = math.cos(ec)\n",
    "    ev = np.array([[I[0]*cosc**2 + I[1]*sinc**2, (I[0]-I[1])*sina*sinc*cosc, 0.0],\n",
    "                   [(I[0]-I[1])*sina*sinc*cosc,  (I[0]*sinc**2+I[1]*cosc**2)*sina**2+I[2]*cosa**2, I[2]*cosa],\n",
    "                   [0.0,  I[2]*cosa, I[2]]])\n",
    "    print(\"***6\")\n",
    "    print(ev)\n",
    "    # ev verified\n",
    "    ival, ivec = np.linalg.eig(ev)\n",
    "    idx = np.argsort(-ival)\n",
    "    ival = ival[idx]\n",
    "    ivec = ivec[:,idx]\n",
    "    eival[i] = 1/ival**0.5\n",
    "    eivec[i] = ivec\n",
    "    # eig verified\n",
    "    print(\"eival\")\n",
    "    print(eival[i])\n",
    "    print(\"eivec\")\n",
    "    print(eivec[i])\n",
    "\n",
    "# rot-rot\n",
    "for i in range(nmol):\n",
    "    for j in range(nmol):\n",
    "        # elements of rot-rot\n",
    "        t = Hrr[j,:,i,:]\n",
    "        print(\"***4\",i,j)\n",
    "        print(t)\n",
    "        t = eivec[j].T @ t @ eivec[i]\n",
    "        sd = t * np.outer(eival[j],eival[i])\n",
    "        Hrr[j,:,i,:] = sd\n",
    "        print(\"***5\",i,j)\n",
    "        print(sd)\n",
    "        print()\n",
    "\n",
    "# rot-trans\n",
    "for i in range(nmol):\n",
    "    for j in range(nmol):\n",
    "        # elements of trans-rot\n",
    "        t = Htr[i,:,j,:].T\n",
    "        print(\"***7\")\n",
    "        print(t)\n",
    "        t = Htr[i,:,j,:]\n",
    "        t = t @ eivec[j]\n",
    "        sd = t * eival[j]\n",
    "        Htr[i,:,j,:] = sd\n",
    "        print(\"***8\")\n",
    "        print(sd)\n",
    "        print()\n",
    "\n",
    "Hessian = np.zeros([6*nmol, 6*nmol])\n",
    "Hessian[0:3*nmol,0:3*nmol] = Htt.reshape(3*nmol,3*nmol)\n",
    "Hessian[3*nmol:6*nmol,3*nmol:6*nmol] = Hrr.reshape(3*nmol,3*nmol)\n",
    "Hessian[0:3*nmol,3*nmol:6*nmol] = Htr.reshape(3*nmol,3*nmol)\n",
    "\n",
    "\n",
    "\n",
    "for id in range(6*nmol):\n",
    "    for jd in range(id):\n",
    "        Hessian[id,jd] = Hessian[jd,id]\n",
    "\n",
    "np.set_printoptions(4)\n",
    "print(Htt.reshape(3*nmol,3*nmol))\n",
    "print(Hrr.reshape(3*nmol,3*nmol))\n",
    "print(Htr.reshape(3*nmol,3*nmol))\n",
    "\n",
    "print(Hessian)\n",
    "\n"
   ]
  },
  {
   "cell_type": "code",
   "execution_count": 583,
   "metadata": {},
   "outputs": [
    {
     "name": "stdout",
     "output_type": "stream",
     "text": [
      "-73.18031255244424\n",
      "-37.63796475242924\n",
      "2.1180560554167635e-06\n",
      "4.593477880528733e-06\n",
      "8.610164274014424e-06\n",
      "9.005956140080603\n",
      "17.31237170277065\n",
      "46.38301646555461\n",
      "76.9423863145116\n",
      "122.07472673612345\n",
      "129.10252908015366\n",
      "155.70060727586645\n",
      "205.8757965531535\n",
      "234.38865805235528\n",
      "262.6045177295551\n",
      "606.9929158106586\n",
      "625.3224452089781\n",
      "682.8039414603428\n"
     ]
    }
   ],
   "source": [
    "ival, ivec = np.linalg.eigh(Hessian)\n",
    "\n",
    "for iv in sorted(ival):\n",
    "    if iv > 0:\n",
    "        iv = iv**0.5 * sw\n",
    "    else:\n",
    "        iv = -(-iv)**0.5 * sw\n",
    "    print(iv)\n"
   ]
  },
  {
   "cell_type": "markdown",
   "metadata": {},
   "source": [
    "## 完了\n",
    "* 第二回転規準\n",
    "   * 全部第二規準にすると、全部第二規準とした田中プログラムと同じ答えになることを確認。\n",
    "   * 一方で、田中プログラム自体、規準を変更すると振動数が変わるのがとても気になる。\n",
    "   * 回転行列を二種類準備する代わりに、分子内座標を2種類準備することにした。\n",
    "     * xyz→yzxに変えるようにした。\n",
    "     * 角度変換規則(euler_conv)は田中のものと結果的には同じであった。たぶん発想は同じ。\n",
    "     * その場合でも、振動数が微妙に変化する。変化のしかたも同様なので、同じことをやっているにすぎないと思われる。\n",
    "     * ということは、分子内座標で、分子をどういう向きに置くかによって、結果が変わるということ。\n",
    "     * Hessianの計算に関しては、あまり疑う余地がないので、mass weightのあたりしか考えられないのだが…。\n",
    "* LJ\n",
    "* 多分子\n",
    "\n",
    "## 未完\n",
    "* Truncation\n",
    "* Hessianの式の自動生成\n",
    "* 特殊な単位系の廃止\n",
    "\n",
    "## 別計画\n",
    "\n",
    "* 数値微分によるHessian計算はどれぐらい現実味があるのか。\n",
    "   * このプログラムがうまく動くことが確認できれば、比較対象に使える。 \n"
   ]
  },
  {
   "cell_type": "code",
   "execution_count": 163,
   "metadata": {},
   "outputs": [
    {
     "data": {
      "text/plain": [
       "array([[ 0.    ,  0.    ,  0.    ,  0.    ],\n",
       "       [ 0.757 , -0.757 ,  0.    ,  0.    ],\n",
       "       [ 0.5208,  0.5208, -0.0651,  0.0849]])"
      ]
     },
     "execution_count": 163,
     "metadata": {},
     "output_type": "execute_result"
    }
   ],
   "source": [
    "intra"
   ]
  },
  {
   "cell_type": "code",
   "execution_count": 166,
   "metadata": {},
   "outputs": [
    {
     "data": {
      "text/plain": [
       "array([[0.573 , 0.573 , 0.    , 0.    ],\n",
       "       [0.2712, 0.2712, 0.0042, 0.0072]])"
      ]
     },
     "execution_count": 166,
     "metadata": {},
     "output_type": "execute_result"
    }
   ],
   "source": [
    "intra[1:3] * intra[1:3]"
   ]
  },
  {
   "cell_type": "code",
   "execution_count": 171,
   "metadata": {},
   "outputs": [
    {
     "data": {
      "image/png": "[encoded data removed]",
      "text/latex": [
       "$$1.756184115098792$$"
      ],
      "text/plain": [
       "1.756184115098792"
      ]
     },
     "execution_count": 171,
     "metadata": {},
     "output_type": "execute_result"
    }
   ],
   "source": [
    "np.sum(intra[1:3]**2, axis=0) @ mass"
   ]
  },
  {
   "cell_type": "code",
   "execution_count": 76,
   "metadata": {},
   "outputs": [
    {
     "data": {
      "text/plain": [
       "array([[1, 2, 3],\n",
       "       [2, 4, 6],\n",
       "       [3, 6, 9]])"
      ]
     },
     "execution_count": 76,
     "metadata": {},
     "output_type": "execute_result"
    }
   ],
   "source": [
    "np.outer(np.array([1,2,3]),np.array([1,2,3]))"
   ]
  },
  {
   "cell_type": "code",
   "execution_count": 86,
   "metadata": {},
   "outputs": [
    {
     "data": {
      "text/plain": [
       "array([[1, 0, 0],\n",
       "       [0, 1, 0],\n",
       "       [0, 0, 1]])"
      ]
     },
     "execution_count": 86,
     "metadata": {},
     "output_type": "execute_result"
    }
   ],
   "source": [
    "np.diag(np.array([1,1,1]))"
   ]
  },
  {
   "cell_type": "code",
   "execution_count": null,
   "metadata": {},
   "outputs": [],
   "source": []
  }
 ],
 "metadata": {
  "kernelspec": {
   "display_name": "Python 3",
   "language": "python",
   "name": "python3"
  },
  "language_info": {
   "codemirror_mode": {
    "name": "ipython",
    "version": 3
   },
   "file_extension": ".py",
   "mimetype": "text/x-python",
   "name": "python",
   "nbconvert_exporter": "python",
   "pygments_lexer": "ipython3",
   "version": "3.6.5"
  }
 },
 "nbformat": 4,
 "nbformat_minor": 2
}
