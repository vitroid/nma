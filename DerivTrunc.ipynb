{
 "cells": [
  {
   "cell_type": "markdown",
   "metadata": {},
   "source": [
    "切断関数$T$を掛けた場合の導出。非常に複雑になるので、変数名のつけかたに注意する。"
   ]
  },
  {
   "cell_type": "code",
   "execution_count": 1,
   "metadata": {},
   "outputs": [
    {
     "data": {
      "text/latex": [
       "$$\\left[\\begin{matrix}v_{\\xi} + w_{xj} \\operatorname{r_{11}}{\\left (a_{i},b_{i},c_{i} \\right )} + w_{yj} \\operatorname{r_{12}}{\\left (a_{i},b_{i},c_{i} \\right )} + w_{zj} \\operatorname{r_{13}}{\\left (a_{i},b_{i},c_{i} \\right )}\\\\v_{yi} + w_{xj} \\operatorname{r_{21}}{\\left (a_{i},b_{i},c_{i} \\right )} + w_{yj} \\operatorname{r_{22}}{\\left (a_{i},b_{i},c_{i} \\right )} + w_{zj} \\operatorname{r_{23}}{\\left (a_{i},b_{i},c_{i} \\right )}\\\\v_{zi} + w_{xj} \\operatorname{r_{31}}{\\left (a_{i},b_{i},c_{i} \\right )} + w_{yj} \\operatorname{r_{32}}{\\left (a_{i},b_{i},c_{i} \\right )} + w_{zj} \\operatorname{r_{33}}{\\left (a_{i},b_{i},c_{i} \\right )}\\end{matrix}\\right]$$"
      ],
      "text/plain": [
       "⎡vₓᵢ + w_xj⋅r₁₁(aᵢ, bᵢ, cᵢ) + w_yj⋅r₁₂(aᵢ, bᵢ, cᵢ) + w_zj⋅r₁₃(aᵢ, bᵢ, cᵢ) ⎤\n",
       "⎢                                                                         ⎥\n",
       "⎢v_yi + w_xj⋅r₂₁(aᵢ, bᵢ, cᵢ) + w_yj⋅r₂₂(aᵢ, bᵢ, cᵢ) + w_zj⋅r₂₃(aᵢ, bᵢ, cᵢ)⎥\n",
       "⎢                                                                         ⎥\n",
       "⎣v_zi + w_xj⋅r₃₁(aᵢ, bᵢ, cᵢ) + w_yj⋅r₃₂(aᵢ, bᵢ, cᵢ) + w_zj⋅r₃₃(aᵢ, bᵢ, cᵢ)⎦"
      ]
     },
     "execution_count": 1,
     "metadata": {},
     "output_type": "execute_result"
    }
   ],
   "source": [
    "from sympy import *\n",
    "\n",
    "# おまじない\n",
    "init_printing()\n",
    "\n",
    "# 相互作用の微分をどこまで自動化できるかを試す。\n",
    "# ベクトルをベクトルのまま書ければいいのだが。\n",
    "# まず、要素を全部書き並べる形で。\n",
    "\n",
    "# com position of molecule i\n",
    "v_i = Matrix(3,1,symbols('v_xi,v_yi,v_zi'))\n",
    "# position of atom j in molecule i\n",
    "w_j = Matrix(3,1,symbols('w_xj,w_yj,w_zj'))\n",
    "# Rotation Matrix\n",
    "r11 = Function('r11', real=True)\n",
    "r12 = Function('r12', real=True)\n",
    "r13 = Function('r13', real=True)\n",
    "r21 = Function('r21', real=True)\n",
    "r22 = Function('r22', real=True)\n",
    "r23 = Function('r23', real=True)\n",
    "r31 = Function('r31', real=True)\n",
    "r32 = Function('r32', real=True)\n",
    "r33 = Function('r33', real=True)\n",
    "\n",
    "abc = symbols('a_i,b_i,c_i')\n",
    "a_i, b_i,c_i = abc\n",
    "\n",
    "R_i = Matrix(3,3,[r11(*abc),\n",
    "                 r12(*abc),\n",
    "                 r13(*abc),\n",
    "                 r21(*abc),\n",
    "                 r22(*abc),\n",
    "                 r23(*abc),\n",
    "                 r31(*abc),\n",
    "                 r32(*abc),\n",
    "                 r33(*abc)])\n",
    "\n",
    "r_ij = v_i+R_i*w_j\n",
    "\n",
    "r_ij"
   ]
  },
  {
   "cell_type": "code",
   "execution_count": 2,
   "metadata": {},
   "outputs": [
    {
     "data": {
      "text/latex": [
       "$$\\left[\\begin{matrix}v_{xk} + w_{xl} \\operatorname{r_{11}}{\\left (a_{k},b_{k},c_{k} \\right )} + w_{yl} \\operatorname{r_{12}}{\\left (a_{k},b_{k},c_{k} \\right )} + w_{zl} \\operatorname{r_{13}}{\\left (a_{k},b_{k},c_{k} \\right )}\\\\v_{yk} + w_{xl} \\operatorname{r_{21}}{\\left (a_{k},b_{k},c_{k} \\right )} + w_{yl} \\operatorname{r_{22}}{\\left (a_{k},b_{k},c_{k} \\right )} + w_{zl} \\operatorname{r_{23}}{\\left (a_{k},b_{k},c_{k} \\right )}\\\\v_{zk} + w_{xl} \\operatorname{r_{31}}{\\left (a_{k},b_{k},c_{k} \\right )} + w_{yl} \\operatorname{r_{32}}{\\left (a_{k},b_{k},c_{k} \\right )} + w_{zl} \\operatorname{r_{33}}{\\left (a_{k},b_{k},c_{k} \\right )}\\end{matrix}\\right]$$"
      ],
      "text/plain": [
       "⎡vₓₖ + wₓₗ⋅r₁₁(aₖ, bₖ, cₖ) + w_yl⋅r₁₂(aₖ, bₖ, cₖ) + w_zl⋅r₁₃(aₖ, bₖ, cₖ) ⎤\n",
       "⎢                                                                        ⎥\n",
       "⎢v_yk + wₓₗ⋅r₂₁(aₖ, bₖ, cₖ) + w_yl⋅r₂₂(aₖ, bₖ, cₖ) + w_zl⋅r₂₃(aₖ, bₖ, cₖ)⎥\n",
       "⎢                                                                        ⎥\n",
       "⎣v_zk + wₓₗ⋅r₃₁(aₖ, bₖ, cₖ) + w_yl⋅r₃₂(aₖ, bₖ, cₖ) + w_zl⋅r₃₃(aₖ, bₖ, cₖ)⎦"
      ]
     },
     "execution_count": 2,
     "metadata": {},
     "output_type": "execute_result"
    }
   ],
   "source": [
    "# com position of molecule k\n",
    "v_k = Matrix(3,1,symbols('v_xk,v_yk,v_zk'))\n",
    "# position of atom j in molecule i\n",
    "w_l = Matrix(3,1,symbols('w_xl,w_yl,w_zl'))\n",
    "\n",
    "a_k,b_k,c_k = symbols('a_k,b_k,c_k')\n",
    "\n",
    "R_k = Matrix(3,3,[r11(a_k,b_k,c_k),\n",
    "                 r12(a_k,b_k,c_k),\n",
    "                 r13(a_k,b_k,c_k),\n",
    "                 r21(a_k,b_k,c_k),\n",
    "                 r22(a_k,b_k,c_k),\n",
    "                 r23(a_k,b_k,c_k),\n",
    "                 r31(a_k,b_k,c_k),\n",
    "                 r32(a_k,b_k,c_k),\n",
    "                 r33(a_k,b_k,c_k)])\n",
    "\n",
    "r_kl = v_k+R_k*w_l\n",
    "r_kl\n"
   ]
  },
  {
   "cell_type": "code",
   "execution_count": 4,
   "metadata": {},
   "outputs": [
    {
     "data": {
      "text/latex": [
       "$$\\left[\\begin{matrix}v_{\\xi} - v_{xk} + w_{xj} \\operatorname{r_{11}}{\\left (a_{i},b_{i},c_{i} \\right )} - w_{xl} \\operatorname{r_{11}}{\\left (a_{k},b_{k},c_{k} \\right )} + w_{yj} \\operatorname{r_{12}}{\\left (a_{i},b_{i},c_{i} \\right )} - w_{yl} \\operatorname{r_{12}}{\\left (a_{k},b_{k},c_{k} \\right )} + w_{zj} \\operatorname{r_{13}}{\\left (a_{i},b_{i},c_{i} \\right )} - w_{zl} \\operatorname{r_{13}}{\\left (a_{k},b_{k},c_{k} \\right )}\\\\v_{yi} - v_{yk} + w_{xj} \\operatorname{r_{21}}{\\left (a_{i},b_{i},c_{i} \\right )} - w_{xl} \\operatorname{r_{21}}{\\left (a_{k},b_{k},c_{k} \\right )} + w_{yj} \\operatorname{r_{22}}{\\left (a_{i},b_{i},c_{i} \\right )} - w_{yl} \\operatorname{r_{22}}{\\left (a_{k},b_{k},c_{k} \\right )} + w_{zj} \\operatorname{r_{23}}{\\left (a_{i},b_{i},c_{i} \\right )} - w_{zl} \\operatorname{r_{23}}{\\left (a_{k},b_{k},c_{k} \\right )}\\\\v_{zi} - v_{zk} + w_{xj} \\operatorname{r_{31}}{\\left (a_{i},b_{i},c_{i} \\right )} - w_{xl} \\operatorname{r_{31}}{\\left (a_{k},b_{k},c_{k} \\right )} + w_{yj} \\operatorname{r_{32}}{\\left (a_{i},b_{i},c_{i} \\right )} - w_{yl} \\operatorname{r_{32}}{\\left (a_{k},b_{k},c_{k} \\right )} + w_{zj} \\operatorname{r_{33}}{\\left (a_{i},b_{i},c_{i} \\right )} - w_{zl} \\operatorname{r_{33}}{\\left (a_{k},b_{k},c_{k} \\right )}\\end{matrix}\\right]$$"
      ],
      "text/plain": [
       "⎡ vₓᵢ - vₓₖ + w_xj⋅r₁₁(aᵢ, bᵢ, cᵢ) - wₓₗ⋅r₁₁(aₖ, bₖ, cₖ) + w_yj⋅r₁₂(aᵢ, bᵢ, cᵢ\n",
       "⎢                                                                             \n",
       "⎢v_yi - v_yk + w_xj⋅r₂₁(aᵢ, bᵢ, cᵢ) - wₓₗ⋅r₂₁(aₖ, bₖ, cₖ) + w_yj⋅r₂₂(aᵢ, bᵢ, c\n",
       "⎢                                                                             \n",
       "⎣v_zi - v_zk + w_xj⋅r₃₁(aᵢ, bᵢ, cᵢ) - wₓₗ⋅r₃₁(aₖ, bₖ, cₖ) + w_yj⋅r₃₂(aᵢ, bᵢ, c\n",
       "\n",
       ") - w_yl⋅r₁₂(aₖ, bₖ, cₖ) + w_zj⋅r₁₃(aᵢ, bᵢ, cᵢ) - w_zl⋅r₁₃(aₖ, bₖ, cₖ) ⎤\n",
       "                                                                       ⎥\n",
       "ᵢ) - w_yl⋅r₂₂(aₖ, bₖ, cₖ) + w_zj⋅r₂₃(aᵢ, bᵢ, cᵢ) - w_zl⋅r₂₃(aₖ, bₖ, cₖ)⎥\n",
       "                                                                       ⎥\n",
       "ᵢ) - w_yl⋅r₃₂(aₖ, bₖ, cₖ) + w_zj⋅r₃₃(aᵢ, bᵢ, cᵢ) - w_zl⋅r₃₃(aₖ, bₖ, cₖ)⎦"
      ]
     },
     "execution_count": 4,
     "metadata": {},
     "output_type": "execute_result"
    }
   ],
   "source": [
    "r_ = r_ij-r_kl\n",
    "r_"
   ]
  },
  {
   "cell_type": "code",
   "execution_count": 5,
   "metadata": {},
   "outputs": [
    {
     "data": {
      "image/png": "[encoded data removed]",
      "text/latex": [
       "$$\\left(v_{\\xi} - v_{xk} + w_{xj} \\operatorname{r_{11}}{\\left (a_{i},b_{i},c_{i} \\right )} - w_{xl} \\operatorname{r_{11}}{\\left (a_{k},b_{k},c_{k} \\right )} + w_{yj} \\operatorname{r_{12}}{\\left (a_{i},b_{i},c_{i} \\right )} - w_{yl} \\operatorname{r_{12}}{\\left (a_{k},b_{k},c_{k} \\right )} + w_{zj} \\operatorname{r_{13}}{\\left (a_{i},b_{i},c_{i} \\right )} - w_{zl} \\operatorname{r_{13}}{\\left (a_{k},b_{k},c_{k} \\right )}\\right)^{2} + \\left(v_{yi} - v_{yk} + w_{xj} \\operatorname{r_{21}}{\\left (a_{i},b_{i},c_{i} \\right )} - w_{xl} \\operatorname{r_{21}}{\\left (a_{k},b_{k},c_{k} \\right )} + w_{yj} \\operatorname{r_{22}}{\\left (a_{i},b_{i},c_{i} \\right )} - w_{yl} \\operatorname{r_{22}}{\\left (a_{k},b_{k},c_{k} \\right )} + w_{zj} \\operatorname{r_{23}}{\\left (a_{i},b_{i},c_{i} \\right )} - w_{zl} \\operatorname{r_{23}}{\\left (a_{k},b_{k},c_{k} \\right )}\\right)^{2} + \\left(v_{zi} - v_{zk} + w_{xj} \\operatorname{r_{31}}{\\left (a_{i},b_{i},c_{i} \\right )} - w_{xl} \\operatorname{r_{31}}{\\left (a_{k},b_{k},c_{k} \\right )} + w_{yj} \\operatorname{r_{32}}{\\left (a_{i},b_{i},c_{i} \\right )} - w_{yl} \\operatorname{r_{32}}{\\left (a_{k},b_{k},c_{k} \\right )} + w_{zj} \\operatorname{r_{33}}{\\left (a_{i},b_{i},c_{i} \\right )} - w_{zl} \\operatorname{r_{33}}{\\left (a_{k},b_{k},c_{k} \\right )}\\right)^{2}$$"
      ],
      "text/plain": [
       "                                                                              \n",
       "(vₓᵢ - vₓₖ + w_xj⋅r₁₁(aᵢ, bᵢ, cᵢ) - wₓₗ⋅r₁₁(aₖ, bₖ, cₖ) + w_yj⋅r₁₂(aᵢ, bᵢ, cᵢ)\n",
       "\n",
       "                                                                      2       \n",
       " - w_yl⋅r₁₂(aₖ, bₖ, cₖ) + w_zj⋅r₁₃(aᵢ, bᵢ, cᵢ) - w_zl⋅r₁₃(aₖ, bₖ, cₖ))  + (v_y\n",
       "\n",
       "                                                                              \n",
       "i - v_yk + w_xj⋅r₂₁(aᵢ, bᵢ, cᵢ) - wₓₗ⋅r₂₁(aₖ, bₖ, cₖ) + w_yj⋅r₂₂(aᵢ, bᵢ, cᵢ) -\n",
       "\n",
       "                                                                    2         \n",
       " w_yl⋅r₂₂(aₖ, bₖ, cₖ) + w_zj⋅r₂₃(aᵢ, bᵢ, cᵢ) - w_zl⋅r₂₃(aₖ, bₖ, cₖ))  + (v_zi \n",
       "\n",
       "                                                                              \n",
       "- v_zk + w_xj⋅r₃₁(aᵢ, bᵢ, cᵢ) - wₓₗ⋅r₃₁(aₖ, bₖ, cₖ) + w_yj⋅r₃₂(aᵢ, bᵢ, cᵢ) - w\n",
       "\n",
       "                                                                  2\n",
       "_yl⋅r₃₂(aₖ, bₖ, cₖ) + w_zj⋅r₃₃(aᵢ, bᵢ, cᵢ) - w_zl⋅r₃₃(aₖ, bₖ, cₖ)) "
      ]
     },
     "execution_count": 5,
     "metadata": {},
     "output_type": "execute_result"
    }
   ],
   "source": [
    "r_2 = (r_.T*r_)[0]\n",
    "r_2"
   ]
  },
  {
   "cell_type": "markdown",
   "metadata": {},
   "source": [
    "`r`は今は定義しておくだけ。"
   ]
  },
  {
   "cell_type": "markdown",
   "metadata": {},
   "source": [
    "$\\mathbf{r}=\\mathbf{r}_{ij}-\\mathbf{r}_{kl}$はプログラム中では`r_`と書き、その要素は`r_x`,`r_y`,`r_z`、大きさは$r$は`r`と書く。"
   ]
  },
  {
   "cell_type": "code",
   "execution_count": 9,
   "metadata": {},
   "outputs": [],
   "source": [
    "r, r_x,r_y,r_z = symbols('r r_x r_y r_z')\n",
    "phi, phi_r, phi_rr = symbols('phi phi_r, phi_rr')\n"
   ]
  },
  {
   "cell_type": "markdown",
   "metadata": {},
   "source": [
    "$T$は切断関数。これもあらかじめ微分したものに名前をつけておく。"
   ]
  },
  {
   "cell_type": "code",
   "execution_count": 12,
   "metadata": {},
   "outputs": [
    {
     "data": {
      "image/png": "[encoded data removed]",
      "text/latex": [
       "$$\\left(v_{\\xi} - v_{xk}\\right)^{2} + \\left(v_{yi} - v_{yk}\\right)^{2} + \\left(v_{zi} - v_{zk}\\right)^{2}$$"
      ],
      "text/plain": [
       "           2                2                2\n",
       "(vₓᵢ - vₓₖ)  + (v_yi - v_yk)  + (v_zi - v_zk) "
      ]
     },
     "execution_count": 12,
     "metadata": {},
     "output_type": "execute_result"
    }
   ],
   "source": [
    "T, T_v, T_vv = symbols('T T_v, T_vv')\n",
    "v_ = v_i - v_k\n",
    "v_2 = (v_.T*v_)[0]\n",
    "v_2"
   ]
  },
  {
   "cell_type": "code",
   "execution_count": 8,
   "metadata": {},
   "outputs": [],
   "source": [
    "v, v_x,v_y,v_z = symbols('v v_x v_y v_z')"
   ]
  },
  {
   "cell_type": "markdown",
   "metadata": {},
   "source": [
    "## 一階微分\n",
    "${d\\phi(r)\\over dr}$を`phi_r`のように書く。\n",
    "### 並進\n",
    "\n",
    "$\\phi$を$x_i$で微分する。${\\partial \\phi\\over \\partial x_i}={\\partial r\\over\\partial  x_i}\\cdot{\\partial \\phi\\over \\partial r}={\\partial \\left|\\mathbf{r}\\right|\\over \\partial x_i}\\cdot{\\partial \\phi\\over \\partial r}$"
   ]
  },
  {
   "cell_type": "code",
   "execution_count": 18,
   "metadata": {},
   "outputs": [
    {
     "data": {
      "image/png": "[encoded data removed]",
      "text/latex": [
       "$$\\frac{T \\phi_{r} r_{x}}{r} + \\frac{T_{v} \\phi v_{x}}{v}$$"
      ],
      "text/plain": [
       "T⋅φᵣ⋅rₓ   Tᵥ⋅φ⋅vₓ\n",
       "─────── + ───────\n",
       "   r         v   "
      ]
     },
     "execution_count": 18,
     "metadata": {},
     "output_type": "execute_result"
    }
   ],
   "source": [
    "# vxiで微分する\n",
    "T_xi = diff(sqrt(v_2), v_i[0]) * T_v\n",
    "phi_xi = diff(sqrt(r_2), v_i[0]) * phi_r\n",
    "\n",
    "D = phi_xi * T + phi * T_xi\n",
    "\n",
    "D = D.subs(r_[0], 'r_x').subs(r_[1],'r_y').subs(r_[2],'r_z')\n",
    "D = D.subs((r_x**2+r_y**2+r_z**2)**0.5,r)\n",
    "D = D.subs(v_[0], 'v_x').subs(v_[1],'v_y').subs(v_[2],'v_z')\n",
    "D = D.subs((v_x**2+v_y**2+v_z**2)**0.5,'v')\n",
    "dxi = D\n",
    "D"
   ]
  },
  {
   "cell_type": "markdown",
   "metadata": {},
   "source": [
    "### 回転\n",
    "${\\partial \\mathbf{R}_i\\over \\partial a_i}\\cdot \\mathbf{w}_j$を$\\mathbf{s}_a$と書く。切断関数は回転と無関係なので、角度で微分すると消える。"
   ]
  },
  {
   "cell_type": "code",
   "execution_count": 19,
   "metadata": {},
   "outputs": [
    {
     "data": {
      "image/png": "[encoded data removed]",
      "text/latex": [
       "$$\\frac{T \\phi_{r} \\left(r_{x} s_{ax} + r_{y} s_{ay} + r_{z} s_{az}\\right)}{r}$$"
      ],
      "text/plain": [
       "T⋅φᵣ⋅(rₓ⋅sₐₓ + r_y⋅s_ay + r_z⋅s_az)\n",
       "───────────────────────────────────\n",
       "                 r                 "
      ]
     },
     "execution_count": 19,
     "metadata": {},
     "output_type": "execute_result"
    }
   ],
   "source": [
    "# rをaiで微分する\n",
    "phi_ai = diff(sqrt(r_2), a_i) * phi_r \n",
    "\n",
    "D = phi_ai * T\n",
    "D = D.subs(r_[0], 'r_x').subs(r_[1],'r_y').subs(r_[2],'r_z')\n",
    "D = D.simplify()\n",
    "D = D.subs((diff(R_i,a_i)*w_j)[0], 's_ax').subs((diff(R_i,a_i)*w_j)[1], 's_ay').subs((diff(R_i,a_i)*w_j)[2], 's_az')\n",
    "D = D.subs(sqrt(r_x**2+r_y**2+r_z**2),r)\n",
    "dai = D\n",
    "D"
   ]
  },
  {
   "cell_type": "markdown",
   "metadata": {},
   "source": [
    "$\\mathbf{r}\\cdot\\left({\\partial \\mathbf{R}_i\\over \\partial a_i}\\cdot \\mathbf{w}_j\\right)$を何と書こう。"
   ]
  },
  {
   "cell_type": "markdown",
   "metadata": {},
   "source": [
    "$rs_a$かな"
   ]
  },
  {
   "cell_type": "markdown",
   "metadata": {},
   "source": [
    "## 二階微分\n",
    "### 並進・並進\n",
    "#### 同一変数"
   ]
  },
  {
   "cell_type": "code",
   "execution_count": 21,
   "metadata": {},
   "outputs": [
    {
     "data": {
      "image/png": "[encoded data removed]",
      "text/latex": [
       "$$T \\left(\\frac{\\phi_{r} \\left(1 - \\frac{r_{x}^{2}}{r^{2}}\\right)}{r} + \\frac{\\phi_{rr} r_{x}^{2}}{r^{2}}\\right) + \\frac{2 T_{v} \\phi_{r} r_{x} v_{x}}{r v} + \\phi \\left(\\frac{T_{v} \\left(1 - \\frac{v_{x}^{2}}{v^{2}}\\right)}{v} + \\frac{T_{vv} v_{x}^{2}}{v^{2}}\\right)$$"
      ],
      "text/plain": [
       "  ⎛   ⎛      2⎞          ⎞                     ⎛   ⎛      2⎞          ⎞\n",
       "  ⎜   ⎜    rₓ ⎟          ⎟                     ⎜   ⎜    vₓ ⎟          ⎟\n",
       "  ⎜φᵣ⋅⎜1 - ───⎟          ⎟                     ⎜Tᵥ⋅⎜1 - ───⎟          ⎟\n",
       "  ⎜   ⎜      2⎟         2⎟                     ⎜   ⎜      2⎟         2⎟\n",
       "  ⎜   ⎝     r ⎠   φᵣᵣ⋅rₓ ⎟   2⋅Tᵥ⋅φᵣ⋅rₓ⋅vₓ     ⎜   ⎝     v ⎠   Tᵥᵥ⋅vₓ ⎟\n",
       "T⋅⎜──────────── + ───────⎟ + ───────────── + φ⋅⎜──────────── + ───────⎟\n",
       "  ⎜     r             2  ⎟        r⋅v          ⎜     v             2  ⎟\n",
       "  ⎝                  r   ⎠                     ⎝                  v   ⎠"
      ]
     },
     "execution_count": 21,
     "metadata": {},
     "output_type": "execute_result"
    }
   ],
   "source": [
    "T_xi = diff(sqrt(v_2), v_i[0]) * T_v\n",
    "phi_xi = diff(sqrt(r_2), v_i[0]) * phi_r\n",
    "T_xixi = diff(sqrt(v_2), v_i[0], v_i[0]) * T_v + diff(sqrt(v_2), v_i[0]) * diff(sqrt(v_2), v_i[0]) * T_vv\n",
    "phi_xixi = diff(sqrt(r_2), v_i[0], v_i[0]) * phi_r + diff(sqrt(r_2), v_i[0]) * diff(sqrt(r_2), v_i[0]) * phi_rr\n",
    "\n",
    "D = phi_xixi*T + 2*phi_xi*T_xi + phi*T_xixi\n",
    "#dxixi = dxixi.simplify()\n",
    "D = D.subs(r_[0], 'r_x').subs(r_[1],'r_y').subs(r_[2],'r_z')\n",
    "D = D.subs(sqrt(r_x**2+r_y**2+r_z**2),r)\n",
    "D = D.subs(v_[0], 'v_x').subs(v_[1],'v_y').subs(v_[2],'v_z')\n",
    "D = D.subs((v_x**2+v_y**2+v_z**2)**0.5,'v')\n",
    "dxixi = D\n",
    "D"
   ]
  },
  {
   "cell_type": "markdown",
   "metadata": {},
   "source": [
    "#### 異なる変数、同じ分子"
   ]
  },
  {
   "cell_type": "code",
   "execution_count": 25,
   "metadata": {},
   "outputs": [
    {
     "data": {
      "image/png": "[encoded data removed]",
      "text/latex": [
       "$$T \\left(- \\frac{\\phi_{r} r_{x} r_{y}}{r^{3}} + \\frac{\\phi_{rr} r_{x} r_{y}}{r^{2}}\\right) + \\frac{T_{v} \\phi_{r} r_{x} v_{y}}{r v} + \\frac{T_{v} \\phi_{r} r_{y} v_{x}}{r v} + \\phi \\left(- \\frac{T_{v} v_{x} v_{y}}{v^{3}} + \\frac{T_{vv} v_{x} v_{y}}{v^{2}}\\right)$$"
      ],
      "text/plain": [
       "  ⎛  φᵣ⋅rₓ⋅r_y   φᵣᵣ⋅rₓ⋅r_y⎞   Tᵥ⋅φᵣ⋅rₓ⋅v_y   Tᵥ⋅φᵣ⋅r_y⋅vₓ     ⎛  Tᵥ⋅vₓ⋅v_y   \n",
       "T⋅⎜- ───────── + ──────────⎟ + ──────────── + ──────────── + φ⋅⎜- ───────── + \n",
       "  ⎜       3           2    ⎟       r⋅v            r⋅v          ⎜       3      \n",
       "  ⎝      r           r     ⎠                                   ⎝      v       \n",
       "\n",
       "Tᵥᵥ⋅vₓ⋅v_y⎞\n",
       "──────────⎟\n",
       "     2    ⎟\n",
       "    v     ⎠"
      ]
     },
     "execution_count": 25,
     "metadata": {},
     "output_type": "execute_result"
    }
   ],
   "source": [
    "T_yi = diff(sqrt(v_2), v_i[1]) * T_v\n",
    "phi_yi = diff(sqrt(r_2), v_i[1]) * phi_r\n",
    "T_xiyi = diff(sqrt(v_2), v_i[0], v_i[1]) * T_v + diff(sqrt(v_2), v_i[0]) * diff(sqrt(v_2), v_i[1]) * T_vv\n",
    "phi_xiyi = diff(sqrt(r_2), v_i[0], v_i[1]) * phi_r + diff(sqrt(r_2), v_i[0]) * diff(sqrt(r_2), v_i[1]) * phi_rr\n",
    "\n",
    "D = phi_xiyi*T + phi_xi*T_yi + phi_yi*T_xi + phi*T_xiyi\n",
    "\n",
    "D = D.subs(r_[0], 'r_x').subs(r_[1],'r_y').subs(r_[2],'r_z')\n",
    "D = D.subs(sqrt(r_x**2+r_y**2+r_z**2),r)\n",
    "D = D.subs(v_[0], 'v_x').subs(v_[1],'v_y').subs(v_[2],'v_z')\n",
    "D = D.subs((v_x**2+v_y**2+v_z**2)**0.5,'v')\n",
    "\n",
    "dxiyi = D\n",
    "D"
   ]
  },
  {
   "cell_type": "markdown",
   "metadata": {},
   "source": [
    "#### 異なる分子"
   ]
  },
  {
   "cell_type": "code",
   "execution_count": 27,
   "metadata": {},
   "outputs": [
    {
     "data": {
      "image/png": "[encoded data removed]",
      "text/latex": [
       "$$T \\left(\\frac{\\phi_{r} r_{x} r_{y}}{r^{3}} - \\frac{\\phi_{rr} r_{x} r_{y}}{r^{2}}\\right) - \\frac{T_{v} \\phi_{r} r_{x} v_{y}}{r v} - \\frac{T_{v} \\phi_{r} r_{y} v_{x}}{r v} + \\phi \\left(\\frac{T_{v} v_{x} v_{y}}{v^{3}} - \\frac{T_{vv} v_{x} v_{y}}{v^{2}}\\right)$$"
      ],
      "text/plain": [
       "  ⎛φᵣ⋅rₓ⋅r_y   φᵣᵣ⋅rₓ⋅r_y⎞   Tᵥ⋅φᵣ⋅rₓ⋅v_y   Tᵥ⋅φᵣ⋅r_y⋅vₓ     ⎛Tᵥ⋅vₓ⋅v_y   Tᵥᵥ⋅\n",
       "T⋅⎜───────── - ──────────⎟ - ──────────── - ──────────── + φ⋅⎜───────── - ────\n",
       "  ⎜     3           2    ⎟       r⋅v            r⋅v          ⎜     3          \n",
       "  ⎝    r           r     ⎠                                   ⎝    v           \n",
       "\n",
       "vₓ⋅v_y⎞\n",
       "──────⎟\n",
       " 2    ⎟\n",
       "v     ⎠"
      ]
     },
     "execution_count": 27,
     "metadata": {},
     "output_type": "execute_result"
    }
   ],
   "source": [
    "T_yk = diff(sqrt(v_2), v_k[1]) * T_v\n",
    "phi_yk = diff(sqrt(r_2), v_k[1]) * phi_r\n",
    "T_xiyk = diff(sqrt(v_2), v_i[0], v_k[1]) * T_v + diff(sqrt(v_2), v_i[0]) * diff(sqrt(v_2), v_k[1]) * T_vv\n",
    "phi_xiyk = diff(sqrt(r_2), v_i[0], v_k[1]) * phi_r + diff(sqrt(r_2), v_i[0]) * diff(sqrt(r_2), v_k[1]) * phi_rr\n",
    "\n",
    "D = phi_xiyk*T + phi_xi*T_yk + phi_yk*T_xi + phi*T_xiyk\n",
    "\n",
    "D = D.subs(r_[0], 'r_x').subs(r_[1],'r_y').subs(r_[2],'r_z')\n",
    "D = D.subs(sqrt(r_x**2+r_y**2+r_z**2),r)\n",
    "D = D.subs(v_[0], 'v_x').subs(v_[1],'v_y').subs(v_[2],'v_z')\n",
    "D = D.subs((v_x**2+v_y**2+v_z**2)**0.5,'v')\n",
    "\n",
    "dxiyk =D\n",
    "D"
   ]
  },
  {
   "cell_type": "markdown",
   "metadata": {},
   "source": [
    "### 回転・回転"
   ]
  },
  {
   "cell_type": "markdown",
   "metadata": {},
   "source": [
    "#### 同じ変数\n",
    "\n",
    "${\\partial^2 \\mathbf{R}_i\\over \\partial a_i^2}\\cdot \\mathbf{w}_j$を$\\mathbf{s}_{aa}$と書く。"
   ]
  },
  {
   "cell_type": "code",
   "execution_count": 28,
   "metadata": {},
   "outputs": [
    {
     "data": {
      "image/png": "[encoded data removed]",
      "text/latex": [
       "$$\\frac{T \\left(\\phi_{r} \\left(r^{2} \\left(r_{x} s_{aax} + r_{y} s_{aay} + r_{z} s_{aaz} + s_{ax}^{2} + s_{ay}^{2} + s_{az}^{2}\\right) - \\left(r_{x} s_{ax} + r_{y} s_{ay} + r_{z} s_{az}\\right)^{2}\\right) + \\phi_{rr} r \\left(r_{x} s_{ax} + r_{y} s_{ay} + r_{z} s_{az}\\right)^{2}\\right)}{r^{3}}$$"
      ],
      "text/plain": [
       "  ⎛   ⎛ 2 ⎛                                     2       2       2⎞            \n",
       "T⋅⎝φᵣ⋅⎝r ⋅⎝rₓ⋅sₐₐₓ + r_y⋅s_aay + r_z⋅s_aaz + sₐₓ  + s_ay  + s_az ⎠ - (rₓ⋅sₐₓ +\n",
       "──────────────────────────────────────────────────────────────────────────────\n",
       "                                                                       3      \n",
       "                                                                      r       \n",
       "\n",
       "                     2⎞                                       2⎞\n",
       " r_y⋅s_ay + r_z⋅s_az) ⎠ + φᵣᵣ⋅r⋅(rₓ⋅sₐₓ + r_y⋅s_ay + r_z⋅s_az) ⎠\n",
       "────────────────────────────────────────────────────────────────\n",
       "                                                                \n",
       "                                                                "
      ]
     },
     "execution_count": 28,
     "metadata": {},
     "output_type": "execute_result"
    }
   ],
   "source": [
    "# aiで再度微分\n",
    "D = diff(sqrt(r_2), a_i, a_i) * phi_r + diff(sqrt(r_2), a_i) * diff(sqrt(r_2), a_i) * phi_rr\n",
    "D = D.subs(r_[0], 'r_x').subs(r_[1],'r_y').subs(r_[2],'r_z')\n",
    "D = D.subs(sqrt(r_x**2+r_y**2+r_z**2),r)\n",
    "D = D.simplify()\n",
    "D = D.subs((diff(R_i,a_i)*w_j)[0], 's_ax').subs((diff(R_i,a_i)*w_j)[1], 's_ay').subs((diff(R_i,a_i)*w_j)[2], 's_az')\n",
    "D = D.subs((diff(R_i,a_i,a_i)*w_j)[0], 's_aax').subs((diff(R_i,a_i,a_i)*w_j)[1], 's_aay').subs((diff(R_i,a_i,a_i)*w_j)[2], 's_aaz')\n",
    "daiai = D*T\n",
    "D*T"
   ]
  },
  {
   "cell_type": "markdown",
   "metadata": {},
   "source": [
    "$${\\left({{d^2\\over dr^2}\\phi (r)\\over r} - {{d\\over dr}\\phi(r)\\over r^2}\\right)\\cdot (\\mathbf{r}\\cdot \\mathbf{s}_a)^2+(\\mathbf{r}\\cdot \\mathbf{s}_{aa}+\\mathbf{s}_a^2)\\cdot {d\\over dr}\\phi(r)}\\over r$$\n"
   ]
  },
  {
   "cell_type": "markdown",
   "metadata": {},
   "source": [
    "#### 同じ分子、別変数"
   ]
  },
  {
   "cell_type": "code",
   "execution_count": 29,
   "metadata": {},
   "outputs": [
    {
     "data": {
      "image/png": "[encoded data removed]",
      "text/latex": [
       "$$\\frac{T \\left(\\phi_{r} \\left(r^{2} \\left(r_{x} s_{abx} + r_{y} s_{aby} + r_{z} s_{abz} + s_{ax} s_{bx} + s_{ay} s_{by} + s_{az} s_{bz}\\right) - \\left(r_{x} s_{ax} + r_{y} s_{ay} + r_{z} s_{az}\\right) \\left(r_{x} s_{bx} + r_{y} s_{by} + r_{z} s_{bz}\\right)\\right) + \\phi_{rr} r \\left(r_{x} s_{ax} + r_{y} s_{ay} + r_{z} s_{az}\\right) \\left(r_{x} s_{bx} + r_{y} s_{by} + r_{z} s_{bz}\\right)\\right)}{r^{3}}$$"
      ],
      "text/plain": [
       "  ⎛   ⎛ 2                                                                     \n",
       "T⋅⎝φᵣ⋅⎝r ⋅(rₓ⋅s_abx + r_y⋅s_aby + r_z⋅s_abz + sₐₓ⋅s_bx + s_ay⋅s_by + s_az⋅s_bz\n",
       "──────────────────────────────────────────────────────────────────────────────\n",
       "                                                                              \n",
       "                                                                              \n",
       "\n",
       "                                                                  ⎞           \n",
       ") - (rₓ⋅sₐₓ + r_y⋅s_ay + r_z⋅s_az)⋅(rₓ⋅s_bx + r_y⋅s_by + r_z⋅s_bz)⎠ + φᵣᵣ⋅r⋅(r\n",
       "──────────────────────────────────────────────────────────────────────────────\n",
       "                               3                                              \n",
       "                              r                                               \n",
       "\n",
       "                                                            ⎞\n",
       "ₓ⋅sₐₓ + r_y⋅s_ay + r_z⋅s_az)⋅(rₓ⋅s_bx + r_y⋅s_by + r_z⋅s_bz)⎠\n",
       "─────────────────────────────────────────────────────────────\n",
       "                                                             \n",
       "                                                             "
      ]
     },
     "execution_count": 29,
     "metadata": {},
     "output_type": "execute_result"
    }
   ],
   "source": [
    "D = diff(sqrt(r_2), a_i, b_i) * phi_r + diff(sqrt(r_2), a_i) * diff(sqrt(r_2), b_i) * phi_rr\n",
    "D = D.subs(r_[0], 'r_x').subs(r_[1],'r_y').subs(r_[2],'r_z')\n",
    "D = D.subs(sqrt(r_x**2+r_y**2+r_z**2),r)\n",
    "D = D.simplify()\n",
    "D = D.subs((diff(R_i,a_i)*w_j)[0], 's_ax').subs((diff(R_i,a_i)*w_j)[1], 's_ay').subs((diff(R_i,a_i)*w_j)[2], 's_az')\n",
    "D = D.subs((diff(R_i,b_i)*w_j)[0], 's_bx').subs((diff(R_i,b_i)*w_j)[1], 's_by').subs((diff(R_i,b_i)*w_j)[2], 's_bz')\n",
    "D = D.subs((diff(R_i,a_i,b_i)*w_j)[0], 's_abx').subs((diff(R_i,a_i,b_i)*w_j)[1], 's_aby').subs((diff(R_i,a_i,b_i)*w_j)[2], 's_abz')\n",
    "daibi = D*T\n",
    "D*T"
   ]
  },
  {
   "cell_type": "markdown",
   "metadata": {},
   "source": [
    "#### 別の分子\n",
    "\n",
    "${\\partial \\mathbf{R}_k\\over \\partial a_k}\\cdot \\mathbf{w}_l$を$\\mathbf{t}_a$と書く。"
   ]
  },
  {
   "cell_type": "code",
   "execution_count": 30,
   "metadata": {},
   "outputs": [
    {
     "data": {
      "image/png": "[encoded data removed]",
      "text/latex": [
       "$$- \\frac{T \\left(\\phi_{r} \\left(r^{2} \\left(s_{ax} t_{bx} + s_{ay} t_{by} + s_{az} t_{bz}\\right) - \\left(r_{x} s_{ax} + r_{y} s_{ay} + r_{z} s_{az}\\right) \\left(r_{x} t_{bx} + r_{y} t_{by} + r_{z} t_{bz}\\right)\\right) + \\phi_{rr} r \\left(r_{x} s_{ax} + r_{y} s_{ay} + r_{z} s_{az}\\right) \\left(r_{x} t_{bx} + r_{y} t_{by} + r_{z} t_{bz}\\right)\\right)}{r^{3}}$$"
      ],
      "text/plain": [
       "   ⎛   ⎛ 2                                                                    \n",
       "-T⋅⎝φᵣ⋅⎝r ⋅(sₐₓ⋅t_bx + s_ay⋅t_by + s_az⋅t_bz) - (rₓ⋅sₐₓ + r_y⋅s_ay + r_z⋅s_az)\n",
       "──────────────────────────────────────────────────────────────────────────────\n",
       "                                                                              \n",
       "                                                                              \n",
       "\n",
       "                                ⎞                                             \n",
       "⋅(rₓ⋅t_bx + r_y⋅t_by + r_z⋅t_bz)⎠ + φᵣᵣ⋅r⋅(rₓ⋅sₐₓ + r_y⋅s_ay + r_z⋅s_az)⋅(rₓ⋅t\n",
       "──────────────────────────────────────────────────────────────────────────────\n",
       "              3                                                               \n",
       "             r                                                                \n",
       "\n",
       "                          ⎞ \n",
       "_bx + r_y⋅t_by + r_z⋅t_bz)⎠ \n",
       "────────────────────────────\n",
       "                            \n",
       "                            "
      ]
     },
     "execution_count": 30,
     "metadata": {},
     "output_type": "execute_result"
    }
   ],
   "source": [
    "D = diff(sqrt(r_2), a_i, b_k) * phi_r + diff(sqrt(r_2), a_i) * diff(sqrt(r_2), b_k) * phi_rr\n",
    "D = D.subs(r_[0], 'r_x').subs(r_[1],'r_y').subs(r_[2],'r_z')\n",
    "D = D.subs(sqrt(r_x**2+r_y**2+r_z**2),r)\n",
    "D = D.simplify()\n",
    "D = D.subs((diff(R_i,a_i)*w_j)[0], 's_ax').subs((diff(R_i,a_i)*w_j)[1], 's_ay').subs((diff(R_i,a_i)*w_j)[2], 's_az')\n",
    "D = D.subs((diff(R_k,b_k)*w_l)[0], 't_bx').subs((diff(R_k,b_k)*w_l)[1], 't_by').subs((diff(R_k,b_k)*w_l)[2], 't_bz')\n",
    "daibk = D*T\n",
    "D*T"
   ]
  },
  {
   "cell_type": "markdown",
   "metadata": {},
   "source": [
    "### 回転・並進"
   ]
  },
  {
   "cell_type": "markdown",
   "metadata": {},
   "source": [
    "#### 同じ分子"
   ]
  },
  {
   "cell_type": "code",
   "execution_count": 33,
   "metadata": {},
   "outputs": [
    {
     "data": {
      "image/png": "[encoded data removed]",
      "text/latex": [
       "$$\\frac{T v \\left(\\phi_{r} \\left(r^{2} s_{ax} - r_{x} \\left(r_{x} s_{ax} + r_{y} s_{ay} + r_{z} s_{az}\\right)\\right) + \\phi_{rr} r r_{x} \\left(r_{x} s_{ax} + r_{y} s_{ay} + r_{z} s_{az}\\right)\\right) + T_{v} \\phi_{r} r^{2} v_{x} \\left(r_{x} s_{ax} + r_{y} s_{ay} + r_{z} s_{az}\\right)}{r^{3} v}$$"
      ],
      "text/plain": [
       "    ⎛   ⎛ 2                                        ⎞                          \n",
       "T⋅v⋅⎝φᵣ⋅⎝r ⋅sₐₓ - rₓ⋅(rₓ⋅sₐₓ + r_y⋅s_ay + r_z⋅s_az)⎠ + φᵣᵣ⋅r⋅rₓ⋅(rₓ⋅sₐₓ + r_y⋅\n",
       "──────────────────────────────────────────────────────────────────────────────\n",
       "                                                                     3        \n",
       "                                                                    r ⋅v      \n",
       "\n",
       "                ⎞          2                                  \n",
       "s_ay + r_z⋅s_az)⎠ + Tᵥ⋅φᵣ⋅r ⋅vₓ⋅(rₓ⋅sₐₓ + r_y⋅s_ay + r_z⋅s_az)\n",
       "──────────────────────────────────────────────────────────────\n",
       "                                                              \n",
       "                                                              "
      ]
     },
     "execution_count": 33,
     "metadata": {},
     "output_type": "execute_result"
    }
   ],
   "source": [
    "# D1 = phi_xi*T + phi*T_xi\n",
    "phi_xiai = diff(sqrt(r_2), v_i[0], a_i) * phi_r + diff(sqrt(r_2), v_i[0]) * diff(sqrt(r_2), a_i) * phi_rr\n",
    "\n",
    "D = phi_xiai*T + phi_ai*T_xi\n",
    "D = D.subs(r_[0], 'r_x').subs(r_[1],'r_y').subs(r_[2],'r_z')\n",
    "D = D.subs(sqrt(r_x**2+r_y**2+r_z**2),r)\n",
    "D = D.simplify()\n",
    "D = D.subs((diff(R_i,a_i)*w_j)[0], 's_ax').subs((diff(R_i,a_i)*w_j)[1], 's_ay').subs((diff(R_i,a_i)*w_j)[2], 's_az')\n",
    "D = D.subs(v_[0], 'v_x').subs(v_[1],'v_y').subs(v_[2],'v_z')\n",
    "D = D.subs((v_x**2+v_y**2+v_z**2)**0.5,'v')\n",
    "\n",
    "dxiai = D\n",
    "D"
   ]
  },
  {
   "cell_type": "markdown",
   "metadata": {},
   "source": [
    "#### 別の分子"
   ]
  },
  {
   "cell_type": "code",
   "execution_count": 36,
   "metadata": {},
   "outputs": [
    {
     "data": {
      "image/png": "[encoded data removed]",
      "text/latex": [
       "$$- \\frac{T v \\left(\\phi_{r} \\left(r^{2} t_{ax} - r_{x} \\left(r_{x} t_{ax} + r_{y} t_{ay} + r_{z} t_{az}\\right)\\right) + \\phi_{rr} r r_{x} \\left(r_{x} t_{ax} + r_{y} t_{ay} + r_{z} t_{az}\\right)\\right) + T_{v} \\phi_{r} r^{2} v_{x} \\left(r_{x} t_{ax} + r_{y} t_{ay} + r_{z} t_{az}\\right)}{r^{3} v}$$"
      ],
      "text/plain": [
       " ⎛    ⎛   ⎛ 2                                        ⎞                        \n",
       "-⎝T⋅v⋅⎝φᵣ⋅⎝r ⋅tₐₓ - rₓ⋅(rₓ⋅tₐₓ + r_y⋅t_ay + r_z⋅t_az)⎠ + φᵣᵣ⋅r⋅rₓ⋅(rₓ⋅tₐₓ + r_\n",
       "──────────────────────────────────────────────────────────────────────────────\n",
       "                                                                       3      \n",
       "                                                                      r ⋅v    \n",
       "\n",
       "                  ⎞          2                                  ⎞ \n",
       "y⋅t_ay + r_z⋅t_az)⎠ + Tᵥ⋅φᵣ⋅r ⋅vₓ⋅(rₓ⋅tₐₓ + r_y⋅t_ay + r_z⋅t_az)⎠ \n",
       "──────────────────────────────────────────────────────────────────\n",
       "                                                                  \n",
       "                                                                  "
      ]
     },
     "execution_count": 36,
     "metadata": {},
     "output_type": "execute_result"
    }
   ],
   "source": [
    "phi_xiak = diff(sqrt(r_2), v_i[0], a_k) * phi_r + diff(sqrt(r_2), v_i[0]) * diff(sqrt(r_2), a_k) * phi_rr\n",
    "phi_ak = diff(sqrt(r_2), a_k) * phi_r \n",
    "\n",
    "D = phi_xiak*T + phi_ak*T_xi\n",
    "D = D.subs(r_[0], 'r_x').subs(r_[1],'r_y').subs(r_[2],'r_z')\n",
    "D = D.subs(sqrt(r_x**2+r_y**2+r_z**2),r)\n",
    "D = D.simplify()\n",
    "D = D.subs((diff(R_k,a_k)*w_l)[0], 't_ax').subs((diff(R_k,a_k)*w_l)[1], 't_ay').subs((diff(R_k,a_k)*w_l)[2], 't_az')\n",
    "D = D.subs(v_[0], 'v_x').subs(v_[1],'v_y').subs(v_[2],'v_z')\n",
    "D = D.subs((v_x**2+v_y**2+v_z**2)**0.5,'v')\n",
    "\n",
    "dxiak = D\n",
    "D"
   ]
  },
  {
   "cell_type": "code",
   "execution_count": 108,
   "metadata": {},
   "outputs": [
    {
     "ename": "TypeError",
     "evalue": "'NoneType' object is not subscriptable",
     "output_type": "error",
     "traceback": [
      "\u001b[0;31m---------------------------------------------------------------------------\u001b[0m",
      "\u001b[0;31mTypeError\u001b[0m                                 Traceback (most recent call last)",
      "\u001b[0;32m<ipython-input-108-bee31f743e60>\u001b[0m in \u001b[0;36m<module>\u001b[0;34m\u001b[0m\n\u001b[1;32m     12\u001b[0m                  \u001b[0mproject\u001b[0m\u001b[0;34m=\u001b[0m\u001b[0;34m'NMA'\u001b[0m\u001b[0;34m,\u001b[0m\u001b[0;34m\u001b[0m\u001b[0m\n\u001b[1;32m     13\u001b[0m                  to_files=True)\n\u001b[0;32m---> 14\u001b[0;31m \u001b[0mprint\u001b[0m\u001b[0;34m(\u001b[0m\u001b[0mresult\u001b[0m\u001b[0;34m[\u001b[0m\u001b[0;36m0\u001b[0m\u001b[0;34m]\u001b[0m\u001b[0;34m[\u001b[0m\u001b[0;36m1\u001b[0m\u001b[0;34m]\u001b[0m\u001b[0;34m)\u001b[0m\u001b[0;34m\u001b[0m\u001b[0m\n\u001b[0m",
      "\u001b[0;31mTypeError\u001b[0m: 'NoneType' object is not subscriptable"
     ]
    }
   ],
   "source": [
    "from sympy.utilities.codegen import codegen\n",
    "result = codegen([('dxixi', dxixi),\n",
    "                  ('dxiyi', dxiyi),\n",
    "                  ('dxiyk', dxiyk),\n",
    "                  ('daiai', daiai),\n",
    "                  ('daibi', daibi),\n",
    "                  ('daibk', daibk),\n",
    "                  ('dxiai', dxiai),\n",
    "                  ('dxiak', dxiak)],\n",
    "                 prefix='DerivTrunc',\n",
    "                 language='f95',\n",
    "                 project='NMA',\n",
    "                 to_files=True)\n",
    "print(result[0][1])"
   ]
  },
  {
   "cell_type": "markdown",
   "metadata": {},
   "source": [
    "このコード自体はなかなかいいぞ。何しろ書き写しそこねる心配がない。"
   ]
  }
 ],
 "metadata": {
  "kernelspec": {
   "display_name": "Python 3",
   "language": "python",
   "name": "python3"
  },
  "language_info": {
   "codemirror_mode": {
    "name": "ipython",
    "version": 3
   },
   "file_extension": ".py",
   "mimetype": "text/x-python",
   "name": "python",
   "nbconvert_exporter": "python",
   "pygments_lexer": "ipython3",
   "version": "3.7.3"
  }
 },
 "nbformat": 4,
 "nbformat_minor": 2
}
