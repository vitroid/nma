{
 "cells": [
  {
   "cell_type": "markdown",
   "metadata": {},
   "source": [
    "関数の微分をSympyで自動生成する。(手計算でもできるが)"
   ]
  },
  {
   "cell_type": "code",
   "execution_count": 27,
   "metadata": {},
   "outputs": [
    {
     "data": {
      "image/png": "[encoded data removed]",
      "text/latex": [
       "$$\\left[\\begin{matrix}- \\sin{\\left (b \\right )} \\sin{\\left (c \\right )} \\cos{\\left (a \\right )} + \\cos{\\left (b \\right )} \\cos{\\left (c \\right )} & - \\sin{\\left (b \\right )} \\cos{\\left (a \\right )} \\cos{\\left (c \\right )} - \\sin{\\left (c \\right )} \\cos{\\left (b \\right )} & \\sin{\\left (a \\right )} \\sin{\\left (b \\right )}\\\\\\sin{\\left (b \\right )} \\cos{\\left (c \\right )} + \\sin{\\left (c \\right )} \\cos{\\left (a \\right )} \\cos{\\left (b \\right )} & - \\sin{\\left (b \\right )} \\sin{\\left (c \\right )} + \\cos{\\left (a \\right )} \\cos{\\left (b \\right )} \\cos{\\left (c \\right )} & - \\sin{\\left (a \\right )} \\cos{\\left (b \\right )}\\\\\\sin{\\left (a \\right )} \\sin{\\left (c \\right )} & \\sin{\\left (a \\right )} \\cos{\\left (c \\right )} & \\cos{\\left (a \\right )}\\end{matrix}\\right]$$"
      ],
      "text/plain": [
       "⎡-sin(b)⋅sin(c)⋅cos(a) + cos(b)⋅cos(c)  -sin(b)⋅cos(a)⋅cos(c) - sin(c)⋅cos(b) \n",
       "⎢                                                                             \n",
       "⎢sin(b)⋅cos(c) + sin(c)⋅cos(a)⋅cos(b)   -sin(b)⋅sin(c) + cos(a)⋅cos(b)⋅cos(c) \n",
       "⎢                                                                             \n",
       "⎣            sin(a)⋅sin(c)                          sin(a)⋅cos(c)             \n",
       "\n",
       " sin(a)⋅sin(b) ⎤\n",
       "               ⎥\n",
       " -sin(a)⋅cos(b)⎥\n",
       "               ⎥\n",
       "     cos(a)    ⎦"
      ]
     },
     "execution_count": 27,
     "metadata": {},
     "output_type": "execute_result"
    }
   ],
   "source": [
    "#回転行列と、その角度微分をSympyで生成する     \n",
    "from sympy import *\n",
    "\n",
    "# おまじない\n",
    "init_printing()\n",
    "\n",
    "# theta, phi, psi\n",
    "a,b,c=symbols('a b c')\n",
    "# Goldstein \n",
    "# 回転の順序は、\n",
    "# 1. 分子のz軸周りにpsi (c)回す。\n",
    "# 2. 分子のz軸をx軸周りにtheta (a)倒す。\n",
    "# 3. 倒れた分子をz軸周りにphi (b)回す。\n",
    "# AIはこれらの逆手順になっている?\n",
    "# 直線分子はz軸に沿うように配置すると、1のz軸周りの回転が不要になり、phiが消える。\n",
    "# また、z軸周りの慣性モーメントが0となる。\n",
    "\n",
    "B = Matrix([[ cos(c),sin(c),0],\n",
    "            [-sin(c), cos(c),0],\n",
    "            [0,0,1]])\n",
    "C = Matrix([[1,0,0],\n",
    "            [0, cos(a),sin(a)],\n",
    "            [0,-sin(a), cos(a)]])\n",
    "D = Matrix([[ cos(b),sin(b),0],\n",
    "            [-sin(b), cos(b),0],\n",
    "            [0,0,1]])\n",
    "# Goldstein 4-47\n",
    "# 剛体座標から空間座標へ変換する行列\n",
    "AI = (B*C*D).T\n",
    "\n",
    "\n",
    "# 解析的に回転行列を角度で微分し、それをpythonの関数とする。\n",
    "A = lambdify([a,b,c],AI)\n",
    "Aa = lambdify([a,b,c],diff(AI,a))\n",
    "Ab = lambdify([a,b,c],diff(AI,b))\n",
    "Ac = lambdify([a,b,c],diff(AI,c))\n",
    "Aaa = lambdify([a,b,c],diff(AI,a,a))\n",
    "Abb = lambdify([a,b,c],diff(AI,b,b))\n",
    "Acc = lambdify([a,b,c],diff(AI,c,c))\n",
    "Aab = lambdify([a,b,c],diff(AI,a,b))\n",
    "Abc = lambdify([a,b,c],diff(AI,b,c))\n",
    "Aca = lambdify([a,b,c],diff(AI,c,a))\n",
    "AI"
   ]
  },
  {
   "cell_type": "markdown",
   "metadata": {},
   "source": [
    "## 相互作用"
   ]
  },
  {
   "cell_type": "code",
   "execution_count": 3,
   "metadata": {},
   "outputs": [],
   "source": [
    "# 相互作用関数の距離での微分はsympyで自動生成する。\n",
    "\n",
    "a1,a2,r = symbols('a1 a2 r')\n",
    "F = 1/r\n",
    "phic=lambdify([r], F)\n",
    "phic_r=lambdify([r], diff(F,r))\n",
    "phic_rr=lambdify([r], diff(F,r,r))\n",
    "F = a1*r**(-12) - a2*r**(-6)\n",
    "phiLJ=lambdify([r,a1,a2], F)\n",
    "phiLJ_r=lambdify([r,a1,a2], diff(F,r))\n",
    "phiLJ_rr=lambdify([r,a1,a2], diff(F,r,r))"
   ]
  },
  {
   "cell_type": "markdown",
   "metadata": {},
   "source": [
    "## 切断関数\n",
    "\n",
    "相互作用は無限遠まで計算するのではなく、どこかで打ち切る。打ち切る距離のすこし手前から、スムーズに0に収束させるために、切断関数(Truncation function)をかける。\n",
    "\n",
    "Truncation functionは、Site-site間ではなく重心間の距離の関数なので、切断関数を重心間距離やEuler角で微分するのは容易。ただし、相互作用関数にこれをかけた上で、微分すると、いろんな微分の組み合わせが発生して、かなり面倒な式になる。\n"
   ]
  },
  {
   "cell_type": "code",
   "execution_count": 25,
   "metadata": {},
   "outputs": [
    {
     "data": {
      "text/plain": [
       "\u001b[0;31mSignature:\u001b[0m \u001b[0mTrunc_rr\u001b[0m\u001b[0;34m(\u001b[0m\u001b[0my\u001b[0m\u001b[0;34m,\u001b[0m \u001b[0mrin\u001b[0m\u001b[0;34m,\u001b[0m \u001b[0mtrans\u001b[0m\u001b[0;34m)\u001b[0m\u001b[0;34m\u001b[0m\u001b[0m\n",
       "\u001b[0;31mDocstring:\u001b[0m\n",
       "Created with lambdify. Signature:\n",
       "\n",
       "func(y, rin, trans)\n",
       "\n",
       "Expression:\n",
       "\n",
       "6*(rin + trans - y)*(trans**2 + 3*trans*(-rin + y) + 6*(rin - y)**2 -...\n",
       "\n",
       "Source code:\n",
       "\n",
       "def _lambdifygenerated(y, rin, trans):\n",
       "    return (6*(rin + trans - y)*(trans**2 + 3*trans*(-rin + y) + 6*(rin - y)**2 - 3*(-4*rin + trans + 4*y)*(rin + trans - y) + 2*(rin + trans - y)**2)/trans**5)\n",
       "\n",
       "\n",
       "Imported modules:\n",
       "\u001b[0;31mFile:\u001b[0m      /Volumes/Shared/GoogleDrive/gitwork3/nma/<lambdifygenerated-62>\n",
       "\u001b[0;31mType:\u001b[0m      function\n"
      ]
     },
     "metadata": {},
     "output_type": "display_data"
    }
   ],
   "source": [
    "#rout = 8.5\n",
    "#trans = 2.0\n",
    "#rin  = rout - trans\n",
    "\n",
    "x, y, rin, trans = symbols('x y rin trans')\n",
    "# F0 is a truncation function ranged in [0,1]\n",
    "F0 = -(x-1)**3*(6*x**2+3*x+1)\n",
    "# 関数区間を変更\n",
    "F = F0.subs(x,(y-rin)/trans)\n",
    "# 解析的な微分を、数値関数に変換する\n",
    "\n",
    "# Truncation function, raw\n",
    "Trunc = lambdify([y, rin, trans], F.simplify())\n",
    "\n",
    "# Truncation function, first derivative\n",
    "Trunc_r = lambdify([y, rin, trans], diff(F,y).simplify())\n",
    "\n",
    "# Truncation function, second derivative\n",
    "Trunc_rr = lambdify([y, rin, trans], diff(F,y,y).simplify())\n",
    "\n",
    "# Trunc(6.5), Trunc(8.5), Trunc_r(6.5), Trunc_r(8.5), Trunc_rr(6.5), Trunc_rr(8.5)\n",
    "?Trunc_rr"
   ]
  },
  {
   "cell_type": "markdown",
   "metadata": {},
   "source": [
    "* Pohorille, A., Pratt, L. R., LaViolette, R. A., Wilson, M. A. & MacElroy, R. D. Comparison of the structure of harmonic aqueous glasses and liquid water. *J. Chem. Phys.* **87**, 6070–6077 (1998).\n",
    "\n",
    "## Kinetic energy tensor\n",
    "$$\\mathbf{K}=\\left(\\begin{array}{ccc}I_1\\cos^2\\psi+I_2\\sin^2\\psi&(I_1-I_2)\\sin\\theta\\sin\\psi\\cos\\psi&0\\\\\\ &(I_1\\sin^2\\psi+I_2\\cos^2\\psi)\\sin^2\\theta+I_3\\cos^2\\theta&I_3\\cos\\theta\\\\\\ &&I_3\\end{array}\\right)$$\n",
    "これを対角化したものを$\\mathbf{K}_\\mathrm{D}$と書き、対角化に使った固有ベクトルの行列を$\\mathbf{S}$と書く。\n",
    "$$\\mathbf{S}^{-1}\\mathbf{K}\\mathbf{S}=\\mathbf{K}_\\mathrm{D}$$\n",
    "求めたいものは、\n",
    "$$\\mathbf{K}_\\mathrm{D}^{-1/2}\\mathbf{S}^T\\mathbf{V}\\mathbf{S}\\mathbf{K}_\\mathrm{D}^{-1/2}$$\n",
    "の固有値である(らしい)。$\\mathbf{V}$は力の定数の行列。\n",
    "\n",
    "対角化されているので、$\\mathbf{K}_\\mathrm{D}^{-1/2}$は対角項をそれぞれ$-(1/2)$乗するだけでいい。\n",
    "\n",
    "直線分子の場合は、$I_3=0$かつ$I_1=I_2$なので、おそらく\n",
    "$$\\mathbf{K}=\\left(\\begin{array}{cc}I&0\\\\\\ &I\\sin^2\\theta\\end{array}\\right)$$\n",
    "となる?とすれば、Kはもともと対角化されているのでSは単位行列となる。(本当か?)"
   ]
  },
  {
   "cell_type": "code",
   "execution_count": 5,
   "metadata": {},
   "outputs": [
    {
     "data": {
      "image/png": "[encoded data removed]",
      "text/latex": [
       "$$\\left[\\begin{matrix}I_{1} \\cos^{2}{\\left (\\psi \\right )} + I_{2} \\sin^{2}{\\left (\\psi \\right )} & \\left(I_{1} - I_{2}\\right) \\sin{\\left (\\psi \\right )} \\sin{\\left (\\theta \\right )} \\cos{\\left (\\psi \\right )} & 0.0\\\\\\left(I_{1} - I_{2}\\right) \\sin{\\left (\\psi \\right )} \\sin{\\left (\\theta \\right )} \\cos{\\left (\\psi \\right )} & I_{3} \\cos^{2}{\\left (\\theta \\right )} + \\left(I_{1} \\sin^{2}{\\left (\\psi \\right )} + I_{2} \\cos^{2}{\\left (\\psi \\right )}\\right) \\sin^{2}{\\left (\\theta \\right )} & I_{3} \\cos{\\left (\\theta \\right )}\\\\0.0 & I_{3} \\cos{\\left (\\theta \\right )} & I_{3}\\end{matrix}\\right]$$"
      ],
      "text/plain": [
       "⎡         2            2                                                      \n",
       "⎢   I₁⋅cos (ψ) + I₂⋅sin (ψ)              (I₁ - I₂)⋅sin(ψ)⋅sin(θ)⋅cos(ψ)       \n",
       "⎢                                                                             \n",
       "⎢                                      2      ⎛      2            2   ⎞    2  \n",
       "⎢(I₁ - I₂)⋅sin(ψ)⋅sin(θ)⋅cos(ψ)  I₃⋅cos (θ) + ⎝I₁⋅sin (ψ) + I₂⋅cos (ψ)⎠⋅sin (θ\n",
       "⎢                                                                             \n",
       "⎣             0.0                                  I₃⋅cos(θ)                  \n",
       "\n",
       "            ⎤\n",
       "      0.0   ⎥\n",
       "            ⎥\n",
       "            ⎥\n",
       ")  I₃⋅cos(θ)⎥\n",
       "            ⎥\n",
       "      I₃    ⎦"
      ]
     },
     "execution_count": 5,
     "metadata": {},
     "output_type": "execute_result"
    }
   ],
   "source": [
    "theta, psi, I1, I2, I3 = symbols(\"theta psi I_1, I_2, I_3\")\n",
    "ket = Matrix(3,3, [I1*cos(psi)**2 + I2*sin(psi)**2, (I1-I2)*sin(theta)*sin(psi)*cos(psi), 0.0,\n",
    "                   (I1-I2)*sin(theta)*sin(psi)*cos(psi),  (I1*sin(psi)**2+I2*cos(psi)**2)*sin(theta)**2+I3*cos(theta)**2, I3*cos(theta),\n",
    "                   0.0,  I3*cos(theta), I3])\n",
    "ket"
   ]
  },
  {
   "cell_type": "code",
   "execution_count": 12,
   "metadata": {},
   "outputs": [
    {
     "data": {
      "text/plain": [
       "\u001b[0;31mSignature:\u001b[0m \u001b[0mKETensor\u001b[0m\u001b[0;34m(\u001b[0m\u001b[0mtheta\u001b[0m\u001b[0;34m,\u001b[0m \u001b[0mpsi\u001b[0m\u001b[0;34m,\u001b[0m \u001b[0mI_1\u001b[0m\u001b[0;34m,\u001b[0m \u001b[0mI_2\u001b[0m\u001b[0;34m,\u001b[0m \u001b[0mI_3\u001b[0m\u001b[0;34m)\u001b[0m\u001b[0;34m\u001b[0m\u001b[0m\n",
       "\u001b[0;31mDocstring:\u001b[0m\n",
       "Created with lambdify. Signature:\n",
       "\n",
       "func(theta, psi, I_1, I_2, I_3)\n",
       "\n",
       "Expression:\n",
       "\n",
       "Matrix([[I_1*cos(psi)**2 + I_2*sin(psi)**2, (I_1 -...\n",
       "\n",
       "Source code:\n",
       "\n",
       "def _lambdifygenerated(theta, psi, I_1, I_2, I_3):\n",
       "    return (array([[I_1*cos(psi)**2 + I_2*sin(psi)**2, (I_1 - I_2)*sin(psi)*sin(theta)*cos(psi), 0.0], [(I_1 - I_2)*sin(psi)*sin(theta)*cos(psi), I_3*cos(theta)**2 + (I_1*sin(psi)**2 + I_2*cos(psi)**2)*sin(theta)**2, I_3*cos(theta)], [0.0, I_3*cos(theta), I_3]]))\n",
       "\n",
       "\n",
       "Imported modules:\n",
       "\u001b[0;31mFile:\u001b[0m      /Volumes/Shared/GoogleDrive/gitwork3/nma/<lambdifygenerated-26>\n",
       "\u001b[0;31mType:\u001b[0m      function\n"
      ]
     },
     "metadata": {},
     "output_type": "display_data"
    }
   ],
   "source": [
    "KETensor = lambdify([theta,psi,I1,I2,I3], ket)\n",
    "?KETensor"
   ]
  },
  {
   "cell_type": "code",
   "execution_count": 26,
   "metadata": {},
   "outputs": [
    {
     "name": "stdout",
     "output_type": "stream",
     "text": [
      "[NbConvertApp] Converting notebook Symbolic.ipynb to script\n",
      "[NbConvertApp] Writing 3849 bytes to Symbolic.py\n"
     ]
    }
   ],
   "source": [
    "#!jupyter nbconvert --to script Symbolic.ipynb"
   ]
  },
  {
   "cell_type": "code",
   "execution_count": null,
   "metadata": {},
   "outputs": [],
   "source": []
  }
 ],
 "metadata": {
  "kernelspec": {
   "display_name": "Python 3",
   "language": "python",
   "name": "python3"
  },
  "language_info": {
   "codemirror_mode": {
    "name": "ipython",
    "version": 3
   },
   "file_extension": ".py",
   "mimetype": "text/x-python",
   "name": "python",
   "nbconvert_exporter": "python",
   "pygments_lexer": "ipython3",
   "version": "3.6.5"
  }
 },
 "nbformat": 4,
 "nbformat_minor": 4
}
