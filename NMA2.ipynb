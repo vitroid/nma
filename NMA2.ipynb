{
 "cells": [
  {
   "cell_type": "markdown",
   "metadata": {},
   "source": [
    "積極的に小さい関数を作り、テストをしやすくする。"
   ]
  },
  {
   "cell_type": "code",
   "execution_count": 123,
   "metadata": {},
   "outputs": [],
   "source": [
    "import numpy as np\n",
    "import math\n",
    "\n",
    "# TIP4Pの座標系\n",
    "\n",
    "angle,holen,colen = 104.52,0.9572,0.15\n",
    "wh = 1.0\n",
    "wo = 16.0\n",
    "wm = wh + wh + wo\n",
    "rangle = angle*math.pi/360\n",
    "ohz=holen*math.cos(rangle)\n",
    "hyl=holen*math.sin(rangle)\n",
    "hzl=wo*ohz/wm\n",
    "ol=-ohz+hzl\n",
    "cl=colen+ol\n",
    "\n",
    "# 分子内の原子位置\n",
    "intra = np.array([[0,hyl,hzl],\n",
    "                  [0,-hyl,hzl],\n",
    "                  [0,0,ol],\n",
    "                  [0,0,cl]]).T\n",
    "\n",
    "# 分子内座標の、軸を交換したもの\n",
    "intra2 = np.zeros_like(intra)\n",
    "intra2[0] = intra[1]\n",
    "intra2[1] = intra[2]\n",
    "intra2[2] = intra[0]"
   ]
  },
  {
   "cell_type": "code",
   "execution_count": 124,
   "metadata": {},
   "outputs": [],
   "source": [
    "# 分子の座標を読みこむ。\n",
    "file = open(\"test.nx3a\")\n",
    "# file = open(\"9.nx3a\")\n",
    "while True:\n",
    "    line = file.readline()\n",
    "    if len(line) == 0:\n",
    "        break\n",
    "    if \"@NX3A\" in line:\n",
    "        line = file.readline()\n",
    "        nmol = int(line)\n",
    "        pos = []\n",
    "        for i in range(nmol):\n",
    "            line = file.readline()\n",
    "            pos.append([float(x) for x in line.split()])\n",
    "        pos = np.array(pos)\n",
    "    if \"@BOX3\" in line:\n",
    "        line = file.readline()\n",
    "        cell = np.diag(np.array([float(x) for x in line.split()]))\n",
    "        celli = np.linalg.inv(cell)"
   ]
  },
  {
   "cell_type": "code",
   "execution_count": 170,
   "metadata": {},
   "outputs": [
    {
     "data": {
      "image/png": "[encoded data removed]",
      "text/latex": [
       "$$\\left[\\begin{matrix}- \\sin{\\left (b \\right )} \\sin{\\left (c \\right )} \\cos{\\left (a \\right )} + \\cos{\\left (b \\right )} \\cos{\\left (c \\right )} & - \\sin{\\left (b \\right )} \\cos{\\left (a \\right )} \\cos{\\left (c \\right )} - \\sin{\\left (c \\right )} \\cos{\\left (b \\right )} & \\sin{\\left (a \\right )} \\sin{\\left (b \\right )}\\\\\\sin{\\left (b \\right )} \\cos{\\left (c \\right )} + \\sin{\\left (c \\right )} \\cos{\\left (a \\right )} \\cos{\\left (b \\right )} & - \\sin{\\left (b \\right )} \\sin{\\left (c \\right )} + \\cos{\\left (a \\right )} \\cos{\\left (b \\right )} \\cos{\\left (c \\right )} & - \\sin{\\left (a \\right )} \\cos{\\left (b \\right )}\\\\\\sin{\\left (a \\right )} \\sin{\\left (c \\right )} & \\sin{\\left (a \\right )} \\cos{\\left (c \\right )} & \\cos{\\left (a \\right )}\\end{matrix}\\right]$$"
      ],
      "text/plain": [
       "⎡-sin(b)⋅sin(c)⋅cos(a) + cos(b)⋅cos(c)  -sin(b)⋅cos(a)⋅cos(c) - sin(c)⋅cos(b) \n",
       "⎢                                                                             \n",
       "⎢sin(b)⋅cos(c) + sin(c)⋅cos(a)⋅cos(b)   -sin(b)⋅sin(c) + cos(a)⋅cos(b)⋅cos(c) \n",
       "⎢                                                                             \n",
       "⎣            sin(a)⋅sin(c)                          sin(a)⋅cos(c)             \n",
       "\n",
       " sin(a)⋅sin(b) ⎤\n",
       "               ⎥\n",
       " -sin(a)⋅cos(b)⎥\n",
       "               ⎥\n",
       "     cos(a)    ⎦"
      ]
     },
     "execution_count": 170,
     "metadata": {},
     "output_type": "execute_result"
    }
   ],
   "source": [
    "#回転行列と、その角度微分をSympyで生成する     \n",
    "from sympy import *\n",
    "\n",
    "# おまじない\n",
    "init_printing()\n",
    "\n",
    "# theta, phi, psi\n",
    "a,b,c=symbols('a b c')\n",
    "# Goldstein \n",
    "# 回転の順序は、\n",
    "# 1. 分子のz軸周りにpsi (c)回す。\n",
    "# 2. 分子のz軸をx軸周りにtheta (a)倒す。\n",
    "# 3. 倒れた分子をz軸周りにphi (b)回す。\n",
    "# AIはこれらの逆手順になっている?\n",
    "# 直線分子はz軸に沿うように配置すると、1のz軸周りの回転が不要になり、phiが消える。\n",
    "# また、z軸周りの慣性モーメントが0となる。\n",
    "\n",
    "B = Matrix([[ cos(c),sin(c),0],\n",
    "            [-sin(c), cos(c),0],\n",
    "            [0,0,1]])\n",
    "C = Matrix([[1,0,0],\n",
    "            [0, cos(a),sin(a)],\n",
    "            [0,-sin(a), cos(a)]])\n",
    "D = Matrix([[ cos(b),sin(b),0],\n",
    "            [-sin(b), cos(b),0],\n",
    "            [0,0,1]])\n",
    "# Goldstein 4-47\n",
    "# 剛体座標から空間座標へ変換する行列\n",
    "AI = (B*C*D).T\n",
    "\n",
    "\n",
    "# 解析的に回転行列を角度で微分し、それをpythonの関数とする。\n",
    "A1 = lambdify([a,b,c],AI)\n",
    "A1a = lambdify([a,b,c],diff(AI,a))\n",
    "A1b = lambdify([a,b,c],diff(AI,b))\n",
    "A1c = lambdify([a,b,c],diff(AI,c))\n",
    "A1aa = lambdify([a,b,c],diff(AI,a,a))\n",
    "A1bb = lambdify([a,b,c],diff(AI,b,b))\n",
    "A1cc = lambdify([a,b,c],diff(AI,c,c))\n",
    "A1ab = lambdify([a,b,c],diff(AI,a,b))\n",
    "A1bc = lambdify([a,b,c],diff(AI,b,c))\n",
    "A1ca = lambdify([a,b,c],diff(AI,c,a))\n",
    "AI"
   ]
  },
  {
   "cell_type": "code",
   "execution_count": 171,
   "metadata": {},
   "outputs": [],
   "source": [
    "# 回転行列とその微分の値を算出する。\n",
    "# 分子は動かないので、回転行列もその微分も定数である。\n",
    "\n",
    "\n",
    "\n",
    "#for i in range(nmol):\n",
    "#    for j in range(i):\n",
    "#        print(\"distance {0}-{1}\".format(i,j))\n",
    "#        print(np.linalg.norm(pos[i][0:3]-pos[j][0:3]))\n",
    "\n",
    "def dSite(pos, intra, intra2):\n",
    "\n",
    "    def conv_euler(ea,eb,ec):\n",
    "        sina=math.sin(ea)\n",
    "        sinb=math.sin(eb)\n",
    "        sinc=math.sin(ec)\n",
    "        cosa=math.cos(ea)\n",
    "        cosb=math.cos(eb)\n",
    "        cosc=math.cos(ec)\n",
    "\n",
    "        ap = math.acos(sina*sinc)\n",
    "        cp = math.atan2(sina*cosc, cosa)\n",
    "        bp = math.atan2(-sinb*sinc*cosa+cosb*cosc, -sinb*cosc-sinc*cosa*cosb)\n",
    "        return ap,bp,cp\n",
    "    \n",
    "    nmol = pos.shape[0]\n",
    "    # 回転行列に分子内座標をかけたもの。原子の重心からの空間座標\n",
    "    D0 = np.zeros([nmol,3,4])\n",
    "    # 回転行列の、角度による一階微分に、分子内座標をかけたもの。\n",
    "    # D1 == dR_i / da_i\n",
    "    D1 = np.zeros([nmol,3,3,4]) # molecule, euler angle, vectors, sites\n",
    "    # 回転行列の、角度による二階微分に、分子内座標をかけたもの。\n",
    "    # D2 == d^2 R_i / da db\n",
    "    D2 = np.zeros([nmol,3,3,3,4]) # molecule, euler angle1, angle2, vectors, sites\n",
    "\n",
    "    # Euler角が特異点に近付く場合には、分子内座標をとりなおし、それにあわせて角度も再計算する。\n",
    "    lc = np.zeros(nmol, dtype=int)\n",
    "\n",
    "    for i in range(nmol):\n",
    "        ea,eb,ec = pos[i][3:6]\n",
    "        # print(\"criteria\", abs(math.sin(ea)))\n",
    "        if abs(math.sin(ea)) > 0.0:\n",
    "            # 第一回転規約\n",
    "            D0[i] = A1(ea,eb,ec) @ intra\n",
    "            D1[i,0] = A1a(ea,eb,ec) @ intra\n",
    "            D1[i,1] = A1b(ea,eb,ec) @ intra\n",
    "            D1[i,2] = A1c(ea,eb,ec) @ intra\n",
    "            D2[i,0,0] = A1aa(ea,eb,ec) @ intra\n",
    "            D2[i,1,1] = A1bb(ea,eb,ec) @ intra\n",
    "            D2[i,2,2] = A1cc(ea,eb,ec) @ intra\n",
    "            D2[i,0,1] = A1ab(ea,eb,ec) @ intra\n",
    "            D2[i,1,2] = A1bc(ea,eb,ec) @ intra\n",
    "            D2[i,2,0] = A1ca(ea,eb,ec) @ intra\n",
    "            D2[i,1,0] = D2[i,0,1]\n",
    "            D2[i,2,1] = D2[i,1,2]\n",
    "            D2[i,0,2] = D2[i,2,0]\n",
    "        else:\n",
    "            # 第二回転規約\n",
    "            ea,eb,ec = conv_euler(ea,eb,ec)\n",
    "            pos[i][3:6] = ea,eb,ec\n",
    "            lc[i] = 1 # rotation order of second kind\n",
    "            D0[i] = A1(ea,eb,ec) @ intra2\n",
    "            D1[i,0] = A1a(ea,eb,ec) @ intra2\n",
    "            D1[i,1] = A1b(ea,eb,ec) @ intra2\n",
    "            D1[i,2] = A1c(ea,eb,ec) @ intra2\n",
    "            D2[i,0,0] = A1aa(ea,eb,ec) @ intra2\n",
    "            D2[i,1,1] = A1bb(ea,eb,ec) @ intra2\n",
    "            D2[i,2,2] = A1cc(ea,eb,ec) @ intra2\n",
    "            D2[i,0,1] = A1ab(ea,eb,ec) @ intra2\n",
    "            D2[i,1,2] = A1bc(ea,eb,ec) @ intra2\n",
    "            D2[i,2,0] = A1ca(ea,eb,ec) @ intra2\n",
    "            D2[i,1,0] = D2[i,0,1]\n",
    "            D2[i,2,1] = D2[i,1,2]\n",
    "            D2[i,0,2] = D2[i,2,0]\n",
    "    return lc, D0, D1, D2"
   ]
  },
  {
   "cell_type": "code",
   "execution_count": 172,
   "metadata": {},
   "outputs": [],
   "source": [
    "lc, D0, D1, D2 = dSite(pos, intra, intra2)\n",
    "\n",
    "# Tanaka programでの配列要素(1,2)は、Pythonでは[0,1]になる。\n",
    "# 以後、縦横を精査。"
   ]
  },
  {
   "cell_type": "code",
   "execution_count": 173,
   "metadata": {},
   "outputs": [],
   "source": [
    "# 相互作用関数の距離での微分はsympyで自動生成する。\n",
    "\n",
    "a1,a2,r = symbols('a1 a2 r')\n",
    "F = 1/r\n",
    "phic=lambdify([r], F)\n",
    "phic_r=lambdify([r], diff(F,r))\n",
    "phic_rr=lambdify([r], diff(F,r,r))\n",
    "F = a1*r**(-12) - a2*r**(-6)\n",
    "phiLJ=lambdify([r,a1,a2], F)\n",
    "phiLJ_r=lambdify([r,a1,a2], diff(F,r))\n",
    "phiLJ_rr=lambdify([r,a1,a2], diff(F,r,r))"
   ]
  },
  {
   "cell_type": "markdown",
   "metadata": {},
   "source": [
    "## 切断関数\n",
    "\n",
    "相互作用は無限遠まで計算するのではなく、どこかで打ち切る。打ち切る距離のすこし手前から、スムーズに0に収束させるために、切断関数(Truncation function)をかける。\n",
    "\n",
    "Truncation functionは、Site-site間ではなく重心間の距離の関数なので、切断関数を重心間距離やEuler角で微分するのは容易。ただし、相互作用関数にこれをかけた上で、微分すると、いろんな微分の組み合わせが発生して、かなり面倒な式になる。\n"
   ]
  },
  {
   "cell_type": "code",
   "execution_count": 174,
   "metadata": {},
   "outputs": [],
   "source": [
    "rout = 8.5\n",
    "trans = 2.0\n",
    "rin  = rout - trans\n",
    "\n",
    "x,y = symbols('x y')\n",
    "# F0 is a truncation function ranged in [0,1]\n",
    "F0 = -(x-1)**3*(6*x**2+3*x+1)\n",
    "# 関数区間を変更\n",
    "F = F0.subs(x,(y-rin)/trans)\n",
    "# 解析的な微分を、数値関数に変換する\n",
    "\n",
    "# Truncation function, raw\n",
    "Trunc = lambdify([y], F)\n",
    "\n",
    "# Truncation function, first derivative\n",
    "Trunc_r = lambdify([y], diff(F,y))\n",
    "\n",
    "# Truncation function, second derivative\n",
    "Trunc_rr = lambdify([y], diff(F,y,y))\n",
    "\n",
    "# Trunc(6.5), Trunc(8.5), Trunc_r(6.5), Trunc_r(8.5), Trunc_rr(6.5), Trunc_rr(8.5)"
   ]
  },
  {
   "cell_type": "code",
   "execution_count": 175,
   "metadata": {},
   "outputs": [
    {
     "name": "stdout",
     "output_type": "stream",
     "text": [
      "TanakaScale 1.0003427429781058\n"
     ]
    }
   ],
   "source": [
    "# 相互作用と分子形状に関するブロック\n",
    "\n",
    "\n",
    "# 当面、田中プログラムとの照合のために、エネルギーの単位は、\n",
    "# 水素2原子が1 Aにいる時のCoulomb力を1とする。\n",
    "\n",
    "# SI unit 2019\n",
    "Na=6.02214076e23\n",
    "ee=1.60217662e-19\n",
    "E0=8.8541878128e-12\n",
    "UJ = 4.184\n",
    "qe0 = ee**2/(4*math.pi*E0)*Na/UJ*1e7\n",
    "qeT = 332.17752e0\n",
    "sw = (qeT*UJ*1e6/18.0)**0.5/(6.0*math.pi)\n",
    "# Tanaka's Units\n",
    "TanakaScale = qeT / qe0\n",
    "TokJmol = ee**2/(4*math.pi*E0*1e-7)*Na*TanakaScale\n",
    "print(\"TanakaScale\", TanakaScale)\n",
    "\n",
    "# 質点の質量\n",
    "mass = np.array([wh,wh,wo,0.0])\n",
    "\n",
    "Inertia = np.array([[mass @ np.sum(intra[1:3]**2, axis=0),\n",
    "               mass @ np.sum(intra[0:3:2]**2, axis=0),\n",
    "               mass @ np.sum(intra[0:2]**2, axis=0)],\n",
    "              [mass @ np.sum(intra2[1:3]**2, axis=0),\n",
    "               mass @ np.sum(intra2[0:3:2]**2, axis=0),\n",
    "               mass @ np.sum(intra2[0:2]**2, axis=0)]])\n",
    "\n",
    "charge = [0.52,0.52,0,-1.04]\n",
    "LJpairs = {(2, 2):(6.0e5*UJ / TokJmol, 6.10e2*UJ / TokJmol)}\n",
    "CCpairs = dict()\n",
    "for i,ci in enumerate(charge):\n",
    "    for j,cj in enumerate(charge):\n",
    "        cc = ci*cj\n",
    "        if cc:\n",
    "            CCpairs[i,j] = cc\n",
    "            \n"
   ]
  },
  {
   "cell_type": "markdown",
   "metadata": {},
   "source": [
    "## Hessian\n",
    "\n",
    "Hessianは、全相互作用$E_p=\\sum_{i,j}^N \\phi$を座標変数(剛体の場合は重心位置とEuler角の6変数のベクトル)$\\mathbf{q}$で二階微分したもの。\n",
    "実際の相互作用は、重心間ではなく、サイト間(原子間)で定義されるので、微分はこみいったものになる。\n",
    "\n",
    "全相互作用が、分子間相互作用の総和で書ける場合は、ヘシアンも分子間に分解できる。\n",
    "\n",
    "$$E_p=\\sum_{i,j}^N \\phi(i,j)$$\n",
    "$$H=\\sum_{i,j}^N{\\partial^2 \\phi\\over \\partial\\mathbf{q}\\partial\\mathbf{q'}}=\\sum_{i,j}^N h(i,j)$$\n",
    "$$h(i,j) = \\left(\\begin{array}{cc}h_{tt}(i,j)&h_{tr}(i,j)\\\\ h_{rt}(i,j)&h_{rr}(i,j)\\end{array}\\right)$$\n",
    "\n",
    "### 並進-並進ヘシアン\n",
    "$h_{tt}(i,j)$は分子$i$と分子$j$の相互作用$\\phi(i,j)$を、分子$i$または分子$j$の重心座標変数$\\mathbf{r}=\\{x_i,y_i,z_i,x_j,y_j,z_j\\}$の2つで微分したものを要素とする、$6\\times 6$行列である。\n",
    "\n",
    "(下の関数`Hessian_tt`がこれにあたる。)\n",
    "\n",
    "\n",
    "$\\phi(i,j)$は、さらに分子内のサイト対での相互作用の総和として書かれる。\n",
    "\n",
    "$$\\phi(i,j)=\\sum_k\\sum_l \\phi_{kl}(r_{kl})$$\n",
    "\n",
    "ただし$r_{kl}$はサイト-サイト距離である。\n",
    "\n",
    "$$\\mathbf{r}_{kl}=\\mathbf{r}_{ij}+\\mathbf{s}_{ik}-\\mathbf{s}_{jl}$$\n",
    "\n",
    "$\\mathbf{r}_{ij}$は分子$i,j$の重心間ベクトル、$\\mathbf{s}_{ik}$は分子$i$のサイト$k$の、重心からの相対位置ベクトルである。\n",
    "\n",
    "さらに、分子内のサイト位置$\\mathbf{s}_{ik}$は、分子内座標系でのサイト位置$\\mathbf{w}_{k}$を回転行列$\\mathbf{R}(a_i,b_i,c_i)$で回転したものである。\n",
    "\n",
    "$$\\mathbf{s}_{ik}=\\mathbf{R}_i\\cdot \\mathbf{w}_k$$\n",
    "\n",
    "\n"
   ]
  },
  {
   "cell_type": "markdown",
   "metadata": {},
   "source": [
    "#### 式展開\n",
    "\n",
    "##### 一階微分\n",
    "$\\phi_{kl}$を$x_i$で微分する。サイト間($\\phi_{kl}$の$r_{kl}$での微分)$\\cdot$($r_{kl}$の$x_i$での微分)、という形で計算する。\n",
    "\n",
    "${d\\phi(r)\\over dr}$を`phi_r`のように書く。\n",
    "\n",
    "$${\\partial \\phi\\over \\partial x_i}={\\partial r\\over\\partial  x_i}\\cdot{\\partial \\phi\\over \\partial r}$$\n",
    "$$={\\partial \\left|\\mathbf{r}\\right|\\over \\partial x_i}\\cdot{\\partial \\phi\\over \\partial r}$$\n",
    "$$={r_x\\over r}\\cdot\\phi_r$$"
   ]
  },
  {
   "cell_type": "code",
   "execution_count": 176,
   "metadata": {},
   "outputs": [
    {
     "data": {
      "image/png": "[encoded data removed]",
      "text/latex": [
       "$$\\left[\\begin{matrix}\\frac{f_{r} r_{x}}{r}\\\\\\frac{f_{r} r_{y}}{r}\\\\\\frac{f_{r} r_{z}}{r}\\end{matrix}\\right]$$"
      ],
      "text/plain": [
       "⎡fᵣ⋅rₓ ⎤\n",
       "⎢───── ⎥\n",
       "⎢  r   ⎥\n",
       "⎢      ⎥\n",
       "⎢fᵣ⋅r_y⎥\n",
       "⎢──────⎥\n",
       "⎢  r   ⎥\n",
       "⎢      ⎥\n",
       "⎢fᵣ⋅r_z⎥\n",
       "⎢──────⎥\n",
       "⎣  r   ⎦"
      ]
     },
     "execution_count": 176,
     "metadata": {},
     "output_type": "execute_result"
    }
   ],
   "source": [
    "### 説明のためのブロックです。実際の計算ではここを実行する必要はありません。\n",
    "\n",
    "from sympy import *\n",
    "# おまじない\n",
    "init_printing()\n",
    "\n",
    "# f(r)をベクトルrで微分する。\n",
    "f_r, r_x, r_y, r_z = symbols('f_r, r_x, r_y, r_z')\n",
    "r = Matrix(3,1,[r_x,r_y,r_z])\n",
    "r_2 = r_x**2 + r_y**2 + r_z**2\n",
    "D = diff(sqrt(r_2), r) * f_r\n",
    "Di = D.subs((r_x**2+r_y**2+r_z**2)**0.5,'r')\n",
    "Di"
   ]
  },
  {
   "cell_type": "code",
   "execution_count": 177,
   "metadata": {},
   "outputs": [],
   "source": [
    "# 距離に関する関数を、相対ベクトルで微分する。\n",
    "\n",
    "from numba import jit\n",
    "\n",
    "# @jit(nopython=True)\n",
    "def di(r, f_r):\n",
    "    \"\"\"\n",
    "    粒子i,jの距離r = |r_i - r_j|の関数f(r)を、iの位置ベクトルr_iで一階微分する。\n",
    "    f_r,は距離での一階微分\n",
    "    答は3-ベクトル\n",
    "    \"\"\"\n",
    "    return f_r*(r/np.linalg.norm(r))"
   ]
  },
  {
   "cell_type": "markdown",
   "metadata": {},
   "source": [
    "##### 二階微分\n",
    "\n",
    "$${\\partial^2 \\phi\\over \\partial x_i\\partial x_j}={\\partial\\over\\partial x_j}\\left({\\partial r\\over\\partial  x_i}\\cdot{\\partial \\phi\\over \\partial r}\\right)$$\n",
    "$$={\\partial^2 r\\over\\partial  x_i\\partial  x_j}\\cdot{\\partial \\phi\\over \\partial r}+{\\partial r\\over\\partial  x_i}\\cdot\\left({\\partial\\over\\partial x_j}{\\partial \\phi\\over \\partial r}\\right)$$\n",
    "$$={\\partial^2 r\\over\\partial  x_i\\partial  x_j}\\cdot\\phi_r-{r_x\\over r}\\cdot{r_x\\over r}\\phi_{rr}$$"
   ]
  },
  {
   "cell_type": "code",
   "execution_count": 178,
   "metadata": {},
   "outputs": [
    {
     "data": {
      "image/png": "[encoded data removed]",
      "text/latex": [
       "$$\\left[\\begin{matrix}\\frac{f_{r} \\left(1 - \\frac{r_{x}^{2}}{r^{2}}\\right)}{r} + \\frac{f_{rr} r_{x}^{2}}{r^{2}} & - \\frac{f_{r} r_{x} r_{y}}{r^{3}} + \\frac{f_{rr} r_{x} r_{y}}{r^{2}} & - \\frac{f_{r} r_{x} r_{z}}{r^{3}} + \\frac{f_{rr} r_{x} r_{z}}{r^{2}}\\\\- \\frac{f_{r} r_{x} r_{y}}{r^{3}} + \\frac{f_{rr} r_{x} r_{y}}{r^{2}} & \\frac{f_{r} \\left(1 - \\frac{r_{y}^{2}}{r^{2}}\\right)}{r} + \\frac{f_{rr} r_{y}^{2}}{r^{2}} & - \\frac{f_{r} r_{y} r_{z}}{r^{3}} + \\frac{f_{rr} r_{y} r_{z}}{r^{2}}\\\\- \\frac{f_{r} r_{x} r_{z}}{r^{3}} + \\frac{f_{rr} r_{x} r_{z}}{r^{2}} & - \\frac{f_{r} r_{y} r_{z}}{r^{3}} + \\frac{f_{rr} r_{y} r_{z}}{r^{2}} & \\frac{f_{r} \\left(1 - \\frac{r_{z}^{2}}{r^{2}}\\right)}{r} + \\frac{f_{rr} r_{z}^{2}}{r^{2}}\\end{matrix}\\right]$$"
      ],
      "text/plain": [
       "⎡    ⎛      2⎞                                                                \n",
       "⎢    ⎜    rₓ ⎟                                                                \n",
       "⎢ fᵣ⋅⎜1 - ───⎟                                                                \n",
       "⎢    ⎜      2⎟         2                                                      \n",
       "⎢    ⎝     r ⎠   fᵣᵣ⋅rₓ       fᵣ⋅rₓ⋅r_y   fᵣᵣ⋅rₓ⋅r_y      fᵣ⋅rₓ⋅r_z   fᵣᵣ⋅rₓ⋅r\n",
       "⎢ ──────────── + ───────    - ───────── + ──────────    - ───────── + ────────\n",
       "⎢      r             2             3           2               3           2  \n",
       "⎢                   r             r           r               r           r   \n",
       "⎢                                                                             \n",
       "⎢                              ⎛       2⎞                                     \n",
       "⎢                              ⎜    r_y ⎟                                     \n",
       "⎢                           fᵣ⋅⎜1 - ────⎟                                     \n",
       "⎢                              ⎜      2 ⎟          2                          \n",
       "⎢  fᵣ⋅rₓ⋅r_y   fᵣᵣ⋅rₓ⋅r_y      ⎝     r  ⎠   fᵣᵣ⋅r_y      fᵣ⋅r_y⋅r_z   fᵣᵣ⋅r_y⋅\n",
       "⎢- ───────── + ──────────   ───────────── + ────────   - ────────── + ────────\n",
       "⎢       3           2             r             2             3             2 \n",
       "⎢      r           r                           r             r             r  \n",
       "⎢                                                                             \n",
       "⎢                                                          ⎛       2⎞         \n",
       "⎢                                                          ⎜    r_z ⎟         \n",
       "⎢                                                       fᵣ⋅⎜1 - ────⎟         \n",
       "⎢                                                          ⎜      2 ⎟         \n",
       "⎢  fᵣ⋅rₓ⋅r_z   fᵣᵣ⋅rₓ⋅r_z    fᵣ⋅r_y⋅r_z   fᵣᵣ⋅r_y⋅r_z      ⎝     r  ⎠   fᵣᵣ⋅r_\n",
       "⎢- ───────── + ──────────  - ────────── + ───────────   ───────────── + ──────\n",
       "⎢       3           2             3             2             r             2 \n",
       "⎣      r           r             r             r                           r  \n",
       "\n",
       "   ⎤\n",
       "   ⎥\n",
       "   ⎥\n",
       "   ⎥\n",
       "_z ⎥\n",
       "── ⎥\n",
       "   ⎥\n",
       "   ⎥\n",
       "   ⎥\n",
       "   ⎥\n",
       "   ⎥\n",
       "   ⎥\n",
       "   ⎥\n",
       "r_z⎥\n",
       "───⎥\n",
       "   ⎥\n",
       "   ⎥\n",
       "   ⎥\n",
       "   ⎥\n",
       "   ⎥\n",
       "   ⎥\n",
       " 2 ⎥\n",
       "z  ⎥\n",
       "── ⎥\n",
       "   ⎥\n",
       "   ⎦"
      ]
     },
     "execution_count": 178,
     "metadata": {},
     "output_type": "execute_result"
    }
   ],
   "source": [
    "### 説明のためのブロックです。実際の計算ではここを実行する必要はありません。\n",
    "\n",
    "# f(r)をベクトルrで2回微分する。\n",
    "f_rr = symbols('f_rr')\n",
    "Dii = Matrix(3,3,diff(sqrt(r_2), r.T, r) * f_r)          # first term\n",
    "Dii += diff(sqrt(r_2), r) * diff(sqrt(r_2), r).T * f_rr  # second term\n",
    "Dii = Dii.subs((r_x**2+r_y**2+r_z**2)**0.5,'r')          # simplify\n",
    "Dii"
   ]
  },
  {
   "cell_type": "markdown",
   "metadata": {},
   "source": [
    "#### 実装\n",
    "\n",
    "`phis`はサイトサイト間相互作用と、それの距離による多階微分を含む辞書であり、下の`derivatives()`関数で計算される、\n",
    "\n",
    "また、切断関数$T$についてはここには詳しく書かないが、$\\phi\\cdot T$のHessianの計算には$T$の高階微分が含まれるので、かなり面倒。導出は`DerivTrunc.ipynb`を参照。"
   ]
  },
  {
   "cell_type": "code",
   "execution_count": 179,
   "metadata": {},
   "outputs": [],
   "source": [
    "# 距離に関する関数を、相対ベクトルで二階微分する。\n",
    "\n",
    "# このあたりの関数も、できればsympyに生成させたい。\n",
    "# @jit(nopython=True)\n",
    "def dxixi(r, f_r, f_rr):\n",
    "    # r is a vector\n",
    "    rL2 = r@r\n",
    "    rL = rL2**0.5\n",
    "    return f_r*(1 - r**2 / rL2) / rL + f_rr*r**2 / rL2\n",
    "\n",
    "# @jit(nopython=True)\n",
    "def dxiyi(r, f_r, f_rr):\n",
    "    # r is a vector\n",
    "    rL2 = r@r\n",
    "    rL = rL2**0.5\n",
    "    yz = -f_r*r[1]*r[2]/(rL2*rL) + f_rr*r[1]*r[2]/rL2\n",
    "    zx = -f_r*r[2]*r[0]/(rL2*rL) + f_rr*r[2]*r[0]/rL2\n",
    "    xy = -f_r*r[0]*r[1]/(rL2*rL) + f_rr*r[0]*r[1]/rL2\n",
    "    return yz,zx,xy\n",
    "\n",
    "# @jit(nopython=True)\n",
    "def dii(r, f_r, f_rr):\n",
    "    \"\"\"\n",
    "    粒子i,jの距離r = |r_i - r_j|の関数f(r)を、iの位置ベクトルr_iで二階微分する。\n",
    "    f_r, f_rrは距離での一階、二階微分\n",
    "    答は3x3行列。\n",
    "    \"\"\"\n",
    "    H = np.zeros((3,3))\n",
    "    vxx,vyy,vzz = dxixi(r, f_r, f_rr)\n",
    "    H[0,0] += vxx\n",
    "    H[1,1] += vyy\n",
    "    H[2,2] += vzz\n",
    "\n",
    "    vyz,vzx,vxy = dxiyi(r, f_r, f_rr)\n",
    "    H[0,1] += vxy\n",
    "    H[1,2] += vyz\n",
    "    H[0,2] += vzx\n",
    "    H[1,0] += vxy\n",
    "    H[2,1] += vyz\n",
    "    H[2,0] += vzx\n",
    "    return H"
   ]
  },
  {
   "cell_type": "code",
   "execution_count": 217,
   "metadata": {},
   "outputs": [],
   "source": [
    "# 剛体対ヘシアン\n",
    "\n",
    "def Hessian_tt(ints, seps, phis, v, vL, ramp, ramp_r, ramp_rr, Tv, Tvv):\n",
    "    \"\"\"\n",
    "    Trans-Trans Hessian for a pair of molecules\n",
    "    \"\"\"\n",
    "    H = np.zeros([3,3])\n",
    "    \n",
    "    for si,sj in zip(*np.where(ints)):\n",
    "        r = seps[si,sj]\n",
    "        phi, phi_r, phi_rr = phis[si,sj]\n",
    "        h = dii(r, phi_r, phi_rr)\n",
    "        print(\"sdxx\",si,sj,h[0,0]/0.52**2)\n",
    "        #print(\"ri\",1/np.linalg.norm(r))\n",
    "        if ramp<1.0:\n",
    "            #print(\"ramp\",ramp, Tvv)\n",
    "            print(v, vL, ramp, ramp_r, ramp_rr, Tv, Tvv)\n",
    "            rL = np.linalg.norm(r)\n",
    "            h = ramp*h + Tvv*phi\n",
    "            h += ramp_r*phi_r/(vL*rL) * (np.outer(r,v)+np.outer(v,r))\n",
    "            #print(\"OUTER\",(np.outer(r,v)+np.outer(v,r))/(vL*rL))\n",
    "        H += h\n",
    "    Htt = np.zeros([2,3,2,3], dtype=float)\n",
    "    Htt[0, :, 0, :] = H\n",
    "    Htt[1, :, 1, :] = H\n",
    "    Htt[0, :, 1, :] = -H\n",
    "    Htt[1, :, 0, :] = -H\n",
    "    print(Htt)\n",
    "    return Htt"
   ]
  },
  {
   "cell_type": "markdown",
   "metadata": {},
   "source": [
    "### 回転-回転ヘシアン\n",
    "\n",
    "$h_{rr}(i,j)$は分子$i$と分子$j$の相互作用$\\phi(i,j)$を、分子$i$または分子$j$の角度変数$\\mathbf{\\theta}=\\{a_i,b_i,c_i,a_j,b_j,c_j\\}$の2つで微分したものを要素とする、$6\\times 6$行列である。\n",
    "\n",
    "(下の関数`Hessian_rr`がこれにあたる。)\n"
   ]
  },
  {
   "cell_type": "markdown",
   "metadata": {},
   "source": [
    "#### 式展開\n",
    "\n",
    "##### 一階微分\n",
    "\n",
    "サイト間相互作用$\\phi$を分子$i$のオイラー角$a_i$で微分する。\n",
    "\n",
    "$${\\partial\\phi\\over\\partial a_i}={\\partial\\phi\\over\\partial r}\\cdot{\\partial r\\over\\partial a_i}$$\n",
    "\n",
    "$r$はサイト間距離。$\\mathbf{r}$をサイト間相対位置ベクトルとすると、\n",
    "\n",
    "$${\\partial r\\over\\partial a_i}={\\partial r\\over\\partial\\mathbf{r}}\\cdot{\\partial \\mathbf{r}\\over\\partial a_i}={\\mathbf{r}\\over r}\\cdot{\\partial \\mathbf{r}\\over\\partial a_i}$$\n",
    "\n",
    "$${\\partial \\mathbf{r}\\over\\partial a_i}={\\partial \\mathbf{R}_i\\over \\partial a_i}\\cdot \\mathbf{w}_k$$\n",
    "\n",
    "${\\partial \\mathbf{R}_i\\over \\partial a_i}\\cdot \\mathbf{w}_k$を$\\mathbf{s}_a$と書く。最終的に、\n",
    "\n",
    "$${\\partial\\phi\\over\\partial a_i}=\\phi_r\\cdot {\\mathbf{r}\\over r}\\cdot\\mathbf{s}_a$$\n",
    "\n"
   ]
  },
  {
   "cell_type": "markdown",
   "metadata": {},
   "source": [
    "##### 二階微分\n",
    "\n",
    "サイト間相互作用$\\phi$を分子$i$のオイラー角$a_i$と分子$j$のオイラー角$b_j$で微分する。\n",
    "\n",
    "$${\\partial^2\\phi\\over\\partial a_i\\partial b_j}={\\partial\\phi\\over\\partial r}\\cdot{\\partial\\over\\partial b_j}{\\partial r\\over\\partial a_i}+{\\partial\\over\\partial b_j}{\\partial\\phi\\over\\partial r}\\cdot{\\partial r\\over\\partial a_i}$$\n",
    "$$=\\phi_r\\cdot{\\partial^2 r\\over\\partial a_i\\partial b_j}+{\\partial r\\over\\partial b_j}{\\partial r\\over\\partial a_i}\\phi_{rr}$$\n",
    "\n",
    "${\\partial \\mathbf{R}_i\\over \\partial b_j}\\cdot \\mathbf{w}_l$を$\\mathbf{t}_b$と書くと、\n",
    "\n",
    "$${\\partial^2\\phi\\over\\partial a_i\\partial b_j}=\\phi_r\\cdot{\\partial^2 r\\over\\partial a_i\\partial b_j}+\\left({\\mathbf{r}\\over r}\\cdot \\mathbf{s}_a\\right)\\left({\\mathbf{r}\\over r}\\cdot \\mathbf{t}_b\\right)\\phi_{rr}$$\n"
   ]
  },
  {
   "cell_type": "markdown",
   "metadata": {},
   "source": [
    "#### 実装\n",
    "\n",
    "分子$i$のベクトル${\\partial \\mathbf{R}_i\\over \\partial a_i}\\cdot \\mathbf{w}_k=\\mathbf{s}_a$は下のコードでは`D1i[p,q,r]`である。\n",
    "ただし、\n",
    "\n",
    "* `p`は微分する$a_i$の軸(0〜2)\n",
    "* `q`はベクトルの軸要素\n",
    "* `r`はサイト番号(水なら0〜3)\n",
    "\n",
    "分子$i$のベクトル${\\partial^2 \\mathbf{R}_i\\over \\partial a_i\\partial b_i}\\cdot \\mathbf{w}_k=\\mathbf{s}_a$は下のコードでは`D2i[p1,p2,q,r]`である。\n",
    "\n",
    "* `p`は微分する$a_i$,$b_i$の軸(0〜2)\n",
    "* `q`はベクトルの軸要素\n",
    "* `r`はサイト番号(水なら0〜3)\n"
   ]
  },
  {
   "cell_type": "code",
   "execution_count": 218,
   "metadata": {},
   "outputs": [],
   "source": [
    "def Hessian_rr(ints, seps, phis, D1i, D2i, D1j, D2j, ramp):\n",
    "    \"\"\"\n",
    "    Rot-Rot Hessian for a pair of molecules\n",
    "    \"\"\"\n",
    "    Hrr = np.zeros([2,3,2,3])\n",
    "    for si,sj in zip(*np.where(ints)):\n",
    "        r = seps[si,sj]\n",
    "        phi, phi_r, phi_rr = phis[si,sj]\n",
    "\n",
    "        rL = np.linalg.norm(r)\n",
    "\n",
    "        # 式の導出はDerivative.ipynbを参照\n",
    "        # **3 同じ分子の異なる角度変数の組みあわせ\n",
    "        for d1 in range(3):\n",
    "            for d2 in range(d1,3):\n",
    "                h = (phi_r/rL**3*(rL**2 * (r @ D2i[d1,d2,:,si] + D1i[d1,:,si] @ D1i[d2,:,si]) -\n",
    "                                                      (r @ D1i[d1,:,si])*(r @ D1i[d2,:,si])) +\n",
    "                                         phi_rr/rL**2*(r @ D1i[d1,:,si])*(r @ D1i[d2,:,si]))\n",
    "                Hrr[0,d1,0,d2] += h*ramp\n",
    "                h = (phi_r/rL**3*(rL**2 * (-r @ D2j[d1,d2,:,sj] + D1j[d1,:,sj] @ D1j[d2,:,sj]) -\n",
    "                                                      (r @ D1j[d1,:,sj])*(r @ D1j[d2,:,sj])) +\n",
    "                                         phi_rr/rL**2*(r @ D1j[d1,:,sj])*(r @ D1j[d2,:,sj]))\n",
    "                Hrr[1,d1,1,d2] += h*ramp\n",
    "        # **4 異なる分子の角度変数の組みあわせ\n",
    "        for id in range(3):\n",
    "            for jd in range(3):\n",
    "                h = -(phi_r/rL**3*(rL**2 * (D1i[id,:,si] @ D1j[jd,:,sj]) -\n",
    "                                                       (r @ D1i[id,:,si])*(r @ D1j[jd,:,sj])) +\n",
    "                                          phi_rr/rL**2*(r @ D1i[id,:,si])*(r @ D1j[jd,:,sj]))\n",
    "                Hrr[0,id,1,jd] += h*ramp\n",
    "        # 下半分はあとでコピー\n",
    "    # Hrrを一旦3nmol x 3nmolの平たい上半行列に戻し、\n",
    "    Hrr = Hrr.reshape(6,6)\n",
    "    # 対称化し、\n",
    "    Hrr = Hrr + Hrr.T - np.diag(Hrr.diagonal())\n",
    "    # また行列の配列に戻す。\n",
    "    Hrr = Hrr.reshape(2,3,2,3)\n",
    "    return Hrr"
   ]
  },
  {
   "cell_type": "markdown",
   "metadata": {},
   "source": [
    "### 並進-回転ヘシアン\n",
    "\n",
    "$h_{tr}(i,j)$は分子$i$と分子$j$の相互作用$\\phi(i,j)$を、分子$i$または分子$j$の角度変数$\\mathbf{\\theta}=\\{a_i,b_i,c_i\\}$と重心座標の2つで微分したものを要素とする、$6\\times 6$行列である。\n",
    "\n",
    "(下の関数`Hessian_tr`がこれにあたる。)\n",
    "\n",
    "#### 式展開\n",
    "\n",
    "##### 二階微分\n",
    "\n",
    "$${\\partial^2 \\phi\\over \\partial x_i\\partial a_j}={\\partial^2 r\\over\\partial x_i\\partial a_j}\\cdot{\\partial \\phi\\over \\partial r}+{\\partial r\\over\\partial  x_i}\\cdot{\\partial\\over\\partial a_j}{\\partial \\phi\\over \\partial r}$$\n",
    "$$={\\partial^2 r\\over\\partial x_i\\partial a_j}\\cdot\\phi_r+{\\partial r\\over\\partial  x_i}\\cdot{\\partial r\\over\\partial a_j} \\phi_{rr}$$\n",
    "$$={\\partial^2 r\\over\\partial x_i\\partial a_j}\\cdot\\phi_r+{r_x\\over r}\\cdot\\left({\\mathbf{r}\\over r}\\cdot \\mathbf{t}_a\\right)\\phi_{rr}$$\n",
    "\n",
    "$${\\partial^2 r\\over\\partial x_i\\partial a_i}={\\partial \\over \\partial x_i}{\\partial r\\over \\partial a_j}$$\n",
    "$$={\\partial \\over \\partial x_i}{\\mathbf{r}\\over r}\\mathbf{t}_a$$\n",
    "$$={\\partial \\over \\partial x_i}\\left({1\\over r}(r_xt_{ax}+r_yt_{ay}+r_zt_{az})\\right)$$\n",
    "$$={\\partial r\\over \\partial x_i} {-1\\over r^2} \\mathbf{r}\\cdot\\mathbf{t}_a + {1\\over r}\\cdot t_{ax}$$\n",
    "$$={-r_x\\over r^3} \\mathbf{r}\\cdot\\mathbf{t}_a + {t_{ax}\\over r} $$"
   ]
  },
  {
   "cell_type": "markdown",
   "metadata": {},
   "source": [
    "#### 実装\n"
   ]
  },
  {
   "cell_type": "code",
   "execution_count": 219,
   "metadata": {},
   "outputs": [],
   "source": [
    "def Hessian_tr(ints, seps, phis, D1i, D1j, ramp, Tv):\n",
    "    \"\"\"\n",
    "    Trans-Rot Hessian for a pair of molecules\n",
    "    \"\"\"\n",
    "    Htr = np.zeros([2,3,2,3])\n",
    "    for si,sj in zip(*np.where(ints)):\n",
    "        r = seps[si,sj]\n",
    "        phi, phi_r, phi_rr = phis[si,sj]\n",
    "\n",
    "        rL = np.linalg.norm(r)\n",
    "\n",
    "        # **5 同じ分子\n",
    "        for it in range(3):\n",
    "            for ir in range(3):\n",
    "                h = (phi_r/rL**3 * (rL**2*D1i[ir,it,si] - r[it]*(r @ D1i[ir,:,si])) +\n",
    "                                          phi_rr/rL**2 * r[it]*(r @ D1i[ir,:,si]))\n",
    "                if ramp != 1.0:\n",
    "                    h = ramp*h + Tv[it]*phi_r/rL*(r @ D1i[ir,:,si])\n",
    "                Htr[0,it,0,ir] += h\n",
    "        for jt in range(3):\n",
    "            for jr in range(3):\n",
    "                h = (phi_r/rL**3 * (rL**2*D1j[jr,jt,sj] - r[jt]*(r @ D1j[jr,:,sj])) +\n",
    "                                          phi_rr/rL**2 * r[jt]*(r @ D1j[jr,:,sj]))\n",
    "                if ramp != 1.0:\n",
    "                    h = ramp*h + Tv[jt]*phi_r/rL*(r @ D1j[jr,:,sj])\n",
    "                Htr[1,jt,1,jr] += h\n",
    "        # **6 異なる分子\n",
    "        for it in range(3):\n",
    "            for jr in range(3):\n",
    "                h = (phi_r/rL**3 * (rL**2*D1j[jr,it,sj] - r[it]*(r @ D1j[jr,:,sj])) +\n",
    "                                          phi_rr/rL**2 * r[it]*(r @ D1j[jr,:,sj]))\n",
    "                if ramp != 1.0:\n",
    "                    h = ramp*h + Tv[it]*phi_r/rL*(r @ D1j[jr,:,sj])\n",
    "                Htr[0,it,1,jr] -= h\n",
    "        for jt in range(3):\n",
    "            for ir in range(3):\n",
    "                h = (phi_r/rL**3 * (rL**2*D1i[ir,jt,si] + r[jt]*(-r @ D1i[ir,:,si])) +\n",
    "                                          phi_rr/rL**2 * -r[jt]*(-r @ D1i[ir,:,si]))\n",
    "                if ramp != 1.0:\n",
    "                    h = ramp*h + Tv[jt]*phi_r/rL*(r @ D1i[ir,:,si])\n",
    "                Htr[1,jt,0,ir] -= h\n",
    "    return Htr"
   ]
  },
  {
   "cell_type": "code",
   "execution_count": 220,
   "metadata": {},
   "outputs": [],
   "source": [
    "def E_pair(ints, phis, ramp):\n",
    "    \"\"\"\n",
    "    \n",
    "    Args:\n",
    "        ints (2nd rank numpy array of boolean): Pairs of interaction.\n",
    "        phis (3rd rank numpy array of float:    Interaction and its derivatives\n",
    "        ramp (float) : Ramp function\n",
    "    \"\"\"\n",
    "    return ramp * np.sum(phis[ints, 0]) # 0th is interaction\n",
    "    # return ramp * np.sum(phis[:,:,0]) # 0th is interaction"
   ]
  },
  {
   "cell_type": "code",
   "execution_count": 221,
   "metadata": {},
   "outputs": [],
   "source": [
    "# 相互作用をサイト間距離で微分したもの。\n",
    "# この辞書がNUMBAとフィットしない。もうすこし方法はないものか。\n",
    "# 相対位置ベクトルと、関数の微分値を別の配列にしてしまう、か。\n",
    "\n",
    "def derivatives(CCpairs, LJpairs, v, D0i, D0j):\n",
    "    imax = 0\n",
    "    jmax = 0\n",
    "    for i, j in CCpairs:\n",
    "        imax = max(i, imax)\n",
    "        jmax = max(j, jmax)\n",
    "    imax += 1\n",
    "    jmax += 1\n",
    "    ints = np.zeros([imax, jmax], dtype=bool)\n",
    "    phis = np.zeros([imax, jmax, 3])\n",
    "    seps = np.zeros([imax, jmax, 3])\n",
    "    \n",
    "    for (i,j),cc in CCpairs.items():\n",
    "        ints[i,j] = True\n",
    "        r         = D0i[:,i] - D0j[:,j] + v\n",
    "        seps[i,j] = r\n",
    "        rL = np.linalg.norm(r)\n",
    "        phi    = cc*phic(rL)\n",
    "        phi_r  = cc*phic_r(rL)\n",
    "        phi_rr = cc*phic_rr(rL)\n",
    "        phis[i,j] += np.array([phi, phi_r, phi_rr])\n",
    "\n",
    "    for (i,j),(a1,a2) in LJpairs.items():\n",
    "        ints[i,j] = True\n",
    "        r         = D0i[:,i] - D0j[:,j] + v\n",
    "        seps[i,j] = r\n",
    "        rL = np.linalg.norm(r)\n",
    "        phi    = phiLJ(rL,a1,a2)\n",
    "        phi_r  = phiLJ_r(rL,a1,a2)\n",
    "        phi_rr = phiLJ_rr(rL,a1,a2)\n",
    "        phis[i,j] += np.array([phi, phi_r, phi_rr])\n",
    "\n",
    "    return ints,seps,phis\n"
   ]
  },
  {
   "cell_type": "markdown",
   "metadata": {},
   "source": [
    "## 全ヘシアンの算出\n",
    "\n",
    "基本的には、対ヘシアンを大きな行列に蓄えていくだけ。\n",
    "\n",
    "混合物を扱う場合には、D0、D1、D2を2種類準備する必要があるが、基本的な構造はこれで対応できる。"
   ]
  },
  {
   "cell_type": "code",
   "execution_count": 222,
   "metadata": {},
   "outputs": [],
   "source": [
    "## Hessianの計算。もっと小さい関数に分けたいが、かなり手強い。\n",
    "\n",
    "def Hessians(pos, cell, D0, D1, D2, CCpairs, LJpairs, Trunc, Trunc_r, Trunc_rr, rin, rout):\n",
    "    # 3x3行列の配列。\n",
    "    Htt = np.zeros([nmol, 3, nmol, 3])\n",
    "    Hrr = np.zeros([nmol, 3, nmol, 3])\n",
    "    Htr = np.zeros([nmol, 3, nmol, 3])\n",
    "    ep = 0\n",
    "    \n",
    "    celli = np.linalg.inv(cell)\n",
    "    for im in range(nmol):\n",
    "        for jm in range(im+1,nmol):\n",
    "            # 重心間相対ベクトル\n",
    "            v = pos[im][:3] - pos[jm][:3]\n",
    "            # 周期境界条件\n",
    "            v -= cell @ np.floor( celli @ v + 0.5 )\n",
    "            # 重心間距離\n",
    "            vL = np.linalg.norm(v)\n",
    "            # print(\"vL\",vL)\n",
    "\n",
    "            # 切断関数を準備。\n",
    "            trunc = False\n",
    "            if vL > rout:\n",
    "                # 遠すぎる対はパス\n",
    "                continue\n",
    "            if vL > rin:\n",
    "                # カットオフ関数がかかる場合\n",
    "                ramp = Trunc(vL)\n",
    "                ramp_r = Trunc_r(vL)\n",
    "                ramp_rr = Trunc_rr(vL)\n",
    "                # Tのvによる一階微分(ベクトル)\n",
    "                Tv = di(v, ramp_r)\n",
    "                # Truncのvによる二階微分(テンソル)\n",
    "                Tvv = dii(v, ramp_r, ramp_rr)\n",
    "                trunc = v, vL, ramp, ramp_r, ramp_rr, Tv, Tvv\n",
    "            else:\n",
    "                # 近距離\n",
    "                ramp = 1.0\n",
    "                ramp_r = 0.0\n",
    "                ramp_rr = 0.0\n",
    "                Tv = None\n",
    "                Tvv = None\n",
    "\n",
    "            # サイト間の相互作用関数の、相対位置ベクトルによる多階微分をあらかじめ配列phisに入れておく。\n",
    "            ints, seps, phis = derivatives(CCpairs, LJpairs, v, D0[im], D0[jm])\n",
    "\n",
    "            # Check EP again\n",
    "            ep += E_pair(ints, phis, ramp)\n",
    "\n",
    "            # 並進・並進\n",
    "            Htt0 = Hessian_tt(ints, seps, phis, v, vL, ramp, ramp_r, ramp_rr, Tv, Tvv)\n",
    "            Htt[im, :, im, :] += Htt0[0, : , 0, :]\n",
    "            Htt[jm, :, jm, :] += Htt0[1, : , 1, :]\n",
    "            Htt[im, :, jm, :] += Htt0[0, : , 1, :]\n",
    "            Htt[jm, :, im, :] += Htt0[1, : , 0, :]\n",
    "\n",
    "            # 次は回転・回転\n",
    "            Hrr0 = Hessian_rr(ints, seps, phis, D1[im], D2[im], D1[jm], D2[jm], ramp)\n",
    "            Hrr[im, :, im, :] += Hrr0[0, : , 0, :]\n",
    "            Hrr[jm, :, jm, :] += Hrr0[1, : , 1, :]\n",
    "            Hrr[im, :, jm, :] += Hrr0[0, : , 1, :]\n",
    "            Hrr[jm, :, im, :] += Hrr0[1, : , 0, :]\n",
    "\n",
    "            # 最後に並進・回転\n",
    "            Htr0 = Hessian_tr(ints, seps, phis, D1[im], D1[jm], ramp, Tv)\n",
    "            Htr[im, :, im, :] += Htr0[0, : , 0, :]\n",
    "            Htr[jm, :, jm, :] += Htr0[1, : , 1, :]\n",
    "            Htr[im, :, jm, :] += Htr0[0, : , 1, :]\n",
    "            Htr[jm, :, im, :] += Htr0[1, : , 0, :]\n",
    "            \n",
    "    return Htt, Hrr, Htr, ep"
   ]
  },
  {
   "cell_type": "code",
   "execution_count": 223,
   "metadata": {},
   "outputs": [
    {
     "name": "stdout",
     "output_type": "stream",
     "text": [
      "sdxx 0 0 -0.0011754952241928643\n",
      "[-2.8173  0.5776 -6.0781] 6.724178988575413 0.9881786830205733 -0.1485796967882942 -1.158208907705841 [ 0.0623 -0.0128  0.1343] [[-0.2215  0.0409 -0.4303]\n",
      " [ 0.0409 -0.0305  0.0882]\n",
      " [-0.4303  0.0882 -0.9504]]\n",
      "sdxx 0 1 -0.0014082483668929324\n",
      "[-2.8173  0.5776 -6.0781] 6.724178988575413 0.9881786830205733 -0.1485796967882942 -1.158208907705841 [ 0.0623 -0.0128  0.1343] [[-0.2215  0.0409 -0.4303]\n",
      " [ 0.0409 -0.0305  0.0882]\n",
      " [-0.4303  0.0882 -0.9504]]\n",
      "sdxx 0 3 0.0028182668891199745\n",
      "[-2.8173  0.5776 -6.0781] 6.724178988575413 0.9881786830205733 -0.1485796967882942 -1.158208907705841 [ 0.0623 -0.0128  0.1343] [[-0.2215  0.0409 -0.4303]\n",
      " [ 0.0409 -0.0305  0.0882]\n",
      " [-0.4303  0.0882 -0.9504]]\n",
      "sdxx 1 0 -0.0018684631919359106\n",
      "[-2.8173  0.5776 -6.0781] 6.724178988575413 0.9881786830205733 -0.1485796967882942 -1.158208907705841 [ 0.0623 -0.0128  0.1343] [[-0.2215  0.0409 -0.4303]\n",
      " [ 0.0409 -0.0305  0.0882]\n",
      " [-0.4303  0.0882 -0.9504]]\n",
      "sdxx 1 1 -0.0017396791636949934\n",
      "[-2.8173  0.5776 -6.0781] 6.724178988575413 0.9881786830205733 -0.1485796967882942 -1.158208907705841 [ 0.0623 -0.0128  0.1343] [[-0.2215  0.0409 -0.4303]\n",
      " [ 0.0409 -0.0305  0.0882]\n",
      " [-0.4303  0.0882 -0.9504]]\n",
      "sdxx 1 3 0.004608971639417989\n",
      "[-2.8173  0.5776 -6.0781] 6.724178988575413 0.9881786830205733 -0.1485796967882942 -1.158208907705841 [ 0.0623 -0.0128  0.1343] [[-0.2215  0.0409 -0.4303]\n",
      " [ 0.0409 -0.0305  0.0882]\n",
      " [-0.4303  0.0882 -0.9504]]\n",
      "sdxx 2 2 -3.3691826763672618e-06\n",
      "[-2.8173  0.5776 -6.0781] 6.724178988575413 0.9881786830205733 -0.1485796967882942 -1.158208907705841 [ 0.0623 -0.0128  0.1343] [[-0.2215  0.0409 -0.4303]\n",
      " [ 0.0409 -0.0305  0.0882]\n",
      " [-0.4303  0.0882 -0.9504]]\n",
      "sdxx 3 0 0.0026225596139976015\n",
      "[-2.8173  0.5776 -6.0781] 6.724178988575413 0.9881786830205733 -0.1485796967882942 -1.158208907705841 [ 0.0623 -0.0128  0.1343] [[-0.2215  0.0409 -0.4303]\n",
      " [ 0.0409 -0.0305  0.0882]\n",
      " [-0.4303  0.0882 -0.9504]]\n",
      "sdxx 3 1 0.0025620174911379005\n",
      "[-2.8173  0.5776 -6.0781] 6.724178988575413 0.9881786830205733 -0.1485796967882942 -1.158208907705841 [ 0.0623 -0.0128  0.1343] [[-0.2215  0.0409 -0.4303]\n",
      " [ 0.0409 -0.0305  0.0882]\n",
      " [-0.4303  0.0882 -0.9504]]\n",
      "sdxx 3 3 -0.006280671438466723\n",
      "[-2.8173  0.5776 -6.0781] 6.724178988575413 0.9881786830205733 -0.1485796967882942 -1.158208907705841 [ 0.0623 -0.0128  0.1343] [[-0.2215  0.0409 -0.4303]\n",
      " [ 0.0409 -0.0305  0.0882]\n",
      " [-0.4303  0.0882 -0.9504]]\n",
      "[[[[ 4.1597e-05 -1.1908e-04  1.0673e-04]\n",
      "   [-4.1597e-05  1.1908e-04 -1.0673e-04]]\n",
      "\n",
      "  [[-1.1908e-04  1.2573e-05 -1.2718e-04]\n",
      "   [ 1.1908e-04 -1.2573e-05  1.2718e-04]]\n",
      "\n",
      "  [[ 1.0673e-04 -1.2718e-04 -1.1336e-04]\n",
      "   [-1.0673e-04  1.2718e-04  1.1336e-04]]]\n",
      "\n",
      "\n",
      " [[[-4.1597e-05  1.1908e-04 -1.0673e-04]\n",
      "   [ 4.1597e-05 -1.1908e-04  1.0673e-04]]\n",
      "\n",
      "  [[ 1.1908e-04 -1.2573e-05  1.2718e-04]\n",
      "   [-1.1908e-04  1.2573e-05 -1.2718e-04]]\n",
      "\n",
      "  [[-1.0673e-04  1.2718e-04  1.1336e-04]\n",
      "   [ 1.0673e-04 -1.2718e-04 -1.1336e-04]]]]\n",
      "energy (kJ/mol)= 0.038842100068825214\n"
     ]
    }
   ],
   "source": [
    "Htt, Hrr, Htr, ep = Hessians(pos, cell, D0, D1, D2, CCpairs, LJpairs, Trunc, Trunc_r, Trunc_rr, rin, rout)\n",
    "\n",
    "print(\"energy (kJ/mol)=\",ep*TokJmol/nmol)\n",
    "\n",
    "# 系が小さい場合には、圧倒的にここが遅い。\n",
    "# numbaで2.5倍にはなる。まあ、速さが必要な部分はコンパイラで書くしかないだろう。今はいい。"
   ]
  },
  {
   "cell_type": "markdown",
   "metadata": {},
   "source": [
    "* Pohorille, A., Pratt, L. R., LaViolette, R. A., Wilson, M. A. & MacElroy, R. D. Comparison of the structure of harmonic aqueous glasses and liquid water. *J. Chem. Phys.* **87**, 6070–6077 (1998).\n",
    "\n",
    "Kinetic energy tensor\n",
    "$$\\mathbf{K}=\\left(\\begin{array}{ccc}I_1\\cos^2\\psi+I_2\\sin^2\\psi&(I_1-I_2)\\sin\\theta\\sin\\psi\\cos\\psi&0\\\\\\ &(I_1\\sin^2\\psi+I_2\\cos^2\\psi)\\sin^2\\theta+I_3\\cos^2\\theta&I_3\\cos\\theta\\\\\\ &&I_3\\end{array}\\right)$$\n",
    "これを対角化したものを$\\mathbf{K}_\\mathrm{D}$と書き、対角化に使った固有ベクトルの行列を$\\mathbf{S}$と書く。\n",
    "$$\\mathbf{S}^{-1}\\mathbf{K}\\mathbf{S}=\\mathbf{K}_\\mathrm{D}$$\n",
    "求めたいものは、\n",
    "$$\\mathbf{K}_\\mathrm{D}^{-1/2}\\mathbf{S}^T\\mathbf{V}\\mathbf{S}\\mathbf{K}_\\mathrm{D}^{-1/2}$$\n",
    "の固有値である(らしい)。$\\mathbf{V}$は力の定数の行列。\n",
    "\n",
    "対角化されているので、$\\mathbf{K}_\\mathrm{D}^{-1/2}$は対角項をそれぞれ$-(1/2)$乗するだけでいい。\n",
    "\n",
    "直線分子の場合は、$I_3=0$かつ$I_1=I_2$なので、おそらく\n",
    "$$\\mathbf{K}=\\left(\\begin{array}{cc}I&0\\\\\\ &I\\sin^2\\theta\\end{array}\\right)$$\n",
    "となる?とすれば、Kはもともと対角化されているのでSは単位行列となる。(本当か?)"
   ]
  },
  {
   "cell_type": "code",
   "execution_count": 224,
   "metadata": {},
   "outputs": [
    {
     "data": {
      "image/png": "[encoded data removed]",
      "text/latex": [
       "$$\\left[\\begin{matrix}I_{1} \\cos^{2}{\\left (\\psi \\right )} + I_{2} \\sin^{2}{\\left (\\psi \\right )} & \\left(I_{1} - I_{2}\\right) \\sin{\\left (\\psi \\right )} \\sin{\\left (\\theta \\right )} \\cos{\\left (\\psi \\right )} & 0.0\\\\\\left(I_{1} - I_{2}\\right) \\sin{\\left (\\psi \\right )} \\sin{\\left (\\theta \\right )} \\cos{\\left (\\psi \\right )} & I_{3} \\cos^{2}{\\left (\\theta \\right )} + \\left(I_{1} \\sin^{2}{\\left (\\psi \\right )} + I_{2} \\cos^{2}{\\left (\\psi \\right )}\\right) \\sin^{2}{\\left (\\theta \\right )} & I_{3} \\cos{\\left (\\theta \\right )}\\\\0.0 & I_{3} \\cos{\\left (\\theta \\right )} & I_{3}\\end{matrix}\\right]$$"
      ],
      "text/plain": [
       "⎡         2            2                                                      \n",
       "⎢   I₁⋅cos (ψ) + I₂⋅sin (ψ)              (I₁ - I₂)⋅sin(ψ)⋅sin(θ)⋅cos(ψ)       \n",
       "⎢                                                                             \n",
       "⎢                                      2      ⎛      2            2   ⎞    2  \n",
       "⎢(I₁ - I₂)⋅sin(ψ)⋅sin(θ)⋅cos(ψ)  I₃⋅cos (θ) + ⎝I₁⋅sin (ψ) + I₂⋅cos (ψ)⎠⋅sin (θ\n",
       "⎢                                                                             \n",
       "⎣             0.0                                  I₃⋅cos(θ)                  \n",
       "\n",
       "            ⎤\n",
       "      0.0   ⎥\n",
       "            ⎥\n",
       "            ⎥\n",
       ")  I₃⋅cos(θ)⎥\n",
       "            ⎥\n",
       "      I₃    ⎦"
      ]
     },
     "execution_count": 224,
     "metadata": {},
     "output_type": "execute_result"
    }
   ],
   "source": [
    "theta, psi, I1, I2, I3 = symbols(\"theta psi I_1, I_2, I_3\")\n",
    "ket = Matrix(3,3, [I1*cos(psi)**2 + I2*sin(psi)**2, (I1-I2)*sin(theta)*sin(psi)*cos(psi), 0.0,\n",
    "                   (I1-I2)*sin(theta)*sin(psi)*cos(psi),  (I1*sin(psi)**2+I2*cos(psi)**2)*sin(theta)**2+I3*cos(theta)**2, I3*cos(theta),\n",
    "                   0.0,  I3*cos(theta), I3])\n",
    "ket"
   ]
  },
  {
   "cell_type": "code",
   "execution_count": 225,
   "metadata": {},
   "outputs": [
    {
     "data": {
      "text/plain": [
       "<function _lambdifygenerated(theta, psi, I_1, I_2, I_3)>"
      ]
     },
     "execution_count": 225,
     "metadata": {},
     "output_type": "execute_result"
    }
   ],
   "source": [
    "KETensor = lambdify([theta,psi,I1,I2,I3], ket)\n",
    "KETensor"
   ]
  },
  {
   "cell_type": "code",
   "execution_count": 226,
   "metadata": {},
   "outputs": [
    {
     "name": "stdout",
     "output_type": "stream",
     "text": [
      "[[0.0925 0.0172 0.    ]\n",
      " [0.0172 0.0392 0.0065]\n",
      " [0.     0.0065 0.0637]]\n",
      "[[ 0.0918  0.0136  0.    ]\n",
      " [ 0.0136  0.0504 -0.0426]\n",
      " [ 0.     -0.0426  0.0637]]\n"
     ]
    }
   ],
   "source": [
    "# np.set_printoptions(4)\n",
    "\n",
    "\n",
    "\n",
    "# ***1 謎のテンソルの計算\n",
    "eival = np.zeros([nmol,3])\n",
    "eivec = np.zeros([nmol,3,3])\n",
    "\n",
    "for i in range(nmol):\n",
    "    # 分子内座標での慣性テンソル\n",
    "    Ii = Inertia[lc[i]] / wm\n",
    "# wmで割ることで、並進には質量を掛ける必要がなくなる。\n",
    "# verified rix, riy,riz\n",
    "\n",
    "    ea,eb,ec = pos[i][3:6]\n",
    "    # Pohorille, A., Pratt, L. R., LaViolette, R. A., Wilson, M. A. & MacElroy, R. D. Comparison of the structure of harmonic aqueous glasses and liquid water. J. Chem. Phys. 87, 6070–6077 (1998).\n",
    "    # Goldstein Chap. 6\n",
    "    ev = KETensor(ea, ec, Ii[0], Ii[1], Ii[2])\n",
    "    print(ev)\n",
    "    #print(\"***6\")\n",
    "    #print(ev)\n",
    "    # ev verified\n",
    "    ival, ivec = np.linalg.eig(ev)\n",
    "    # sorted (unnecessary)\n",
    "    idx = np.argsort(-ival)\n",
    "    ival = ival[idx]\n",
    "    ivec = ivec[:,idx]\n",
    "    # ival is diagonal elements of K_D\n",
    "    # eival is K_D^{-1/2}\n",
    "    eival[i] = 1/ival**0.5\n",
    "    # Eigenvectors S\n",
    "    eivec[i] = ivec\n",
    "    # eig verified\n",
    "    #print(\"eival\")\n",
    "    #print(eival[i])\n",
    "    #print(\"eivec\")\n",
    "    #print(eivec[i])\n",
    "\n",
    "# rot-rot\n",
    "for i in range(nmol):\n",
    "    for j in range(nmol):\n",
    "        # elements of rot-rot\n",
    "        t = Hrr[j,:,i,:]\n",
    "        # こっちはPohorilleの通り。\n",
    "        t = eivec[j].T @ t @ eivec[i]\n",
    "        sd = t * np.outer(eival[j],eival[i])\n",
    "        Hrr[j,:,i,:] = sd\n",
    "\n",
    "# rot-trans\n",
    "for i in range(nmol):\n",
    "    for j in range(nmol):\n",
    "        # elements of trans-rot\n",
    "        # こっちは記述がない。\n",
    "        t = Htr[i,:,j,:]\n",
    "        t = t @ eivec[j]\n",
    "        sd = t * eival[j]\n",
    "        Htr[i,:,j,:] = sd\n",
    "\n",
    "hess = np.zeros([6*nmol, 6*nmol])\n",
    "hess[0*nmol:3*nmol,0*nmol:3*nmol] = Htt.reshape(3*nmol,3*nmol)\n",
    "hess[3*nmol:6*nmol,3*nmol:6*nmol] = Hrr.reshape(3*nmol,3*nmol)\n",
    "hess[0*nmol:3*nmol,3*nmol:6*nmol] = Htr.reshape(3*nmol,3*nmol)\n",
    "hess[3*nmol:6*nmol,0*nmol:3*nmol] = Htr.reshape(3*nmol,3*nmol).T\n",
    "\n",
    "np.set_printoptions(4)\n",
    "\n"
   ]
  },
  {
   "cell_type": "code",
   "execution_count": 227,
   "metadata": {},
   "outputs": [
    {
     "data": {
      "image/png": "[encoded data removed]",
      "text/latex": [
       "$$\\left[\\begin{matrix}- \\sin{\\left (b \\right )} \\sin{\\left (c \\right )} \\cos{\\left (a \\right )} + \\cos{\\left (b \\right )} \\cos{\\left (c \\right )} & - \\sin{\\left (b \\right )} \\cos{\\left (a \\right )} \\cos{\\left (c \\right )} - \\sin{\\left (c \\right )} \\cos{\\left (b \\right )} & \\sin{\\left (a \\right )} \\sin{\\left (b \\right )}\\\\\\sin{\\left (b \\right )} \\cos{\\left (c \\right )} + \\sin{\\left (c \\right )} \\cos{\\left (a \\right )} \\cos{\\left (b \\right )} & - \\sin{\\left (b \\right )} \\sin{\\left (c \\right )} + \\cos{\\left (a \\right )} \\cos{\\left (b \\right )} \\cos{\\left (c \\right )} & - \\sin{\\left (a \\right )} \\cos{\\left (b \\right )}\\\\\\sin{\\left (a \\right )} \\sin{\\left (c \\right )} & \\sin{\\left (a \\right )} \\cos{\\left (c \\right )} & \\cos{\\left (a \\right )}\\end{matrix}\\right]$$"
      ],
      "text/plain": [
       "⎡-sin(b)⋅sin(c)⋅cos(a) + cos(b)⋅cos(c)  -sin(b)⋅cos(a)⋅cos(c) - sin(c)⋅cos(b) \n",
       "⎢                                                                             \n",
       "⎢sin(b)⋅cos(c) + sin(c)⋅cos(a)⋅cos(b)   -sin(b)⋅sin(c) + cos(a)⋅cos(b)⋅cos(c) \n",
       "⎢                                                                             \n",
       "⎣            sin(a)⋅sin(c)                          sin(a)⋅cos(c)             \n",
       "\n",
       " sin(a)⋅sin(b) ⎤\n",
       "               ⎥\n",
       " -sin(a)⋅cos(b)⎥\n",
       "               ⎥\n",
       "     cos(a)    ⎦"
      ]
     },
     "execution_count": 227,
     "metadata": {},
     "output_type": "execute_result"
    }
   ],
   "source": [
    "AI"
   ]
  },
  {
   "cell_type": "code",
   "execution_count": 228,
   "metadata": {},
   "outputs": [],
   "source": [
    "ival, ivec = np.linalg.eigh(hess)"
   ]
  },
  {
   "cell_type": "code",
   "execution_count": 229,
   "metadata": {},
   "outputs": [
    {
     "name": "stdout",
     "output_type": "stream",
     "text": [
      "[95.18011714359443, 44.25079792702884, 27.189803996780654, 1.5009781496682255e-06, 3.8540387670321335e-07, -8.44217992468879e-07, -3.2567213126119046, -7.482131380620594, -28.628557143709855, -37.19586024113682, -50.65618359154424, -72.48723707456554]\n"
     ]
    }
   ],
   "source": [
    "ivs = []\n",
    "for iv in sorted(ival,reverse=True):\n",
    "    if iv > 0:\n",
    "        iv = iv**0.5 * sw\n",
    "    else:\n",
    "        iv = -(-iv)**0.5 * sw\n",
    "    ivs.append(iv)\n",
    "\n",
    "print(ivs)"
   ]
  },
  {
   "cell_type": "code",
   "execution_count": 230,
   "metadata": {},
   "outputs": [
    {
     "data": {
      "text/plain": [
       "(array([1., 0., 0., 0., 0., 0., 0., 0., 0., 0., 0., 0., 0., 1., 0., 0., 0.,\n",
       "        0., 0., 0., 0., 1., 0., 0., 0., 0., 1., 0., 0., 0., 0., 0., 0., 0.,\n",
       "        0., 0., 0., 0., 1., 0., 0., 1., 0., 3., 0., 0., 0., 0., 0., 0., 0.,\n",
       "        0., 0., 0., 0., 0., 0., 0., 0., 1., 0., 0., 0., 0., 0., 0., 0., 0.,\n",
       "        0., 1., 0., 0., 0., 0., 0., 0., 0., 0., 0., 0., 0., 0., 0., 0., 0.,\n",
       "        0., 0., 0., 0., 0., 0., 0., 0., 0., 0., 0., 0., 0., 0., 1.]),\n",
       " array([-72.4872, -70.8106, -69.1339, -67.4572, -65.7805, -64.1039,\n",
       "        -62.4272, -60.7505, -59.0738, -57.3972, -55.7205, -54.0438,\n",
       "        -52.3672, -50.6905, -49.0138, -47.3371, -45.6605, -43.9838,\n",
       "        -42.3071, -40.6304, -38.9538, -37.2771, -35.6004, -33.9237,\n",
       "        -32.2471, -30.5704, -28.8937, -27.2171, -25.5404, -23.8637,\n",
       "        -22.187 , -20.5104, -18.8337, -17.157 , -15.4803, -13.8037,\n",
       "        -12.127 , -10.4503,  -8.7736,  -7.097 ,  -5.4203,  -3.7436,\n",
       "         -2.0669,  -0.3903,   1.2864,   2.9631,   4.6397,   6.3164,\n",
       "          7.9931,   9.6698,  11.3464,  13.0231,  14.6998,  16.3765,\n",
       "         18.0531,  19.7298,  21.4065,  23.0832,  24.7598,  26.4365,\n",
       "         28.1132,  29.7898,  31.4665,  33.1432,  34.8199,  36.4965,\n",
       "         38.1732,  39.8499,  41.5266,  43.2032,  44.8799,  46.5566,\n",
       "         48.2333,  49.9099,  51.5866,  53.2633,  54.94  ,  56.6166,\n",
       "         58.2933,  59.97  ,  61.6466,  63.3233,  65.    ,  66.6767,\n",
       "         68.3533,  70.03  ,  71.7067,  73.3834,  75.06  ,  76.7367,\n",
       "         78.4134,  80.0901,  81.7667,  83.4434,  85.1201,  86.7967,\n",
       "         88.4734,  90.1501,  91.8268,  93.5034,  95.1801]),\n",
       " <a list of 100 Patch objects>)"
      ]
     },
     "execution_count": 230,
     "metadata": {},
     "output_type": "execute_result"
    },
    {
     "data": {
      "image/png": "[encoded data removed]",
      "text/plain": [
       "<Figure size 432x288 with 1 Axes>"
      ]
     },
     "metadata": {
      "needs_background": "light"
     },
     "output_type": "display_data"
    }
   ],
   "source": [
    "%matplotlib inline\n",
    "\n",
    "from matplotlib import pyplot as pl\n",
    "\n",
    "pl.hist(ivs, bins=100)\n"
   ]
  },
  {
   "cell_type": "raw",
   "metadata": {},
   "source": [
    "95.18011714359442\n",
    "44.2507979270288\n",
    "27.18980399678063\n",
    "9.887480827730782e-07\n",
    "5.79563716924399e-07\n",
    "-6.564938741762731e-07\n",
    "-3.2567213126119685\n",
    "-7.482131380620787\n",
    "-28.6285571437099\n",
    "-37.195860241136856\n",
    "-50.656183591544234\n",
    "-72.48723707456553\n",
    "CPU times: user 630 µs, sys: 235 µs, total: 865 µs\n",
    "Wall time: 658 µs"
   ]
  },
  {
   "cell_type": "markdown",
   "metadata": {},
   "source": [
    "## 完了\n",
    "* 第二回転規約\n",
    "   * 全部第二規約にすると、全部第二規約とした田中プログラムと同じ答えになることを確認。\n",
    "   * 一方で、田中プログラム自体、規準を変更すると振動数が変わるのがとても気になる。\n",
    "   * 回転行列を二種類準備する代わりに、分子内座標を2種類準備することにした。\n",
    "     * xyz→yzxに変えるようにした。\n",
    "     * 角度変換規則(euler_conv)は田中のものと結果的には同じであった。たぶん発想は同じ。\n",
    "     * その場合でも、振動数が微妙に変化する。変化のしかたも同様なので、同じことをやっているにすぎないと思われる。\n",
    "     * ということは、分子内座標で、分子をどういう向きに置くかによって、結果が変わるということ。\n",
    "     * Hessianの計算に関しては、あまり疑う余地がないので、mass weightのあたりしか考えられないのだが…。\n",
    "     * Quenchしてあれば問題がおきないということで合意。Quenchしない場合に変になる理由はわからない。\n",
    "* LJ\n",
    "* 多分子\n",
    "* 周期境界条件\n",
    "* Truncation\n",
    "* 特殊な単位系の廃止\n",
    "* 小さい系(CS2)であれば、現実的な速度で正確な振動を得ることができた。2019-09-26\n",
    "* 整理し、読みやすくする。\n",
    "\n",
    "## 未完\n",
    "\n",
    "* numbaによる高速化\n",
    "* Hessianの式の自動生成\n",
    "* 多成分\n",
    "* 直線分子\n",
    "* 単原子分子\n",
    "* qhaとの比較\n",
    "\n",
    "## 別計画\n",
    "\n",
    "* 数値微分によるHessian計算はどれぐらい現実味があるのか。\n",
    "   * このプログラムがうまく動くことが確認できれば、比較対象に使える。 \n"
   ]
  },
  {
   "cell_type": "code",
   "execution_count": null,
   "metadata": {},
   "outputs": [],
   "source": [
    "intra"
   ]
  },
  {
   "cell_type": "code",
   "execution_count": null,
   "metadata": {},
   "outputs": [],
   "source": [
    "intra[1:3] * intra[1:3]"
   ]
  },
  {
   "cell_type": "code",
   "execution_count": null,
   "metadata": {},
   "outputs": [],
   "source": [
    "np.sum(intra[1:3]**2, axis=0) @ mass"
   ]
  },
  {
   "cell_type": "code",
   "execution_count": null,
   "metadata": {},
   "outputs": [],
   "source": [
    "np.outer(np.array([1,2,3]),np.array([1,2,3]))"
   ]
  },
  {
   "cell_type": "code",
   "execution_count": null,
   "metadata": {},
   "outputs": [],
   "source": [
    "np.diag(np.array([1,1,1]))"
   ]
  },
  {
   "cell_type": "code",
   "execution_count": 121,
   "metadata": {},
   "outputs": [
    {
     "data": {
      "text/plain": [
       "array([0, 0, 0])"
      ]
     },
     "execution_count": 121,
     "metadata": {},
     "output_type": "execute_result"
    }
   ],
   "source": [
    "np.cross(np.array([1,2,3]),np.array([1,2,3]))"
   ]
  },
  {
   "cell_type": "code",
   "execution_count": null,
   "metadata": {},
   "outputs": [],
   "source": []
  }
 ],
 "metadata": {
  "kernelspec": {
   "display_name": "Python 3",
   "language": "python",
   "name": "python3"
  },
  "language_info": {
   "codemirror_mode": {
    "name": "ipython",
    "version": 3
   },
   "file_extension": ".py",
   "mimetype": "text/x-python",
   "name": "python",
   "nbconvert_exporter": "python",
   "pygments_lexer": "ipython3",
   "version": "3.6.5"
  }
 },
 "nbformat": 4,
 "nbformat_minor": 4
}
