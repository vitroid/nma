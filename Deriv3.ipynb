{
 "cells": [
  {
   "cell_type": "markdown",
   "metadata": {},
   "source": [
    "切断関数$T$を掛けた場合の導出。非常に複雑になるので、変数名のつけかたに注意する。"
   ]
  },
  {
   "cell_type": "code",
   "execution_count": 12,
   "metadata": {},
   "outputs": [],
   "source": [
    "from sympy import *\n",
    "\n",
    "# おまじない\n",
    "init_printing()\n",
    "\n",
    "R_i = Matrix(3,1,symbols('x_i,y_i,z_i'))\n",
    "R_j = Matrix(3,1,symbols('x_j,y_j,z_j'))\n",
    "R_k = Matrix(3,1,symbols('x_k,y_k,z_k'))\n"
   ]
  },
  {
   "cell_type": "code",
   "execution_count": 11,
   "metadata": {},
   "outputs": [],
   "source": [
    "h_3 = Function('h_3')"
   ]
  },
  {
   "cell_type": "code",
   "execution_count": 26,
   "metadata": {},
   "outputs": [],
   "source": [
    "R_ij = R_j - R_i\n",
    "R_ik = R_k - R_i\n",
    "r_ij, r_ik = symbols('r_ij r_ik')\n"
   ]
  },
  {
   "cell_type": "markdown",
   "metadata": {},
   "source": [
    "$h_3$の引数には角度が含まれるものの、角度も結局はベクトルから計算されるので、実質的には2つのベクトルの関数とみなして良い。また、Stillinger-Weberポテンシャルの場合には、式の中で$\\cos \\theta$の形でしかでてこないので、実質上はθを使わなくていい。"
   ]
  },
  {
   "cell_type": "markdown",
   "metadata": {},
   "source": [
    "S-Wで面倒なのは、むしろ$h_3$の微分。でもこれは`sympy`にまかせてしまえる。"
   ]
  },
  {
   "cell_type": "code",
   "execution_count": 17,
   "metadata": {},
   "outputs": [],
   "source": [
    "L, G, A = symbols('L G A')\n",
    "H3 = L*exp((G/(r_ij-A))+(G/(r_ik-A)))*((R_ij.T*R_ik)[0]/(r_ij*r_ik)*3+1)/3"
   ]
  },
  {
   "cell_type": "code",
   "execution_count": 18,
   "metadata": {},
   "outputs": [
    {
     "data": {
      "image/png": "[encoded data removed]",
      "text/latex": [
       "$$\\frac{L \\left(\\frac{3 \\left(\\left(- x_{i} + x_{j}\\right) \\left(- x_{i} + x_{k}\\right) + \\left(- y_{i} + y_{j}\\right) \\left(- y_{i} + y_{k}\\right) + \\left(- z_{i} + z_{j}\\right) \\left(- z_{i} + z_{k}\\right)\\right)}{\\sqrt{\\left(- x_{i} + x_{j}\\right)^{2} + \\left(- y_{i} + y_{j}\\right)^{2} + \\left(- z_{i} + z_{j}\\right)^{2}} \\sqrt{\\left(- x_{i} + x_{k}\\right)^{2} + \\left(- y_{i} + y_{k}\\right)^{2} + \\left(- z_{i} + z_{k}\\right)^{2}}} + 1\\right) e^{\\frac{G}{- A + \\sqrt{\\left(- x_{i} + x_{k}\\right)^{2} + \\left(- y_{i} + y_{k}\\right)^{2} + \\left(- z_{i} + z_{k}\\right)^{2}}} + \\frac{G}{- A + \\sqrt{\\left(- x_{i} + x_{j}\\right)^{2} + \\left(- y_{i} + y_{j}\\right)^{2} + \\left(- z_{i} + z_{j}\\right)^{2}}}}}{3}$$"
      ],
      "text/plain": [
       "                                                                              \n",
       "                                                                              \n",
       "                                                                              \n",
       "                                                                              \n",
       "  ⎛        3⋅((-xᵢ + x_j)⋅(-xᵢ + xₖ) + (-yᵢ + y_j)⋅(-yᵢ + yₖ) + (-zᵢ + z_j)⋅(-\n",
       "L⋅⎜───────────────────────────────────────────────────────────────────────────\n",
       "  ⎜   ____________________________________________    ________________________\n",
       "  ⎜  ╱            2              2              2    ╱           2            \n",
       "  ⎝╲╱  (-xᵢ + x_j)  + (-yᵢ + y_j)  + (-zᵢ + z_j)  ⋅╲╱  (-xᵢ + xₖ)  + (-yᵢ + yₖ\n",
       "──────────────────────────────────────────────────────────────────────────────\n",
       "                                                                              \n",
       "\n",
       "                                                G                             \n",
       "                        ───────────────────────────────────────────────── + ──\n",
       "                                _________________________________________     \n",
       "                               ╱           2             2             2      \n",
       "zᵢ + zₖ))            ⎞  -A + ╲╱  (-xᵢ + xₖ)  + (-yᵢ + yₖ)  + (-zᵢ + zₖ)     -A\n",
       "───────────────── + 1⎟⋅ℯ                                                      \n",
       "_________________    ⎟                                                        \n",
       " 2             2     ⎟                                                        \n",
       ")  + (-zᵢ + zₖ)      ⎠                                                        \n",
       "──────────────────────────────────────────────────────────────────────────────\n",
       "                        3                                                     \n",
       "\n",
       "                       G                          \n",
       "──────────────────────────────────────────────────\n",
       "      ____________________________________________\n",
       "     ╱            2              2              2 \n",
       " + ╲╱  (-xᵢ + x_j)  + (-yᵢ + y_j)  + (-zᵢ + z_j)  \n",
       "                                                  \n",
       "                                                  \n",
       "                                                  \n",
       "                                                  \n",
       "──────────────────────────────────────────────────\n",
       "                                                  "
      ]
     },
     "execution_count": 18,
     "metadata": {},
     "output_type": "execute_result"
    }
   ],
   "source": [
    "H3"
   ]
  },
  {
   "cell_type": "markdown",
   "metadata": {},
   "source": [
    "`r_ij`に関する部分と、`R_ij`がでてくる部分を分離したいね。"
   ]
  },
  {
   "cell_type": "code",
   "execution_count": 28,
   "metadata": {},
   "outputs": [
    {
     "data": {
      "image/png": "[encoded data removed]",
      "text/latex": [
       "$$\\frac{L e^{\\frac{G}{- A + r_{ik}} + \\frac{G}{- A + r_{ij}}}}{3} + \\frac{L \\left(\\left(- x_{i} + x_{j}\\right) \\left(- x_{i} + x_{k}\\right) + \\left(- y_{i} + y_{j}\\right) \\left(- y_{i} + y_{k}\\right) + \\left(- z_{i} + z_{j}\\right) \\left(- z_{i} + z_{k}\\right)\\right) e^{\\frac{G}{- A + r_{ik}} + \\frac{G}{- A + r_{ij}}}}{r_{ij} r_{ik}}$$"
      ],
      "text/plain": [
       "      G           G                                                           \n",
       "   ──────── + ─────────                                                       \n",
       "   -A + rᵢₖ   -A + r_ij                                                       \n",
       "L⋅ℯ                       L⋅((-xᵢ + x_j)⋅(-xᵢ + xₖ) + (-yᵢ + y_j)⋅(-yᵢ + yₖ) +\n",
       "─────────────────────── + ────────────────────────────────────────────────────\n",
       "           3                                                           r_ij⋅rᵢ\n",
       "\n",
       "                             G           G    \n",
       "                          ──────── + ─────────\n",
       "                          -A + rᵢₖ   -A + r_ij\n",
       " (-zᵢ + z_j)⋅(-zᵢ + zₖ))⋅ℯ                    \n",
       "──────────────────────────────────────────────\n",
       "ₖ                                             "
      ]
     },
     "execution_count": 28,
     "metadata": {},
     "output_type": "execute_result"
    }
   ],
   "source": [
    "H_a = exp((G/(r_ij-A))+(G/(r_ik-A)))\n",
    "H_b = (R_ij.T*R_ik)[0] #ベクトルの要素が関わる部分\n",
    "H_c = H_a / (r_ij*r_ik)\n",
    "L*H_c*H_b+L*H_a/3"
   ]
  },
  {
   "cell_type": "code",
   "execution_count": 71,
   "metadata": {},
   "outputs": [],
   "source": [
    "# 一階微分を書いてみる。\n",
    "r_2ij = (R_ij.T*R_ij)[0]\n",
    "R_ji = R_i - R_j\n",
    "r_2ij2 = (R_ji.T*R_ji)[0]\n",
    "\n",
    "# r_ijを介した微分\n",
    "def diffr(f,x):\n",
    "    return diff(sqrt(r_2ij),x)*diff(f,r_ij)\n",
    "\n",
    "# r_ijを介した二階微分\n",
    "def diffr2(f,x,y):\n",
    "    return diff(sqrt(r_2ij),x,y)*diff(f,r_ij)+diff(sqrt(r_2ij),x)*diff(sqrt(r_2ij),y)*diff(f,r_ij,r_ij)"
   ]
  },
  {
   "cell_type": "code",
   "execution_count": 72,
   "metadata": {},
   "outputs": [
    {
     "data": {
      "image/png": "[encoded data removed]",
      "text/latex": [
       "$$- \\frac{G H_{a} L \\left(x_{i} - x_{j}\\right)}{3 r_{ij} \\left(- A + r_{ij}\\right)^{2}} + L \\left(\\frac{H_{a} \\left(2 x_{i} - x_{j} - x_{k}\\right)}{r_{ij} r_{ik}} + \\frac{H_{b} \\left(x_{i} - x_{j}\\right) \\left(- \\frac{G H_{a}}{r_{ij} r_{ik} \\left(- A + r_{ij}\\right)^{2}} - \\frac{H_{a}}{r_{ij}^{2} r_{ik}}\\right)}{r_{ij}}\\right)$$"
      ],
      "text/plain": [
       "                          ⎛                                      ⎛           G\n",
       "                          ⎜                       H_b⋅(xᵢ - x_j)⋅⎜- ──────────\n",
       "                          ⎜                                      ⎜            \n",
       "   G⋅Hₐ⋅L⋅(xᵢ - x_j)      ⎜Hₐ⋅(2⋅xᵢ - x_j - xₖ)                  ⎝  r_ij⋅rᵢₖ⋅(\n",
       "- ─────────────────── + L⋅⎜──────────────────── + ────────────────────────────\n",
       "                    2     ⎝      r_ij⋅rᵢₖ                                 r_ij\n",
       "  3⋅r_ij⋅(-A + r_ij)                                                          \n",
       "\n",
       "⋅Hₐ               Hₐ   ⎞⎞\n",
       "─────────── - ─────────⎟⎟\n",
       "          2       2    ⎟⎟\n",
       "-A + r_ij)    r_ij ⋅rᵢₖ⎠⎟\n",
       "────────────────────────⎟\n",
       "                        ⎠\n",
       "                         "
      ]
     },
     "execution_count": 72,
     "metadata": {},
     "output_type": "execute_result"
    }
   ],
   "source": [
    "# 中心分子、同じ変数\n",
    "D = L*(diffr(H_c,R_i[0])*H_b + H_c*diff(H_b, R_i[0])) + L/3*diffr(H_a, R_i[0])\n",
    "D = D.subs(sqrt(r_2ij), r_ij)\n",
    "D = D.subs(H_b, 'H_b')\n",
    "D = D.subs(H_a, 'H_a')\n",
    "dxi = D\n",
    "D"
   ]
  },
  {
   "cell_type": "code",
   "execution_count": 52,
   "metadata": {},
   "outputs": [
    {
     "data": {
      "image/png": "[encoded data removed]",
      "text/latex": [
       "$$- \\frac{G H_{a} L \\left(- x_{i} + x_{j}\\right)}{3 r_{ij} \\left(- A + r_{ij}\\right)^{2}} + L \\left(\\frac{H_{a} \\left(- x_{i} + x_{k}\\right)}{r_{ij} r_{ik}} + \\frac{H_{b} \\left(- x_{i} + x_{j}\\right) \\left(- \\frac{G H_{a}}{r_{ij} r_{ik} \\left(- A + r_{ij}\\right)^{2}} - \\frac{H_{a}}{r_{ij}^{2} r_{ik}}\\right)}{r_{ij}}\\right)$$"
      ],
      "text/plain": [
       "                          ⎛                                ⎛           G⋅Hₐ   \n",
       "                          ⎜                H_b⋅(-xᵢ + x_j)⋅⎜- ────────────────\n",
       "                          ⎜                                ⎜                  \n",
       "   G⋅Hₐ⋅L⋅(-xᵢ + x_j)     ⎜Hₐ⋅(-xᵢ + xₖ)                   ⎝  r_ij⋅rᵢₖ⋅(-A + r\n",
       "- ─────────────────── + L⋅⎜───────────── + ───────────────────────────────────\n",
       "                    2     ⎝   r_ij⋅rᵢₖ                              r_ij      \n",
       "  3⋅r_ij⋅(-A + r_ij)                                                          \n",
       "\n",
       "            Hₐ   ⎞⎞\n",
       "───── - ─────────⎟⎟\n",
       "    2       2    ⎟⎟\n",
       "_ij)    r_ij ⋅rᵢₖ⎠⎟\n",
       "──────────────────⎟\n",
       "                  ⎠\n",
       "                   "
      ]
     },
     "execution_count": 52,
     "metadata": {},
     "output_type": "execute_result"
    }
   ],
   "source": [
    "# 中心でない分子での微分は?\n",
    "D = L*(diffr(H_c,R_j[0])*H_b + H_c*diff(H_b, R_j[0])) + L/3*diffr(H_a, R_j[0])\n",
    "D = D.subs(sqrt(r_2ij), r_ij)\n",
    "D = D.subs(sqrt(r_2ij2), r_ij)\n",
    "D = D.subs(H_b, 'H_b')\n",
    "D = D.subs(H_a, 'H_a')\n",
    "dxj = D\n",
    "D\n"
   ]
  },
  {
   "cell_type": "code",
   "execution_count": 74,
   "metadata": {},
   "outputs": [
    {
     "data": {
      "image/png": "[encoded data removed]",
      "text/latex": [
       "$$\\frac{2 H_{a} L}{r_{ij} r_{ik}} + H_{b} L \\left(\\frac{\\left(1 - \\frac{\\left(x_{i} - x_{j}\\right)^{2}}{r_{ij}^{2}}\\right) \\left(- \\frac{G H_{a}}{r_{ij} r_{ik} \\left(- A + r_{ij}\\right)^{2}} - \\frac{H_{a}}{r_{ij}^{2} r_{ik}}\\right)}{r_{ij}} + \\frac{\\left(x_{i} - x_{j}\\right)^{2} \\left(\\frac{G^{2}}{\\left(A - r_{ij}\\right)^{4}} - \\frac{2 G}{\\left(A - r_{ij}\\right)^{3}} + \\frac{2 G}{r_{ij} \\left(A - r_{ij}\\right)^{2}} + \\frac{2}{r_{ij}^{2}}\\right) e^{- B}}{r_{ij}^{3} r_{ik}}\\right) + \\frac{L \\left(- \\frac{G H_{a} \\left(1 - \\frac{\\left(x_{i} - x_{j}\\right)^{2}}{r_{ij}^{2}}\\right)}{r_{ij} \\left(- A + r_{ij}\\right)^{2}} + \\frac{G \\left(x_{i} - x_{j}\\right)^{2} \\left(\\frac{G}{A - r_{ij}} - 2\\right) e^{- B}}{r_{ij}^{2} \\left(A - r_{ij}\\right)^{3}}\\right)}{3} + \\frac{2 L \\left(x_{i} - x_{j}\\right) \\left(- \\frac{G H_{a}}{r_{ij} r_{ik} \\left(- A + r_{ij}\\right)^{2}} - \\frac{H_{a}}{r_{ij}^{2} r_{ik}}\\right) \\left(2 x_{i} - x_{j} - x_{k}\\right)}{r_{ij}}$$"
      ],
      "text/plain": [
       "                                                                              \n",
       "                                                                              \n",
       "                                                                              \n",
       "                 ⎛⎛              2⎞                                           \n",
       "                 ⎜⎜    (xᵢ - x_j) ⎟ ⎛           G⋅Hₐ               Hₐ   ⎞     \n",
       "                 ⎜⎜1 - ───────────⎟⋅⎜- ───────────────────── - ─────────⎟   (x\n",
       "                 ⎜⎜           2   ⎟ ⎜                      2       2    ⎟     \n",
       " 2⋅Hₐ⋅L          ⎜⎝       r_ij    ⎠ ⎝  r_ij⋅rᵢₖ⋅(-A + r_ij)    r_ij ⋅rᵢₖ⎠     \n",
       "──────── + H_b⋅L⋅⎜─────────────────────────────────────────────────────── + ──\n",
       "r_ij⋅rᵢₖ         ⎜                          r_ij                              \n",
       "                 ⎝                                                            \n",
       "\n",
       "                                                                          ⎛   \n",
       "                                                                          ⎜   \n",
       "                                                                          ⎜  G\n",
       "          ⎛      2                                             ⎞    ⎞     ⎜   \n",
       "        2 ⎜     G            2⋅G             2⋅G            2  ⎟  -B⎟     ⎜   \n",
       "ᵢ - x_j) ⋅⎜─────────── - ─────────── + ──────────────── + ─────⎟⋅ℯ  ⎟   L⋅⎜- ─\n",
       "          ⎜          4             3                  2       2⎟    ⎟     ⎜   \n",
       "          ⎝(A - r_ij)    (A - r_ij)    r_ij⋅(A - r_ij)    r_ij ⎠    ⎟     ⎝   \n",
       "────────────────────────────────────────────────────────────────────⎟ + ──────\n",
       "                                3                                   ⎟         \n",
       "                            r_ij ⋅rᵢₖ                               ⎠         \n",
       "\n",
       "    ⎛              2⎞                                   ⎞                     \n",
       "    ⎜    (xᵢ - x_j) ⎟                                   ⎟                     \n",
       "⋅Hₐ⋅⎜1 - ───────────⎟               2 ⎛   G        ⎞  -B⎟                     \n",
       "    ⎜           2   ⎟   G⋅(xᵢ - x_j) ⋅⎜──────── - 2⎟⋅ℯ  ⎟                     \n",
       "    ⎝       r_ij    ⎠                 ⎝A - r_ij    ⎠    ⎟                  ⎛  \n",
       "───────────────────── + ────────────────────────────────⎟   2⋅L⋅(xᵢ - x_j)⋅⎜- \n",
       "                 2                 2           3        ⎟                  ⎜  \n",
       " r_ij⋅(-A + r_ij)              r_ij ⋅(A - r_ij)         ⎠                  ⎝  \n",
       "───────────────────────────────────────────────────────── + ──────────────────\n",
       "                         3                                                    \n",
       "                                                                              \n",
       "\n",
       "                                                    \n",
       "                                                    \n",
       "                                                    \n",
       "                                                    \n",
       "         G⋅Hₐ               Hₐ   ⎞                  \n",
       "───────────────────── - ─────────⎟⋅(2⋅xᵢ - x_j - xₖ)\n",
       "                    2       2    ⎟                  \n",
       "r_ij⋅rᵢₖ⋅(-A + r_ij)    r_ij ⋅rᵢₖ⎠                  \n",
       "────────────────────────────────────────────────────\n",
       "               r_ij                                 \n",
       "                                                    "
      ]
     },
     "execution_count": 74,
     "metadata": {},
     "output_type": "execute_result"
    }
   ],
   "source": [
    "# 二階微分。中心分子、同一変数で二階。\n",
    "B = Symbol('B')\n",
    "\n",
    "D1 = L*(diffr2(H_c,R_i[0],R_i[0])*H_b)\n",
    "D2 = L*(diffr(H_c,R_i[0])*diff(H_b, R_i[0]))\n",
    "D3 = L*(diffr(H_c,R_i[0])*diff(H_b, R_i[0]))\n",
    "D4 = L*H_c*diff(H_b, R_i[0], R_i[0])\n",
    "D5 = L/3*diffr2(H_a, R_i[0], R_i[0])\n",
    "D = D1+D2+D3+D4+D5\n",
    "D = D.subs(sqrt(r_2ij2), r_ij)\n",
    "D = D.subs(sqrt(r_2ij), r_ij)\n",
    "D = D.subs(H_b, 'H_b')\n",
    "D = D.subs(H_a, 'H_a')\n",
    "# D = D.subs(exp(-G*(1/(A-r_ik)+1/(A-r_ij))), '(1/H_a)')\n",
    "D = D.subs(G*(1/(A-r_ik)+1/(A-r_ij)), B)\n",
    "dxixi = D\n",
    "D"
   ]
  },
  {
   "cell_type": "markdown",
   "metadata": {},
   "source": [
    "ほかの変数での微分もすべて同じ書き方で生成できるので省略する。\n",
    "* 中心中心ii\n",
    "  * 同じ軸\n",
    "  * 異なる軸\n",
    "* 中心周辺ij\n",
    "  * 同じ軸\n",
    "  * 異なる軸\n",
    "* 周辺周辺jj\n",
    "  * 同じ軸\n",
    "  * 異なる軸\n",
    "* 周辺周辺jk\n",
    "  * 同じ軸\n",
    "  * 異なる軸\n",
    "\n",
    "の8種類の相互作用がある。"
   ]
  },
  {
   "cell_type": "code",
   "execution_count": 85,
   "metadata": {},
   "outputs": [
    {
     "name": "stdout",
     "output_type": "stream",
     "text": [
      "!******************************************************************************\n",
      "!*                       Code generated with sympy 1.3                        *\n",
      "!*                                                                            *\n",
      "!*              See http://www.sympy.org/ for more information.               *\n",
      "!*                                                                            *\n",
      "!*                         This file is part of 'NMA'                         *\n",
      "!******************************************************************************\n",
      "\n",
      "REAL*8 function dxixi(A, B, G, H_a, H_b, L, r_ij, r_ik, x_i, x_j, x_k, y_i, &\n",
      "      y_j, y_k)\n",
      "implicit none\n",
      "REAL*8, intent(in) :: A\n",
      "REAL*8, intent(in) :: B\n",
      "REAL*8, intent(in) :: G\n",
      "REAL*8, intent(in) :: H_a\n",
      "REAL*8, intent(in) :: H_b\n",
      "REAL*8, intent(in) :: L\n",
      "REAL*8, intent(in) :: r_ij\n",
      "REAL*8, intent(in) :: r_ik\n",
      "REAL*8, intent(in) :: x_i\n",
      "REAL*8, intent(in) :: x_j\n",
      "REAL*8, intent(in) :: x_k\n",
      "REAL*8, intent(in) :: y_i\n",
      "REAL*8, intent(in) :: y_j\n",
      "REAL*8, intent(in) :: y_k\n",
      "\n",
      "dxixi = H_b*L*(-(x_i - x_j)*(y_i - y_j)*(-G*H_a/(r_ij*r_ik*(-A + r_ij)** &\n",
      "      2) - H_a/(r_ij**2*r_ik))/r_ij**3 + (x_i - x_j)*(y_i - y_j)*(G**2/ &\n",
      "      (A - r_ij)**4 - 2*G/(A - r_ij)**3 + 2*G/(r_ij*(A - r_ij)**2) + 2/ &\n",
      "      r_ij**2)*exp(-B)/(r_ij**3*r_ik)) + (1.0d0/3.0d0)*L*(G*H_a*(x_i - &\n",
      "      x_j)*(y_i - y_j)/(r_ij**3*(-A + r_ij)**2) + G*(x_i - x_j)*(y_i - &\n",
      "      y_j)*(G/(A - r_ij) - 2)*exp(-B)/(r_ij**2*(A - r_ij)**3)) + L*(x_i &\n",
      "      - x_j)*(-G*H_a/(r_ij*r_ik*(-A + r_ij)**2) - H_a/(r_ij**2*r_ik))*( &\n",
      "      2*y_i - y_j - y_k)/r_ij + L*(y_i - y_j)*(-G*H_a/(r_ij*r_ik*(-A + &\n",
      "      r_ij)**2) - H_a/(r_ij**2*r_ik))*(2*x_i - x_j - x_k)/r_ij\n",
      "\n",
      "end function\n",
      "\n"
     ]
    }
   ],
   "source": [
    "from sympy.utilities.codegen import codegen\n",
    "result = codegen([('dxixi', dxixi)],\n",
    "                 prefix='Deriv3',\n",
    "                 language='f95',\n",
    "                 project='NMA',\n",
    "                 to_files=False)\n",
    "print(result[0][1])"
   ]
  },
  {
   "cell_type": "code",
   "execution_count": null,
   "metadata": {},
   "outputs": [],
   "source": []
  }
 ],
 "metadata": {
  "kernelspec": {
   "display_name": "Python 3",
   "language": "python",
   "name": "python3"
  },
  "language_info": {
   "codemirror_mode": {
    "name": "ipython",
    "version": 3
   },
   "file_extension": ".py",
   "mimetype": "text/x-python",
   "name": "python",
   "nbconvert_exporter": "python",
   "pygments_lexer": "ipython3",
   "version": "3.7.3"
  }
 },
 "nbformat": 4,
 "nbformat_minor": 2
}
